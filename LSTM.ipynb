{
 "cells": [
  {
   "cell_type": "code",
   "execution_count": 1,
   "metadata": {
    "collapsed": true
   },
   "outputs": [],
   "source": [
    "import numpy\n",
    "import pandas as pd\n",
    "from sklearn.linear_model import LogisticRegression\n",
    "from sklearn.metrics import confusion_matrix,roc_curve,roc_auc_score\n",
    "from sklearn import preprocessing\n",
    "import matplotlib.pyplot as plt\n",
    "import seaborn as sns\n",
    "sns.set(style=\"white\")\n",
    "sns.set(style=\"whitegrid\", color_codes=True)"
   ]
  },
  {
   "cell_type": "markdown",
   "metadata": {},
   "source": [
    "# Hypertension patients table layout"
   ]
  },
  {
   "cell_type": "code",
   "execution_count": 2,
   "metadata": {
    "collapsed": false
   },
   "outputs": [
    {
     "data": {
      "text/html": [
       "<div>\n",
       "<table border=\"1\" class=\"dataframe\">\n",
       "  <thead>\n",
       "    <tr style=\"text-align: right;\">\n",
       "      <th></th>\n",
       "      <th>subject_id</th>\n",
       "      <th>hadm_id</th>\n",
       "      <th>hypertension</th>\n",
       "      <th>train</th>\n",
       "    </tr>\n",
       "  </thead>\n",
       "  <tbody>\n",
       "    <tr>\n",
       "      <th>0</th>\n",
       "      <td>73037</td>\n",
       "      <td>192662</td>\n",
       "      <td>1</td>\n",
       "      <td>1</td>\n",
       "    </tr>\n",
       "    <tr>\n",
       "      <th>1</th>\n",
       "      <td>25763</td>\n",
       "      <td>195141</td>\n",
       "      <td>1</td>\n",
       "      <td>1</td>\n",
       "    </tr>\n",
       "    <tr>\n",
       "      <th>2</th>\n",
       "      <td>40310</td>\n",
       "      <td>157609</td>\n",
       "      <td>0</td>\n",
       "      <td>1</td>\n",
       "    </tr>\n",
       "    <tr>\n",
       "      <th>3</th>\n",
       "      <td>65416</td>\n",
       "      <td>171418</td>\n",
       "      <td>1</td>\n",
       "      <td>1</td>\n",
       "    </tr>\n",
       "    <tr>\n",
       "      <th>4</th>\n",
       "      <td>26263</td>\n",
       "      <td>105662</td>\n",
       "      <td>1</td>\n",
       "      <td>1</td>\n",
       "    </tr>\n",
       "  </tbody>\n",
       "</table>\n",
       "</div>"
      ],
      "text/plain": [
       "   subject_id  hadm_id  hypertension  train\n",
       "0       73037   192662             1      1\n",
       "1       25763   195141             1      1\n",
       "2       40310   157609             0      1\n",
       "3       65416   171418             1      1\n",
       "4       26263   105662             1      1"
      ]
     },
     "execution_count": 2,
     "metadata": {},
     "output_type": "execute_result"
    }
   ],
   "source": [
    "hypertension_patients = pd.read_csv(\"/home/pulkitmathur1800/csc2548_ml4h/hypertension_patients\")\n",
    "hypertension_patients.head()"
   ]
  },
  {
   "cell_type": "markdown",
   "metadata": {},
   "source": [
    "# Hypertension charts table layout"
   ]
  },
  {
   "cell_type": "code",
   "execution_count": 3,
   "metadata": {
    "collapsed": false
   },
   "outputs": [
    {
     "data": {
      "text/html": [
       "<div>\n",
       "<table border=\"1\" class=\"dataframe\">\n",
       "  <thead>\n",
       "    <tr style=\"text-align: right;\">\n",
       "      <th></th>\n",
       "      <th>subject_id</th>\n",
       "      <th>hadm_id</th>\n",
       "      <th>charttime</th>\n",
       "      <th>itemid</th>\n",
       "      <th>valuenum</th>\n",
       "    </tr>\n",
       "  </thead>\n",
       "  <tbody>\n",
       "    <tr>\n",
       "      <th>0</th>\n",
       "      <td>36</td>\n",
       "      <td>165660</td>\n",
       "      <td>2134-05-12 13:00:00</td>\n",
       "      <td>220045</td>\n",
       "      <td>86.0</td>\n",
       "    </tr>\n",
       "    <tr>\n",
       "      <th>1</th>\n",
       "      <td>36</td>\n",
       "      <td>165660</td>\n",
       "      <td>2134-05-12 13:00:00</td>\n",
       "      <td>220181</td>\n",
       "      <td>84.0</td>\n",
       "    </tr>\n",
       "    <tr>\n",
       "      <th>2</th>\n",
       "      <td>36</td>\n",
       "      <td>165660</td>\n",
       "      <td>2134-05-12 13:00:00</td>\n",
       "      <td>220210</td>\n",
       "      <td>21.0</td>\n",
       "    </tr>\n",
       "    <tr>\n",
       "      <th>3</th>\n",
       "      <td>36</td>\n",
       "      <td>165660</td>\n",
       "      <td>2134-05-12 14:00:00</td>\n",
       "      <td>220045</td>\n",
       "      <td>85.0</td>\n",
       "    </tr>\n",
       "    <tr>\n",
       "      <th>4</th>\n",
       "      <td>36</td>\n",
       "      <td>165660</td>\n",
       "      <td>2134-05-12 14:00:00</td>\n",
       "      <td>220181</td>\n",
       "      <td>65.0</td>\n",
       "    </tr>\n",
       "  </tbody>\n",
       "</table>\n",
       "</div>"
      ],
      "text/plain": [
       "   subject_id  hadm_id            charttime  itemid  valuenum\n",
       "0          36   165660  2134-05-12 13:00:00  220045      86.0\n",
       "1          36   165660  2134-05-12 13:00:00  220181      84.0\n",
       "2          36   165660  2134-05-12 13:00:00  220210      21.0\n",
       "3          36   165660  2134-05-12 14:00:00  220045      85.0\n",
       "4          36   165660  2134-05-12 14:00:00  220181      65.0"
      ]
     },
     "execution_count": 3,
     "metadata": {},
     "output_type": "execute_result"
    }
   ],
   "source": [
    "hypertension_charts = pd.read_csv(\"/home/pulkitmathur1800/csc2548_ml4h/hypertension_charts\")\n",
    "hypertension_charts.head()"
   ]
  },
  {
   "cell_type": "code",
   "execution_count": 4,
   "metadata": {
    "collapsed": true
   },
   "outputs": [],
   "source": [
    "#220045\n",
    "def filter(itemid):\n",
    "    filtered_data = hypertension_charts.loc[hypertension_charts['itemid'] == itemid]\n",
    "    #removing patients with fewer than 2 measurements\n",
    "    temp = pd.core.frame.DataFrame(filtered_data.groupby(['subject_id','hadm_id'],as_index = False).valuenum.agg(['count'])).reset_index() \n",
    "    temp = temp.loc[temp['count']<2]\n",
    "    filtered_data = filtered_data.loc[~(filtered_data['subject_id'].isin(temp['subject_id']) & filtered_data['hadm_id'].isin(temp['hadm_id']))]\n",
    "    \n",
    "    #preparing the data for LSTM\n",
    "    filtered_data_lstm = filtered_data\n",
    "    filtered_data_lstm = pd.core.frame.DataFrame(filtered_data_lstm.groupby(['subject_id','hadm_id']).valuenum.apply(list)).reset_index()\n",
    "    filtered_data_lstm = pd.merge(hypertension_patients, filtered_data_lstm, on=['subject_id','hadm_id'], how='inner')\n",
    "    filtered_data_lstm = filtered_data_lstm.drop(['subject_id','hadm_id'],axis=1)\n",
    "\n",
    "    #finding mean,max and min\n",
    "    filtered_data = pd.core.frame.DataFrame(filtered_data.groupby(['subject_id','hadm_id']).valuenum.agg(['mean','max','min'])).reset_index()\n",
    "    filtered_data = pd.merge(hypertension_patients, filtered_data, on=['subject_id','hadm_id'], how='inner')\n",
    "    filtered_data = filtered_data.drop(['subject_id','hadm_id'],axis=1)\n",
    "    filtered_data_lr = filtered_data\n",
    "    return filtered_data_lr,filtered_data_lstm"
   ]
  },
  {
   "cell_type": "code",
   "execution_count": 5,
   "metadata": {
    "collapsed": true
   },
   "outputs": [],
   "source": [
    "def logistic_regression(data):\n",
    "    #spliting the training and testing data\n",
    "    X = data.drop(['hypertension'],axis=1)\n",
    "    X_train,X_test = X.loc[X['train']==1],X.loc[X['train']==0]\n",
    "    X_train,X_test = X_train.drop(['train'],axis=1),X_test.drop(['train'],axis=1)\n",
    "    Y = data[['hypertension','train']] \n",
    "    Y_train,Y_test = Y.loc[Y['train']==1],Y.loc[Y['train']==0]\n",
    "    Y_train,Y_test = Y_train.drop(['train'],axis=1).values.squeeze(),Y_test.drop(['train'],axis=1).values.squeeze()\n",
    "    \n",
    "    #training the model\n",
    "    classifier = LogisticRegression(random_state=0,penalty=\"l2\", C=1)\n",
    "    classifier.fit(X_train, Y_train)\n",
    "    Y_pred = classifier.predict(X_test)\n",
    "    Y_test_prob = classifier.predict_proba(X_test)\n",
    "    print(\"AUC: \",roc_auc_score(Y_test,Y_test_prob[:,1])*100)"
   ]
  },
  {
   "cell_type": "code",
   "execution_count": 6,
   "metadata": {
    "collapsed": false
   },
   "outputs": [
    {
     "data": {
      "text/html": [
       "<div>\n",
       "<table border=\"1\" class=\"dataframe\">\n",
       "  <thead>\n",
       "    <tr style=\"text-align: right;\">\n",
       "      <th></th>\n",
       "      <th>hypertension</th>\n",
       "      <th>train</th>\n",
       "      <th>mean</th>\n",
       "      <th>max</th>\n",
       "      <th>min</th>\n",
       "    </tr>\n",
       "  </thead>\n",
       "  <tbody>\n",
       "    <tr>\n",
       "      <th>0</th>\n",
       "      <td>1</td>\n",
       "      <td>1</td>\n",
       "      <td>91.714286</td>\n",
       "      <td>107.0</td>\n",
       "      <td>67.0</td>\n",
       "    </tr>\n",
       "    <tr>\n",
       "      <th>1</th>\n",
       "      <td>0</td>\n",
       "      <td>1</td>\n",
       "      <td>111.732143</td>\n",
       "      <td>152.0</td>\n",
       "      <td>80.0</td>\n",
       "    </tr>\n",
       "    <tr>\n",
       "      <th>2</th>\n",
       "      <td>1</td>\n",
       "      <td>1</td>\n",
       "      <td>96.074074</td>\n",
       "      <td>108.0</td>\n",
       "      <td>78.0</td>\n",
       "    </tr>\n",
       "    <tr>\n",
       "      <th>3</th>\n",
       "      <td>0</td>\n",
       "      <td>0</td>\n",
       "      <td>71.750000</td>\n",
       "      <td>84.0</td>\n",
       "      <td>60.0</td>\n",
       "    </tr>\n",
       "    <tr>\n",
       "      <th>4</th>\n",
       "      <td>0</td>\n",
       "      <td>1</td>\n",
       "      <td>72.875000</td>\n",
       "      <td>111.0</td>\n",
       "      <td>32.0</td>\n",
       "    </tr>\n",
       "  </tbody>\n",
       "</table>\n",
       "</div>"
      ],
      "text/plain": [
       "   hypertension  train        mean    max   min\n",
       "0             1      1   91.714286  107.0  67.0\n",
       "1             0      1  111.732143  152.0  80.0\n",
       "2             1      1   96.074074  108.0  78.0\n",
       "3             0      0   71.750000   84.0  60.0\n",
       "4             0      1   72.875000  111.0  32.0"
      ]
     },
     "execution_count": 6,
     "metadata": {},
     "output_type": "execute_result"
    }
   ],
   "source": [
    "heart_rate_data_lr, heart_rate_data_lstm= filter(220045)\n",
    "heart_rate_data_lr.head()"
   ]
  },
  {
   "cell_type": "code",
   "execution_count": 45,
   "metadata": {
    "collapsed": false
   },
   "outputs": [
    {
     "name": "stdout",
     "output_type": "stream",
     "text": [
      "AUC:  51.2145890712\n"
     ]
    }
   ],
   "source": [
    "logistic_regression(heart_rate_data_lr)"
   ]
  },
  {
   "cell_type": "code",
   "execution_count": 36,
   "metadata": {
    "collapsed": false
   },
   "outputs": [
    {
     "data": {
      "text/html": [
       "<div>\n",
       "<table border=\"1\" class=\"dataframe\">\n",
       "  <thead>\n",
       "    <tr style=\"text-align: right;\">\n",
       "      <th></th>\n",
       "      <th>hypertension</th>\n",
       "      <th>train</th>\n",
       "      <th>mean</th>\n",
       "      <th>max</th>\n",
       "      <th>min</th>\n",
       "    </tr>\n",
       "  </thead>\n",
       "  <tbody>\n",
       "    <tr>\n",
       "      <th>0</th>\n",
       "      <td>1</td>\n",
       "      <td>1</td>\n",
       "      <td>23.604167</td>\n",
       "      <td>33.0</td>\n",
       "      <td>17.0</td>\n",
       "    </tr>\n",
       "    <tr>\n",
       "      <th>1</th>\n",
       "      <td>0</td>\n",
       "      <td>1</td>\n",
       "      <td>20.392857</td>\n",
       "      <td>43.0</td>\n",
       "      <td>5.0</td>\n",
       "    </tr>\n",
       "    <tr>\n",
       "      <th>2</th>\n",
       "      <td>1</td>\n",
       "      <td>1</td>\n",
       "      <td>19.692308</td>\n",
       "      <td>27.0</td>\n",
       "      <td>12.0</td>\n",
       "    </tr>\n",
       "    <tr>\n",
       "      <th>3</th>\n",
       "      <td>0</td>\n",
       "      <td>0</td>\n",
       "      <td>21.333333</td>\n",
       "      <td>26.0</td>\n",
       "      <td>16.0</td>\n",
       "    </tr>\n",
       "    <tr>\n",
       "      <th>4</th>\n",
       "      <td>0</td>\n",
       "      <td>1</td>\n",
       "      <td>23.500000</td>\n",
       "      <td>32.0</td>\n",
       "      <td>15.0</td>\n",
       "    </tr>\n",
       "  </tbody>\n",
       "</table>\n",
       "</div>"
      ],
      "text/plain": [
       "   hypertension  train       mean   max   min\n",
       "0             1      1  23.604167  33.0  17.0\n",
       "1             0      1  20.392857  43.0   5.0\n",
       "2             1      1  19.692308  27.0  12.0\n",
       "3             0      0  21.333333  26.0  16.0\n",
       "4             0      1  23.500000  32.0  15.0"
      ]
     },
     "execution_count": 36,
     "metadata": {},
     "output_type": "execute_result"
    }
   ],
   "source": [
    "respiratory_rate_data_lr, respiratory_rate_data_lstm= filter(220210)\n",
    "respiratory_rate_data_lr.head()"
   ]
  },
  {
   "cell_type": "code",
   "execution_count": 37,
   "metadata": {
    "collapsed": false
   },
   "outputs": [
    {
     "name": "stdout",
     "output_type": "stream",
     "text": [
      "AUC:  53.1044190586\n"
     ]
    }
   ],
   "source": [
    "logistic_regression(respiratory_rate_data_lr)"
   ]
  },
  {
   "cell_type": "code",
   "execution_count": 38,
   "metadata": {
    "collapsed": false
   },
   "outputs": [
    {
     "data": {
      "text/html": [
       "<div>\n",
       "<table border=\"1\" class=\"dataframe\">\n",
       "  <thead>\n",
       "    <tr style=\"text-align: right;\">\n",
       "      <th></th>\n",
       "      <th>hypertension</th>\n",
       "      <th>train</th>\n",
       "      <th>mean</th>\n",
       "      <th>max</th>\n",
       "      <th>min</th>\n",
       "    </tr>\n",
       "  </thead>\n",
       "  <tbody>\n",
       "    <tr>\n",
       "      <th>0</th>\n",
       "      <td>1</td>\n",
       "      <td>1</td>\n",
       "      <td>94.520833</td>\n",
       "      <td>98.0</td>\n",
       "      <td>88.0</td>\n",
       "    </tr>\n",
       "    <tr>\n",
       "      <th>1</th>\n",
       "      <td>0</td>\n",
       "      <td>1</td>\n",
       "      <td>96.608434</td>\n",
       "      <td>100.0</td>\n",
       "      <td>10.0</td>\n",
       "    </tr>\n",
       "    <tr>\n",
       "      <th>2</th>\n",
       "      <td>1</td>\n",
       "      <td>1</td>\n",
       "      <td>96.896552</td>\n",
       "      <td>100.0</td>\n",
       "      <td>90.0</td>\n",
       "    </tr>\n",
       "    <tr>\n",
       "      <th>3</th>\n",
       "      <td>0</td>\n",
       "      <td>0</td>\n",
       "      <td>93.666667</td>\n",
       "      <td>96.0</td>\n",
       "      <td>91.0</td>\n",
       "    </tr>\n",
       "    <tr>\n",
       "      <th>4</th>\n",
       "      <td>0</td>\n",
       "      <td>1</td>\n",
       "      <td>97.740741</td>\n",
       "      <td>100.0</td>\n",
       "      <td>96.0</td>\n",
       "    </tr>\n",
       "  </tbody>\n",
       "</table>\n",
       "</div>"
      ],
      "text/plain": [
       "   hypertension  train       mean    max   min\n",
       "0             1      1  94.520833   98.0  88.0\n",
       "1             0      1  96.608434  100.0  10.0\n",
       "2             1      1  96.896552  100.0  90.0\n",
       "3             0      0  93.666667   96.0  91.0\n",
       "4             0      1  97.740741  100.0  96.0"
      ]
     },
     "execution_count": 38,
     "metadata": {},
     "output_type": "execute_result"
    }
   ],
   "source": [
    "o2_saturation_data_lr,o2_saturation_data_lstm = filter(220277)\n",
    "o2_saturation_data_lr.head()"
   ]
  },
  {
   "cell_type": "code",
   "execution_count": 39,
   "metadata": {
    "collapsed": false
   },
   "outputs": [
    {
     "name": "stdout",
     "output_type": "stream",
     "text": [
      "AUC:  50.8704287255\n"
     ]
    }
   ],
   "source": [
    "logistic_regression(o2_saturation_data_lr)"
   ]
  },
  {
   "cell_type": "code",
   "execution_count": 40,
   "metadata": {
    "collapsed": false
   },
   "outputs": [
    {
     "data": {
      "text/html": [
       "<div>\n",
       "<table border=\"1\" class=\"dataframe\">\n",
       "  <thead>\n",
       "    <tr style=\"text-align: right;\">\n",
       "      <th></th>\n",
       "      <th>hypertension</th>\n",
       "      <th>train</th>\n",
       "      <th>mean</th>\n",
       "      <th>max</th>\n",
       "      <th>min</th>\n",
       "    </tr>\n",
       "  </thead>\n",
       "  <tbody>\n",
       "    <tr>\n",
       "      <th>0</th>\n",
       "      <td>1</td>\n",
       "      <td>1</td>\n",
       "      <td>80.418605</td>\n",
       "      <td>108.0</td>\n",
       "      <td>63.0</td>\n",
       "    </tr>\n",
       "    <tr>\n",
       "      <th>1</th>\n",
       "      <td>0</td>\n",
       "      <td>1</td>\n",
       "      <td>101.345912</td>\n",
       "      <td>146.0</td>\n",
       "      <td>66.0</td>\n",
       "    </tr>\n",
       "    <tr>\n",
       "      <th>2</th>\n",
       "      <td>1</td>\n",
       "      <td>1</td>\n",
       "      <td>64.666667</td>\n",
       "      <td>71.0</td>\n",
       "      <td>59.0</td>\n",
       "    </tr>\n",
       "    <tr>\n",
       "      <th>3</th>\n",
       "      <td>0</td>\n",
       "      <td>0</td>\n",
       "      <td>80.666667</td>\n",
       "      <td>92.0</td>\n",
       "      <td>72.0</td>\n",
       "    </tr>\n",
       "    <tr>\n",
       "      <th>4</th>\n",
       "      <td>0</td>\n",
       "      <td>1</td>\n",
       "      <td>97.105263</td>\n",
       "      <td>197.0</td>\n",
       "      <td>71.0</td>\n",
       "    </tr>\n",
       "  </tbody>\n",
       "</table>\n",
       "</div>"
      ],
      "text/plain": [
       "   hypertension  train        mean    max   min\n",
       "0             1      1   80.418605  108.0  63.0\n",
       "1             0      1  101.345912  146.0  66.0\n",
       "2             1      1   64.666667   71.0  59.0\n",
       "3             0      0   80.666667   92.0  72.0\n",
       "4             0      1   97.105263  197.0  71.0"
      ]
     },
     "execution_count": 40,
     "metadata": {},
     "output_type": "execute_result"
    }
   ],
   "source": [
    "blood_pressure_data_lr, blood_pressure_data_lstm = filter(220181)\n",
    "blood_pressure_data_lr.head()"
   ]
  },
  {
   "cell_type": "code",
   "execution_count": 41,
   "metadata": {
    "collapsed": false
   },
   "outputs": [
    {
     "name": "stdout",
     "output_type": "stream",
     "text": [
      "AUC:  52.8380577604\n"
     ]
    }
   ],
   "source": [
    "logistic_regression(blood_pressure_data_lr)"
   ]
  },
  {
   "cell_type": "code",
   "execution_count": 8,
   "metadata": {
    "collapsed": false
   },
   "outputs": [
    {
     "data": {
      "text/html": [
       "<div>\n",
       "<table border=\"1\" class=\"dataframe\">\n",
       "  <thead>\n",
       "    <tr style=\"text-align: right;\">\n",
       "      <th></th>\n",
       "      <th>hypertension</th>\n",
       "      <th>train</th>\n",
       "      <th>valuenum</th>\n",
       "    </tr>\n",
       "  </thead>\n",
       "  <tbody>\n",
       "    <tr>\n",
       "      <th>0</th>\n",
       "      <td>1</td>\n",
       "      <td>1</td>\n",
       "      <td>[82.0, 89.0, 93.0, 103.0, 104.0, 101.0, 105.0,...</td>\n",
       "    </tr>\n",
       "    <tr>\n",
       "      <th>1</th>\n",
       "      <td>0</td>\n",
       "      <td>1</td>\n",
       "      <td>[128.0, 129.0, 129.0, 135.0, 134.0, 134.0, 134...</td>\n",
       "    </tr>\n",
       "    <tr>\n",
       "      <th>2</th>\n",
       "      <td>1</td>\n",
       "      <td>1</td>\n",
       "      <td>[97.0, 99.0, 94.0, 92.0, 93.0, 92.0, 96.0, 94....</td>\n",
       "    </tr>\n",
       "    <tr>\n",
       "      <th>3</th>\n",
       "      <td>0</td>\n",
       "      <td>0</td>\n",
       "      <td>[82.0, 84.0, 61.0, 60.0]</td>\n",
       "    </tr>\n",
       "    <tr>\n",
       "      <th>4</th>\n",
       "      <td>0</td>\n",
       "      <td>1</td>\n",
       "      <td>[40.0, 38.0, 36.0, 44.0, 43.0, 47.0, 47.0, 66....</td>\n",
       "    </tr>\n",
       "  </tbody>\n",
       "</table>\n",
       "</div>"
      ],
      "text/plain": [
       "   hypertension  train                                           valuenum\n",
       "0             1      1  [82.0, 89.0, 93.0, 103.0, 104.0, 101.0, 105.0,...\n",
       "1             0      1  [128.0, 129.0, 129.0, 135.0, 134.0, 134.0, 134...\n",
       "2             1      1  [97.0, 99.0, 94.0, 92.0, 93.0, 92.0, 96.0, 94....\n",
       "3             0      0                           [82.0, 84.0, 61.0, 60.0]\n",
       "4             0      1  [40.0, 38.0, 36.0, 44.0, 43.0, 47.0, 47.0, 66...."
      ]
     },
     "execution_count": 8,
     "metadata": {},
     "output_type": "execute_result"
    }
   ],
   "source": [
    "heart_rate_data_lstm.head()"
   ]
  },
  {
   "cell_type": "code",
   "execution_count": 10,
   "metadata": {
    "collapsed": false
   },
   "outputs": [
    {
     "data": {
      "image/png": "[encoded data removed]",
      "text/plain": [
       "<matplotlib.figure.Figure at 0x7f623956f6a0>"
      ]
     },
     "metadata": {},
     "output_type": "display_data"
    }
   ],
   "source": [
    "len(heart_rate_data_lstm['valuenum'][0])\n",
    "sns.countplot(x='hypertension',data=heart_rate_data_lstm, palette='hls')\n",
    "plt.show()"
   ]
  },
  {
   "cell_type": "code",
   "execution_count": 11,
   "metadata": {
    "collapsed": true
   },
   "outputs": [],
   "source": [
    "heart_rate_data_lstm['length'] = heart_rate_data_lstm.valuenum.apply(lambda x: len(x))"
   ]
  },
  {
   "cell_type": "code",
   "execution_count": 9,
   "metadata": {
    "collapsed": false
   },
   "outputs": [
    {
     "data": {
      "text/plain": [
       "hypertension\n",
       "0    132.688844\n",
       "1    117.477308\n",
       "Name: length, dtype: float64"
      ]
     },
     "execution_count": 9,
     "metadata": {},
     "output_type": "execute_result"
    }
   ],
   "source": [
    "#heart_rate_data_lstm.head()\n",
    "heart_rate_data_lstm.groupby(['hypertension'])['length'].mean()"
   ]
  },
  {
   "cell_type": "code",
   "execution_count": 43,
   "metadata": {
    "collapsed": false,
    "scrolled": true
   },
   "outputs": [
    {
     "data": {
      "image/png": "[encoded data removed]",
      "text/plain": [
       "<matplotlib.figure.Figure at 0x7f61d6228898>"
      ]
     },
     "metadata": {},
     "output_type": "display_data"
    }
   ],
   "source": [
    "heart_rate_data_lstm.groupby(['hypertension'])['length'].value_counts().plot()\n",
    "plt.show()"
   ]
  },
  {
   "cell_type": "code",
   "execution_count": 48,
   "metadata": {
    "collapsed": false
   },
   "outputs": [
    {
     "data": {
      "text/html": [
       "<div>\n",
       "<table border=\"1\" class=\"dataframe\">\n",
       "  <thead>\n",
       "    <tr style=\"text-align: right;\">\n",
       "      <th></th>\n",
       "      <th>hypertension</th>\n",
       "      <th>train</th>\n",
       "      <th>valuenum</th>\n",
       "    </tr>\n",
       "  </thead>\n",
       "  <tbody>\n",
       "    <tr>\n",
       "      <th>0</th>\n",
       "      <td>1</td>\n",
       "      <td>1</td>\n",
       "      <td>[82.0, 89.0, 93.0, 103.0, 104.0, 101.0, 105.0,...</td>\n",
       "    </tr>\n",
       "    <tr>\n",
       "      <th>1</th>\n",
       "      <td>0</td>\n",
       "      <td>1</td>\n",
       "      <td>[128.0, 129.0, 129.0, 135.0, 134.0, 134.0, 134...</td>\n",
       "    </tr>\n",
       "    <tr>\n",
       "      <th>2</th>\n",
       "      <td>1</td>\n",
       "      <td>1</td>\n",
       "      <td>[97.0, 99.0, 94.0, 92.0, 93.0, 92.0, 96.0, 94....</td>\n",
       "    </tr>\n",
       "    <tr>\n",
       "      <th>3</th>\n",
       "      <td>0</td>\n",
       "      <td>0</td>\n",
       "      <td>[82.0, 84.0, 61.0, 60.0]</td>\n",
       "    </tr>\n",
       "    <tr>\n",
       "      <th>4</th>\n",
       "      <td>0</td>\n",
       "      <td>1</td>\n",
       "      <td>[40.0, 38.0, 36.0, 44.0, 43.0, 47.0, 47.0, 66....</td>\n",
       "    </tr>\n",
       "  </tbody>\n",
       "</table>\n",
       "</div>"
      ],
      "text/plain": [
       "   hypertension  train                                           valuenum\n",
       "0             1      1  [82.0, 89.0, 93.0, 103.0, 104.0, 101.0, 105.0,...\n",
       "1             0      1  [128.0, 129.0, 129.0, 135.0, 134.0, 134.0, 134...\n",
       "2             1      1  [97.0, 99.0, 94.0, 92.0, 93.0, 92.0, 96.0, 94....\n",
       "3             0      0                           [82.0, 84.0, 61.0, 60.0]\n",
       "4             0      1  [40.0, 38.0, 36.0, 44.0, 43.0, 47.0, 47.0, 66...."
      ]
     },
     "execution_count": 48,
     "metadata": {},
     "output_type": "execute_result"
    }
   ],
   "source": [
    "heart_rate_data_lstm = heart_rate_data_lstm.drop('length',axis=1)\n",
    "heart_rate_data_lstm.head()"
   ]
  },
  {
   "cell_type": "code",
   "execution_count": 122,
   "metadata": {
    "collapsed": false
   },
   "outputs": [],
   "source": [
    "X = heart_rate_data_lstm.drop(['hypertension'],axis=1)\n",
    "X_train,X_test = X.loc[X['train']==1],X.loc[X['train']==0]\n",
    "X_train,X_test = X_train.drop(['train'],axis=1),X_test.drop(['train'],axis=1)\n",
    "Y = heart_rate_data_lstm[['hypertension','train']] \n",
    "Y_train,Y_test = Y.loc[Y['train']==1],Y.loc[Y['train']==0]\n",
    "Y_train,Y_test = Y_train.drop(['train'],axis=1).values.squeeze(),Y_test.drop(['train'],axis=1).values.squeeze()"
   ]
  },
  {
   "cell_type": "code",
   "execution_count": 131,
   "metadata": {
    "collapsed": false
   },
   "outputs": [],
   "source": [
    "X_train = X_train.valuenum.apply(lambda x: [[i] for i in x])"
   ]
  },
  {
   "cell_type": "code",
   "execution_count": 136,
   "metadata": {
    "collapsed": false
   },
   "outputs": [],
   "source": [
    "#Y_train = [[i] for i in Y_train]\n",
    "Y_train = numpy.array(Y_train)\n",
    "X_train = numpy.array(X_train)"
   ]
  },
  {
   "cell_type": "code",
   "execution_count": 149,
   "metadata": {
    "collapsed": false
   },
   "outputs": [
    {
     "data": {
      "text/plain": [
       "(1, 49, 1)"
      ]
     },
     "execution_count": 149,
     "metadata": {},
     "output_type": "execute_result"
    }
   ],
   "source": [
    "x = numpy.array([X_train[0]])\n",
    "x.shape"
   ]
  },
  {
   "cell_type": "code",
   "execution_count": null,
   "metadata": {
    "collapsed": false
   },
   "outputs": [
    {
     "name": "stderr",
     "output_type": "stream",
     "text": [
      "/home/pulkitmathur1800/anaconda3/lib/python3.5/site-packages/ipykernel/__main__.py:9: UserWarning: Update your `Dense` call to the Keras 2 API: `Dense(1, kernel_initializer=\"normal\", activation=\"sigmoid\")`\n"
     ]
    },
    {
     "name": "stdout",
     "output_type": "stream",
     "text": [
      "Epoch 1/3\n",
      "15297/15297 [==============================] - 1046s 68ms/step - loss: 0.6862\n",
      "Epoch 2/3\n",
      "15297/15297 [==============================] - 849s 55ms/step - loss: 0.6858\n",
      "Epoch 3/3\n",
      "15297/15297 [==============================] - 847s 55ms/step - loss: 0.6859\n"
     ]
    },
    {
     "data": {
      "text/plain": [
       "<keras.callbacks.History at 0x7f61a3644fd0>"
      ]
     },
     "execution_count": 152,
     "metadata": {},
     "output_type": "execute_result"
    }
   ],
   "source": [
    "from keras.models import Sequential\n",
    "from keras.layers import Dense, Dropout, Activation,Flatten\n",
    "from keras.layers import LSTM\n",
    "\n",
    "# design network\n",
    "model = Sequential()\n",
    "model.add(LSTM(12, input_shape=(None, 1)))\n",
    "model.add(Dropout(0.5))\n",
    "model.add(Dense(1,init='normal', activation='sigmoid'))\n",
    "model.compile(loss='binary_crossentropy',optimizer='adam')\n",
    "\n",
    "#X_train = X_train['valuenum'].tolist()\n",
    "#model.fit(X_train, Y_train, batch_size=16, epochs=10)\n",
    "#score = model.evaluate(X_test, Y_test, batch_size=16)\n",
    "#print(score)\n",
    "\n",
    "#\n",
    "#model.add(Dense(64, activation='relu'))\n",
    "#model.add(Dropout(0.5))\n",
    "\n",
    "def train_generator():\n",
    "    w=0\n",
    "    while True:\n",
    "        x_train = numpy.array([X_train[w]])\n",
    "        y_train = numpy.array([Y_train[w]])\n",
    "        w+=1\n",
    "        if w==15297:\n",
    "            w=0\n",
    "        yield x_train, y_train\n",
    "\n",
    "model.fit_generator(train_generator(), steps_per_epoch=15297, epochs=3, verbose=1)"
   ]
  },
  {
   "cell_type": "code",
   "execution_count": null,
   "metadata": {
    "collapsed": true
   },
   "outputs": [],
   "source": [
    "score = model.evaluate(X_test, Y_test)"
   ]
  }
 ],
 "metadata": {
  "anaconda-cloud": {},
  "kernelspec": {
   "display_name": "Python [default]",
   "language": "python",
   "name": "python3"
  },
  "language_info": {
   "codemirror_mode": {
    "name": "ipython",
    "version": 3
   },
   "file_extension": ".py",
   "mimetype": "text/x-python",
   "name": "python",
   "nbconvert_exporter": "python",
   "pygments_lexer": "ipython3",
   "version": "3.5.2"
  }
 },
 "nbformat": 4,
 "nbformat_minor": 1
}
