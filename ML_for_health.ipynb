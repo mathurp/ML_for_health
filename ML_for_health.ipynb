{
 "cells": [
  {
   "cell_type": "markdown",
   "metadata": {},
   "source": [
    "# CSC2541 Machine Learning For Health Assignment 1\n",
    "# Pulkit Mathur\n",
    "# 1005483692"
   ]
  },
  {
   "cell_type": "code",
   "execution_count": 94,
   "metadata": {
    "collapsed": false
   },
   "outputs": [],
   "source": [
    "import numpy as np\n",
    "import pandas as pd\n",
    "import gensim\n",
    "import pickle\n",
    "from gensim import corpora\n",
    "from gensim.models.coherencemodel import CoherenceModel\n",
    "from sklearn.linear_model import LogisticRegression\n",
    "from sklearn.metrics import confusion_matrix,roc_curve,roc_auc_score\n",
    "from sklearn import preprocessing\n",
    "import matplotlib.pyplot as plt\n",
    "import seaborn as sns\n",
    "sns.set(style=\"white\")\n",
    "sns.set(style=\"whitegrid\", color_codes=True)"
   ]
  },
  {
   "cell_type": "markdown",
   "metadata": {},
   "source": [
    "# Part 2a: \n",
    "## Adult ICU data"
   ]
  },
  {
   "cell_type": "code",
   "execution_count": 18,
   "metadata": {
    "collapsed": false
   },
   "outputs": [
    {
     "data": {
      "text/html": [
       "<div>\n",
       "<table border=\"1\" class=\"dataframe\">\n",
       "  <thead>\n",
       "    <tr style=\"text-align: right;\">\n",
       "      <th></th>\n",
       "      <th>subject_id</th>\n",
       "      <th>hadm_id</th>\n",
       "      <th>icustay_id</th>\n",
       "      <th>age</th>\n",
       "      <th>mort_icu</th>\n",
       "      <th>first_hosp_stay</th>\n",
       "      <th>first_icu_stay</th>\n",
       "      <th>adult_icu</th>\n",
       "      <th>eth_asian</th>\n",
       "      <th>eth_black</th>\n",
       "      <th>...</th>\n",
       "      <th>phosphate</th>\n",
       "      <th>platelet</th>\n",
       "      <th>potassium</th>\n",
       "      <th>ptt</th>\n",
       "      <th>inr</th>\n",
       "      <th>pt</th>\n",
       "      <th>sodium</th>\n",
       "      <th>bun</th>\n",
       "      <th>wbc</th>\n",
       "      <th>train</th>\n",
       "    </tr>\n",
       "  </thead>\n",
       "  <tbody>\n",
       "    <tr>\n",
       "      <th>0</th>\n",
       "      <td>3</td>\n",
       "      <td>145834</td>\n",
       "      <td>211552</td>\n",
       "      <td>76.0</td>\n",
       "      <td>0</td>\n",
       "      <td>1</td>\n",
       "      <td>1</td>\n",
       "      <td>1</td>\n",
       "      <td>0</td>\n",
       "      <td>0</td>\n",
       "      <td>...</td>\n",
       "      <td>4.8</td>\n",
       "      <td>282.0</td>\n",
       "      <td>5.4</td>\n",
       "      <td>30.7</td>\n",
       "      <td>1.3</td>\n",
       "      <td>13.5</td>\n",
       "      <td>136.0</td>\n",
       "      <td>53.0</td>\n",
       "      <td>12.7</td>\n",
       "      <td>0</td>\n",
       "    </tr>\n",
       "    <tr>\n",
       "      <th>1</th>\n",
       "      <td>6</td>\n",
       "      <td>107064</td>\n",
       "      <td>228232</td>\n",
       "      <td>65.0</td>\n",
       "      <td>0</td>\n",
       "      <td>1</td>\n",
       "      <td>1</td>\n",
       "      <td>1</td>\n",
       "      <td>0</td>\n",
       "      <td>0</td>\n",
       "      <td>...</td>\n",
       "      <td>8.5</td>\n",
       "      <td>315.0</td>\n",
       "      <td>5.4</td>\n",
       "      <td>139.0</td>\n",
       "      <td>1.4</td>\n",
       "      <td>14.6</td>\n",
       "      <td>138.0</td>\n",
       "      <td>62.0</td>\n",
       "      <td>10.6</td>\n",
       "      <td>0</td>\n",
       "    </tr>\n",
       "    <tr>\n",
       "      <th>2</th>\n",
       "      <td>9</td>\n",
       "      <td>150750</td>\n",
       "      <td>220597</td>\n",
       "      <td>41.0</td>\n",
       "      <td>1</td>\n",
       "      <td>1</td>\n",
       "      <td>1</td>\n",
       "      <td>1</td>\n",
       "      <td>0</td>\n",
       "      <td>0</td>\n",
       "      <td>...</td>\n",
       "      <td>2.9</td>\n",
       "      <td>258.0</td>\n",
       "      <td>2.8</td>\n",
       "      <td>21.7</td>\n",
       "      <td>1.1</td>\n",
       "      <td>12.7</td>\n",
       "      <td>140.0</td>\n",
       "      <td>16.0</td>\n",
       "      <td>7.5</td>\n",
       "      <td>1</td>\n",
       "    </tr>\n",
       "    <tr>\n",
       "      <th>3</th>\n",
       "      <td>12</td>\n",
       "      <td>112213</td>\n",
       "      <td>232669</td>\n",
       "      <td>72.0</td>\n",
       "      <td>0</td>\n",
       "      <td>1</td>\n",
       "      <td>1</td>\n",
       "      <td>1</td>\n",
       "      <td>0</td>\n",
       "      <td>0</td>\n",
       "      <td>...</td>\n",
       "      <td>6.6</td>\n",
       "      <td>156.0</td>\n",
       "      <td>4.9</td>\n",
       "      <td>55.2</td>\n",
       "      <td>1.7</td>\n",
       "      <td>15.9</td>\n",
       "      <td>138.0</td>\n",
       "      <td>28.0</td>\n",
       "      <td>8.4</td>\n",
       "      <td>1</td>\n",
       "    </tr>\n",
       "    <tr>\n",
       "      <th>4</th>\n",
       "      <td>13</td>\n",
       "      <td>143045</td>\n",
       "      <td>263738</td>\n",
       "      <td>39.0</td>\n",
       "      <td>0</td>\n",
       "      <td>1</td>\n",
       "      <td>1</td>\n",
       "      <td>1</td>\n",
       "      <td>0</td>\n",
       "      <td>0</td>\n",
       "      <td>...</td>\n",
       "      <td>3.9</td>\n",
       "      <td>216.0</td>\n",
       "      <td>3.5</td>\n",
       "      <td>44.1</td>\n",
       "      <td>1.2</td>\n",
       "      <td>13.7</td>\n",
       "      <td>139.0</td>\n",
       "      <td>13.0</td>\n",
       "      <td>16.6</td>\n",
       "      <td>1</td>\n",
       "    </tr>\n",
       "  </tbody>\n",
       "</table>\n",
       "<p>5 rows × 62 columns</p>\n",
       "</div>"
      ],
      "text/plain": [
       "   subject_id  hadm_id  icustay_id   age  mort_icu  first_hosp_stay  \\\n",
       "0           3   145834      211552  76.0         0                1   \n",
       "1           6   107064      228232  65.0         0                1   \n",
       "2           9   150750      220597  41.0         1                1   \n",
       "3          12   112213      232669  72.0         0                1   \n",
       "4          13   143045      263738  39.0         0                1   \n",
       "\n",
       "   first_icu_stay  adult_icu  eth_asian  eth_black  ...    phosphate  \\\n",
       "0               1          1          0          0  ...          4.8   \n",
       "1               1          1          0          0  ...          8.5   \n",
       "2               1          1          0          0  ...          2.9   \n",
       "3               1          1          0          0  ...          6.6   \n",
       "4               1          1          0          0  ...          3.9   \n",
       "\n",
       "   platelet  potassium    ptt  inr    pt  sodium   bun   wbc  train  \n",
       "0     282.0        5.4   30.7  1.3  13.5   136.0  53.0  12.7      0  \n",
       "1     315.0        5.4  139.0  1.4  14.6   138.0  62.0  10.6      0  \n",
       "2     258.0        2.8   21.7  1.1  12.7   140.0  16.0   7.5      1  \n",
       "3     156.0        4.9   55.2  1.7  15.9   138.0  28.0   8.4      1  \n",
       "4     216.0        3.5   44.1  1.2  13.7   139.0  13.0  16.6      1  \n",
       "\n",
       "[5 rows x 62 columns]"
      ]
     },
     "execution_count": 18,
     "metadata": {},
     "output_type": "execute_result"
    }
   ],
   "source": [
    "adult_icu = pd.read_csv(\"/home/pulkitmathur1800/csc2548_ml4h/adult_icu\")\n",
    "adult_icu.head()"
   ]
  },
  {
   "cell_type": "markdown",
   "metadata": {},
   "source": [
    "## Getting train and test data"
   ]
  },
  {
   "cell_type": "code",
   "execution_count": 20,
   "metadata": {
    "collapsed": false
   },
   "outputs": [],
   "source": [
    "adult_icu = adult_icu.drop(['subject_id','hadm_id','icustay_id'],axis=1)\n",
    "Y = adult_icu[['mort_icu','train']] \n",
    "Y_train,Y_test = Y.loc[Y['train']==1],Y.loc[Y['train']==0]\n",
    "Y_train,Y_test = Y_train.drop(['train'],axis=1).values.squeeze(),Y_test.drop(['train'],axis=1).values.squeeze()\n",
    "\n",
    "X_train,X_test = adult_icu.loc[adult_icu['train']==1],adult_icu.loc[adult_icu['train']==0]\n",
    "X_train.reset_index(drop=True,inplace=True)\n",
    "X_test.reset_index(drop=True,inplace=True)"
   ]
  },
  {
   "cell_type": "markdown",
   "metadata": {},
   "source": [
    "#### Scaling the non-boolean columns"
   ]
  },
  {
   "cell_type": "code",
   "execution_count": 23,
   "metadata": {
    "collapsed": false
   },
   "outputs": [],
   "source": [
    "drop_columns = ['train','mort_icu']\n",
    "bool_cols = [col for col in adult_icu if np.isin(adult_icu[col].dropna().unique(),[0, 1]).all()]\n",
    "non_bool_cols = [item for item in adult_icu.columns if item not in bool_cols]\n",
    "#Scaling the data\n",
    "\n",
    "scaler = preprocessing.MinMaxScaler(feature_range=(0, 1))\n",
    "X_train_scaled,X_test_scaled = scaler.fit_transform(X_train[non_bool_cols]),scaler.fit_transform(X_test[non_bool_cols])\n",
    "X_train_scaled,X_test_scaled = pd.DataFrame(X_train_scaled, columns=non_bool_cols),pd.DataFrame(X_test_scaled, columns=non_bool_cols)\n",
    "X_train_scaled,X_test_scaled = X_train_scaled.join(X_train[bool_cols]),X_test_scaled.join(X_test[bool_cols])\n",
    "X_train_scaled,X_test_scaled = X_train_scaled.drop(drop_columns,axis=1),X_test_scaled.drop(drop_columns,axis=1)"
   ]
  },
  {
   "cell_type": "markdown",
   "metadata": {},
   "source": [
    "## Training a Logistic regression with l2 regularizer"
   ]
  },
  {
   "cell_type": "code",
   "execution_count": 51,
   "metadata": {
    "collapsed": false,
    "scrolled": true
   },
   "outputs": [
    {
     "name": "stdout",
     "output_type": "stream",
     "text": [
      "AUC:  77.7503729825\n"
     ]
    },
    {
     "data": {
      "image/png": "[encoded data removed]",
      "text/plain": [
       "<matplotlib.figure.Figure at 0x7fb0db30b630>"
      ]
     },
     "metadata": {},
     "output_type": "display_data"
    }
   ],
   "source": [
    "classifier = LogisticRegression(random_state=0,penalty=\"l2\", C=3)\n",
    "classifier.fit(X_train_scaled, Y_train)\n",
    "Y_pred = classifier.predict(X_test_scaled)\n",
    "Y_test_prob = classifier.predict_proba(X_test_scaled)\n",
    "auc_model1 = roc_auc_score(Y_test,Y_test_prob[:,1])\n",
    "print(\"AUC: \",roc_auc_score(Y_test,Y_test_prob[:,1])*100)\n",
    "\n",
    "fpr, tpr,_=roc_curve(Y_test,Y_test_prob[:,1],pos_label=1)\n",
    "plt.figure()\n",
    "plt.plot(fpr, tpr, color='red', lw=2, label='ROC curve')\n",
    "plt.plot([0, 1], [0, 1], color='blue', lw=2, linestyle='--')\n",
    "plt.xlabel('False Positive Rate')\n",
    "plt.ylabel('True Positive Rate')\n",
    "plt.title('ROC curve')\n",
    "plt.show()"
   ]
  },
  {
   "cell_type": "markdown",
   "metadata": {},
   "source": [
    "### Top 5 risk factors"
   ]
  },
  {
   "cell_type": "code",
   "execution_count": 25,
   "metadata": {
    "collapsed": false
   },
   "outputs": [
    {
     "data": {
      "text/html": [
       "<div>\n",
       "<table border=\"1\" class=\"dataframe\">\n",
       "  <thead>\n",
       "    <tr style=\"text-align: right;\">\n",
       "      <th></th>\n",
       "      <th>Risk factors</th>\n",
       "      <th>coef</th>\n",
       "    </tr>\n",
       "  </thead>\n",
       "  <tbody>\n",
       "    <tr>\n",
       "      <th>25</th>\n",
       "      <td>aniongap</td>\n",
       "      <td>2.561217</td>\n",
       "    </tr>\n",
       "    <tr>\n",
       "      <th>12</th>\n",
       "      <td>meanbp_mean</td>\n",
       "      <td>2.720808</td>\n",
       "    </tr>\n",
       "    <tr>\n",
       "      <th>17</th>\n",
       "      <td>tempc_max</td>\n",
       "      <td>3.057897</td>\n",
       "    </tr>\n",
       "    <tr>\n",
       "      <th>44</th>\n",
       "      <td>wbc</td>\n",
       "      <td>3.358029</td>\n",
       "    </tr>\n",
       "    <tr>\n",
       "      <th>28</th>\n",
       "      <td>bilirubin</td>\n",
       "      <td>3.944281</td>\n",
       "    </tr>\n",
       "  </tbody>\n",
       "</table>\n",
       "</div>"
      ],
      "text/plain": [
       "   Risk factors      coef\n",
       "25     aniongap  2.561217\n",
       "12  meanbp_mean  2.720808\n",
       "17    tempc_max  3.057897\n",
       "44          wbc  3.358029\n",
       "28    bilirubin  3.944281"
      ]
     },
     "execution_count": 25,
     "metadata": {},
     "output_type": "execute_result"
    }
   ],
   "source": [
    "Coef_table=pd.DataFrame()\n",
    "Coef_table['Risk factors'] = X_train_scaled.columns[:]\n",
    "Coef_table['coef'] = classifier.coef_[0]\n",
    "Coef_table = Coef_table.sort_values('coef')\n",
    "Coef_table.iloc[-5:]"
   ]
  },
  {
   "cell_type": "markdown",
   "metadata": {},
   "source": [
    "###### Explanation:\n",
    "Bilirubin - Bilirubin is a yellowish substance in your blood. It forms after red blood cells break down, and it travels through your liver, gallbladder, and digestive tract before being excreted. High Bilirubin usually results when liver is not functioning properly which can be due to many factors like \n",
    "\n",
    "meanbp_mean - Blood pressure outside the normal range can be g=harmful. High blood pressure can results in damamge to artries , brain, heart, kidneys , eyes etc whereas a low blood pressure can result in hypotension which in extreme case can be life threatning.\n",
    "\n",
    "tempc_max- \n",
    "\n",
    "wbc- White blooad cell plays a significant role in our body. If the count of WBC changes from normal then it can be harmful for the body. Low WBC count can cause Infection, Anemia, Bleeding where as, if wbc are present in higher amount than normal then these can stuck in the artries and harden, which causes plaque to build up and can lead to heart attacks.Besides a hardening of the arteries, a higher number of white blood cells cause problems with circulation, thicker blood, and the increase of proinflammatory cytokines.\n",
    "\n",
    "Anion Gap = Na+ – (Cl- + HCO3-) is used for the evaluation of metabolic acidosis to determine the presence of unmeasured anions.\n",
    "High or lower value of Anion gap can be harmful as explained-\n",
    "\n",
    "High Anion gap occurs when our body starts producing acid(ketoacid) in larger amount than usual this results into condition known as acidosis which can have following harmful effects- shortness of breath, increased heart rate, jaundice, fatigue or drowsiness etc.\n",
    "\n",
    "Since, all these factors if not taken care can result in life threatning diseases. Hence, it seems justified that they have a strong corelation with mortality rate."
   ]
  },
  {
   "cell_type": "markdown",
   "metadata": {},
   "source": [
    "### Lowest 5 risk factor"
   ]
  },
  {
   "cell_type": "code",
   "execution_count": 26,
   "metadata": {
    "collapsed": false
   },
   "outputs": [
    {
     "data": {
      "text/html": [
       "<div>\n",
       "<table border=\"1\" class=\"dataframe\">\n",
       "  <thead>\n",
       "    <tr style=\"text-align: right;\">\n",
       "      <th></th>\n",
       "      <th>Risk factors</th>\n",
       "      <th>coef</th>\n",
       "    </tr>\n",
       "  </thead>\n",
       "  <tbody>\n",
       "    <tr>\n",
       "      <th>16</th>\n",
       "      <td>tempc_min</td>\n",
       "      <td>-2.932108</td>\n",
       "    </tr>\n",
       "    <tr>\n",
       "      <th>37</th>\n",
       "      <td>platelet</td>\n",
       "      <td>-2.762496</td>\n",
       "    </tr>\n",
       "    <tr>\n",
       "      <th>18</th>\n",
       "      <td>tempc_mean</td>\n",
       "      <td>-2.654793</td>\n",
       "    </tr>\n",
       "    <tr>\n",
       "      <th>33</th>\n",
       "      <td>hemoglobin</td>\n",
       "      <td>-2.420074</td>\n",
       "    </tr>\n",
       "    <tr>\n",
       "      <th>4</th>\n",
       "      <td>sysbp_min</td>\n",
       "      <td>-2.233325</td>\n",
       "    </tr>\n",
       "  </tbody>\n",
       "</table>\n",
       "</div>"
      ],
      "text/plain": [
       "   Risk factors      coef\n",
       "16    tempc_min -2.932108\n",
       "37     platelet -2.762496\n",
       "18   tempc_mean -2.654793\n",
       "33   hemoglobin -2.420074\n",
       "4     sysbp_min -2.233325"
      ]
     },
     "execution_count": 26,
     "metadata": {},
     "output_type": "execute_result"
    }
   ],
   "source": [
    "Coef_table.iloc[:5]"
   ]
  },
  {
   "cell_type": "markdown",
   "metadata": {},
   "source": [
    "###### Explanation:\n",
    "Platelet - A low platelet is usually called thrombocytopenia. This condition can range from mild to severe, depending on its underlying cause. For some, the symptoms can include severe bleeding and are possibly fatal if they’re not treated. Hence, it is negatively coorelated to mortality rate.\n",
    "\n",
    "But, \n",
    "\n",
    "Hemoglobin - "
   ]
  },
  {
   "cell_type": "markdown",
   "metadata": {},
   "source": [
    "# ---------------------------------------------------------------------------------------------------------------\n",
    "# Part 2(b):\n",
    "## Adult Notes Data"
   ]
  },
  {
   "cell_type": "code",
   "execution_count": 74,
   "metadata": {
    "collapsed": false
   },
   "outputs": [
    {
     "data": {
      "text/html": [
       "<div>\n",
       "<table border=\"1\" class=\"dataframe\">\n",
       "  <thead>\n",
       "    <tr style=\"text-align: right;\">\n",
       "      <th></th>\n",
       "      <th>subject_id</th>\n",
       "      <th>hadm_id</th>\n",
       "      <th>icustay_id</th>\n",
       "      <th>chartext</th>\n",
       "      <th>train</th>\n",
       "      <th>mort_icu</th>\n",
       "    </tr>\n",
       "  </thead>\n",
       "  <tbody>\n",
       "    <tr>\n",
       "      <th>0</th>\n",
       "      <td>3</td>\n",
       "      <td>145834</td>\n",
       "      <td>211552</td>\n",
       "      <td>[**2101-10-21**] 1:00 AM\\n CHEST (PORTABLE AP)...</td>\n",
       "      <td>0</td>\n",
       "      <td>0</td>\n",
       "    </tr>\n",
       "    <tr>\n",
       "      <th>1</th>\n",
       "      <td>6</td>\n",
       "      <td>107064</td>\n",
       "      <td>228232</td>\n",
       "      <td>[**2175-5-31**] 11:03 AM\\n RENAL TRANSPLANT U....</td>\n",
       "      <td>0</td>\n",
       "      <td>0</td>\n",
       "    </tr>\n",
       "    <tr>\n",
       "      <th>2</th>\n",
       "      <td>9</td>\n",
       "      <td>150750</td>\n",
       "      <td>220597</td>\n",
       "      <td>[**2149-11-10**] 11:07 AM\\n CT HEAD W/O CONTRA...</td>\n",
       "      <td>1</td>\n",
       "      <td>1</td>\n",
       "    </tr>\n",
       "    <tr>\n",
       "      <th>3</th>\n",
       "      <td>12</td>\n",
       "      <td>112213</td>\n",
       "      <td>232669</td>\n",
       "      <td>ADMIT NOTE\\nPLEASE SEE ADMISSION HISTORY/FHP.\\...</td>\n",
       "      <td>1</td>\n",
       "      <td>0</td>\n",
       "    </tr>\n",
       "    <tr>\n",
       "      <th>4</th>\n",
       "      <td>13</td>\n",
       "      <td>143045</td>\n",
       "      <td>263738</td>\n",
       "      <td>[**2167-1-9**] 6:11 AM\\n CHEST (PORTABLE AP)  ...</td>\n",
       "      <td>1</td>\n",
       "      <td>0</td>\n",
       "    </tr>\n",
       "  </tbody>\n",
       "</table>\n",
       "</div>"
      ],
      "text/plain": [
       "   subject_id  hadm_id  icustay_id  \\\n",
       "0           3   145834      211552   \n",
       "1           6   107064      228232   \n",
       "2           9   150750      220597   \n",
       "3          12   112213      232669   \n",
       "4          13   143045      263738   \n",
       "\n",
       "                                            chartext  train  mort_icu  \n",
       "0  [**2101-10-21**] 1:00 AM\\n CHEST (PORTABLE AP)...      0         0  \n",
       "1  [**2175-5-31**] 11:03 AM\\n RENAL TRANSPLANT U....      0         0  \n",
       "2  [**2149-11-10**] 11:07 AM\\n CT HEAD W/O CONTRA...      1         1  \n",
       "3  ADMIT NOTE\\nPLEASE SEE ADMISSION HISTORY/FHP.\\...      1         0  \n",
       "4  [**2167-1-9**] 6:11 AM\\n CHEST (PORTABLE AP)  ...      1         0  "
      ]
     },
     "execution_count": 74,
     "metadata": {},
     "output_type": "execute_result"
    }
   ],
   "source": [
    "adult_notes_raw = pd.read_csv(\"/home/pulkitmathur1800/csc2548_ml4h/adult_notes\")\n",
    "adult_notes_raw.head()"
   ]
  },
  {
   "cell_type": "markdown",
   "metadata": {},
   "source": [
    "## Deleting punctuation"
   ]
  },
  {
   "cell_type": "code",
   "execution_count": 75,
   "metadata": {
    "collapsed": false
   },
   "outputs": [
    {
     "data": {
      "text/html": [
       "<div>\n",
       "<table border=\"1\" class=\"dataframe\">\n",
       "  <thead>\n",
       "    <tr style=\"text-align: right;\">\n",
       "      <th></th>\n",
       "      <th>chartext</th>\n",
       "      <th>train</th>\n",
       "      <th>mort_icu</th>\n",
       "    </tr>\n",
       "  </thead>\n",
       "  <tbody>\n",
       "    <tr>\n",
       "      <th>0</th>\n",
       "      <td>[2101, 10, 21, 1, 00, AM, CHEST, PORTABLE, AP,...</td>\n",
       "      <td>0</td>\n",
       "      <td>0</td>\n",
       "    </tr>\n",
       "    <tr>\n",
       "      <th>1</th>\n",
       "      <td>[2175, 5, 31, 11, 03, AM, RENAL, TRANSPLANT, U...</td>\n",
       "      <td>0</td>\n",
       "      <td>0</td>\n",
       "    </tr>\n",
       "    <tr>\n",
       "      <th>2</th>\n",
       "      <td>[2149, 11, 10, 11, 07, AM, CT, HEAD, W, O, CON...</td>\n",
       "      <td>1</td>\n",
       "      <td>1</td>\n",
       "    </tr>\n",
       "    <tr>\n",
       "      <th>3</th>\n",
       "      <td>[ADMIT, NOTE, PLEASE, SEE, ADMISSION, HISTORY,...</td>\n",
       "      <td>1</td>\n",
       "      <td>0</td>\n",
       "    </tr>\n",
       "    <tr>\n",
       "      <th>4</th>\n",
       "      <td>[2167, 1, 9, 6, 11, AM, CHEST, PORTABLE, AP, C...</td>\n",
       "      <td>1</td>\n",
       "      <td>0</td>\n",
       "    </tr>\n",
       "  </tbody>\n",
       "</table>\n",
       "</div>"
      ],
      "text/plain": [
       "                                            chartext  train  mort_icu\n",
       "0  [2101, 10, 21, 1, 00, AM, CHEST, PORTABLE, AP,...      0         0\n",
       "1  [2175, 5, 31, 11, 03, AM, RENAL, TRANSPLANT, U...      0         0\n",
       "2  [2149, 11, 10, 11, 07, AM, CT, HEAD, W, O, CON...      1         1\n",
       "3  [ADMIT, NOTE, PLEASE, SEE, ADMISSION, HISTORY,...      1         0\n",
       "4  [2167, 1, 9, 6, 11, AM, CHEST, PORTABLE, AP, C...      1         0"
      ]
     },
     "execution_count": 75,
     "metadata": {},
     "output_type": "execute_result"
    }
   ],
   "source": [
    "adult_notes_raw = adult_notes_raw.drop(['subject_id','hadm_id','icustay_id'],axis=1)\n",
    "from nltk.tokenize import RegexpTokenizer\n",
    "tokenizer = RegexpTokenizer(r'\\w+')\n",
    "adult_notes_raw['chartext'].dropna(inplace=True)\n",
    "adult_notes_raw.chartext = adult_notes_raw.chartext.apply(lambda x: tokenizer.tokenize(x))\n",
    "adult_notes_raw.head()"
   ]
  },
  {
   "cell_type": "markdown",
   "metadata": {},
   "source": [
    "## Deleting stopwords"
   ]
  },
  {
   "cell_type": "code",
   "execution_count": 76,
   "metadata": {
    "collapsed": false
   },
   "outputs": [],
   "source": [
    "from nltk.corpus import stopwords\n",
    "stop_words = set(stopwords.words('english'))\n",
    "adult_notes_raw['chartext'].dropna(inplace=True)\n",
    "adult_notes_raw.chartext = adult_notes_raw.chartext.apply(lambda x: [item for item in x if item not in stop_words])\n",
    "#handling null values if any\n",
    "adult_notes_raw['chartext'].fillna(\"empty\", inplace=True)\n",
    "adult_notes_raw.chartext = adult_notes_raw.chartext.apply(lambda x: ' '.join(map(str, x)))\n",
    "adult_notes_raw.to_pickle('adult_notes_raw')"
   ]
  },
  {
   "cell_type": "code",
   "execution_count": 78,
   "metadata": {
    "collapsed": true
   },
   "outputs": [],
   "source": [
    "adult_notes_raw = pd.read_pickle('adult_notes_raw')"
   ]
  },
  {
   "cell_type": "markdown",
   "metadata": {},
   "source": [
    "## Getting train and test data"
   ]
  },
  {
   "cell_type": "code",
   "execution_count": 30,
   "metadata": {
    "collapsed": false
   },
   "outputs": [],
   "source": [
    "#train-test-split\n",
    "X_train_notes,X_test_notes = adult_notes_raw.loc[adult_notes_raw['train']==1],adult_notes_raw.loc[adult_notes_raw['train']==0]\n",
    "X_train_notes,X_test_notes = X_train_notes.drop(drop_columns,axis=1),X_test_notes.drop(drop_columns,axis=1)\n",
    "Y2 = adult_notes_raw[['mort_icu','train']] \n",
    "Y_train_notes,Y_test_notes = Y2.loc[Y2['train']==1],Y2.loc[Y2['train']==0]\n",
    "Y_train_notes,Y_test_notes = Y_train_notes.drop(['train'],axis=1).values.squeeze(),Y_test_notes.drop(['train'],axis=1).values.squeeze()"
   ]
  },
  {
   "cell_type": "markdown",
   "metadata": {},
   "source": [
    "## Tf-idf Tokenizer"
   ]
  },
  {
   "cell_type": "code",
   "execution_count": 31,
   "metadata": {
    "collapsed": false
   },
   "outputs": [],
   "source": [
    "from sklearn.feature_extraction.text import TfidfVectorizer\n",
    "v = TfidfVectorizer()\n",
    "X_train_notes = v.fit_transform(np.array(X_train_notes['chartext']))\n",
    "X_test_notes = v.transform(np.array(X_test_notes['chartext']))"
   ]
  },
  {
   "cell_type": "markdown",
   "metadata": {},
   "source": [
    "## Training a Logistic regression with l1 regularizer"
   ]
  },
  {
   "cell_type": "code",
   "execution_count": 54,
   "metadata": {
    "collapsed": false
   },
   "outputs": [
    {
     "name": "stdout",
     "output_type": "stream",
     "text": [
      "AUC:  83.984733148\n"
     ]
    },
    {
     "data": {
      "image/png": "[encoded data removed]",
      "text/plain": [
       "<matplotlib.figure.Figure at 0x7fb0dd4170f0>"
      ]
     },
     "metadata": {},
     "output_type": "display_data"
    }
   ],
   "source": [
    "notes_classifier = LogisticRegression(random_state=0,penalty=\"l1\", C=2)\n",
    "notes_classifier.fit(X_train_notes, Y_train_notes)\n",
    "Y_pred_notes = notes_classifier.predict(X_test_notes)\n",
    "#matrix = confusion_matrix(Y_test_notes, Y_pred_notes)\n",
    "Y_test_notes_prob = notes_classifier.predict_proba(X_test_notes)\n",
    "#print(matrix)\n",
    "#print(\"Accuracy: \",notes_classifier.score(X_train_notes, Y_train_notes))\n",
    "auc_model2 = roc_auc_score(Y_test_notes,Y_test_notes_prob[:,1])\n",
    "print(\"AUC: \",roc_auc_score(Y_test_notes,Y_test_notes_prob[:,1])*100)\n",
    "fpr, tpr,_=roc_curve(Y_test_notes,Y_test_notes_prob[:,1])\n",
    "plt.figure()\n",
    "plt.plot(fpr, tpr, color='red', lw=2, label='ROC curve')\n",
    "plt.plot([0, 1], [0, 1], color='blue', lw=2, linestyle='--')\n",
    "plt.xlabel('False Positive Rate')\n",
    "plt.ylabel('True Positive Rate')\n",
    "plt.title('ROC curve')\n",
    "plt.show()"
   ]
  },
  {
   "cell_type": "markdown",
   "metadata": {
    "collapsed": false
   },
   "source": [
    "### Top 5 words associated with high mortality"
   ]
  },
  {
   "cell_type": "code",
   "execution_count": 33,
   "metadata": {
    "collapsed": false
   },
   "outputs": [
    {
     "data": {
      "text/html": [
       "<div>\n",
       "<table border=\"1\" class=\"dataframe\">\n",
       "  <thead>\n",
       "    <tr style=\"text-align: right;\">\n",
       "      <th></th>\n",
       "      <th>Words</th>\n",
       "      <th>coef</th>\n",
       "    </tr>\n",
       "  </thead>\n",
       "  <tbody>\n",
       "    <tr>\n",
       "      <th>87737</th>\n",
       "      <td>death</td>\n",
       "      <td>7.426595</td>\n",
       "    </tr>\n",
       "    <tr>\n",
       "      <th>134053</th>\n",
       "      <td>paucity</td>\n",
       "      <td>8.095111</td>\n",
       "    </tr>\n",
       "    <tr>\n",
       "      <th>92027</th>\n",
       "      <td>dnr</td>\n",
       "      <td>8.459544</td>\n",
       "    </tr>\n",
       "    <tr>\n",
       "      <th>85169</th>\n",
       "      <td>corneal</td>\n",
       "      <td>12.987259</td>\n",
       "    </tr>\n",
       "    <tr>\n",
       "      <th>140117</th>\n",
       "      <td>prognosis</td>\n",
       "      <td>13.633352</td>\n",
       "    </tr>\n",
       "  </tbody>\n",
       "</table>\n",
       "</div>"
      ],
      "text/plain": [
       "            Words       coef\n",
       "87737       death   7.426595\n",
       "134053    paucity   8.095111\n",
       "92027         dnr   8.459544\n",
       "85169     corneal  12.987259\n",
       "140117  prognosis  13.633352"
      ]
     },
     "execution_count": 33,
     "metadata": {},
     "output_type": "execute_result"
    }
   ],
   "source": [
    "Coef_table=pd.DataFrame()\n",
    "Coef_table['Words'] = v.get_feature_names()\n",
    "Coef_table['coef'] = notes_classifier.coef_[0]\n",
    "Coef_table = Coef_table.sort_values('coef')\n",
    "Coef_table.iloc[-5:]"
   ]
  },
  {
   "cell_type": "markdown",
   "metadata": {},
   "source": [
    "###### Explanation:\n",
    "\n",
    "Prognosis is a medical term for predicting the likely or expected development of a disease. \n",
    "Death is a synonym of mortality\n",
    "Paucity means lack of, most of the time doctors uses this term to signify that the patient body has very less number of some vital elements (that are crucial for survival) left.\n",
    "Corneal - People donates their cornea after their death.\n",
    "dnr - \n"
   ]
  },
  {
   "cell_type": "markdown",
   "metadata": {},
   "source": [
    "### Lowest 5 words associated with high mortality"
   ]
  },
  {
   "cell_type": "code",
   "execution_count": 34,
   "metadata": {
    "collapsed": false
   },
   "outputs": [
    {
     "data": {
      "text/html": [
       "<div>\n",
       "<table border=\"1\" class=\"dataframe\">\n",
       "  <thead>\n",
       "    <tr style=\"text-align: right;\">\n",
       "      <th></th>\n",
       "      <th>Words</th>\n",
       "      <th>coef</th>\n",
       "    </tr>\n",
       "  </thead>\n",
       "  <tbody>\n",
       "    <tr>\n",
       "      <th>90112</th>\n",
       "      <td>diet</td>\n",
       "      <td>-20.383519</td>\n",
       "    </tr>\n",
       "    <tr>\n",
       "      <th>99007</th>\n",
       "      <td>extubation</td>\n",
       "      <td>-11.223441</td>\n",
       "    </tr>\n",
       "    <tr>\n",
       "      <th>81476</th>\n",
       "      <td>clear</td>\n",
       "      <td>-9.366060</td>\n",
       "    </tr>\n",
       "    <tr>\n",
       "      <th>98990</th>\n",
       "      <td>extubated</td>\n",
       "      <td>-9.030652</td>\n",
       "    </tr>\n",
       "    <tr>\n",
       "      <th>170311</th>\n",
       "      <td>weaned</td>\n",
       "      <td>-8.386581</td>\n",
       "    </tr>\n",
       "  </tbody>\n",
       "</table>\n",
       "</div>"
      ],
      "text/plain": [
       "             Words       coef\n",
       "90112         diet -20.383519\n",
       "99007   extubation -11.223441\n",
       "81476        clear  -9.366060\n",
       "98990    extubated  -9.030652\n",
       "170311      weaned  -8.386581"
      ]
     },
     "execution_count": 34,
     "metadata": {},
     "output_type": "execute_result"
    }
   ],
   "source": [
    "Coef_table.iloc[:5]"
   ]
  },
  {
   "cell_type": "markdown",
   "metadata": {},
   "source": [
    "###### Explanation:"
   ]
  },
  {
   "cell_type": "markdown",
   "metadata": {},
   "source": [
    "# --------------------------------------------------------------------------------------------------------------\n",
    "# Part 2(c):"
   ]
  },
  {
   "cell_type": "code",
   "execution_count": 62,
   "metadata": {
    "collapsed": false
   },
   "outputs": [],
   "source": [
    "Y_merged_prob = (auc_model1*Y_test_prob) + (auc_model2*Y_test_notes_prob)"
   ]
  },
  {
   "cell_type": "code",
   "execution_count": 59,
   "metadata": {
    "collapsed": true
   },
   "outputs": [],
   "source": [
    "Y_merged_prob = (Y_test_prob+Y_test_notes_prob)/2"
   ]
  },
  {
   "cell_type": "code",
   "execution_count": 63,
   "metadata": {
    "collapsed": false
   },
   "outputs": [
    {
     "name": "stdout",
     "output_type": "stream",
     "text": [
      "AUC:  85.1181845924\n"
     ]
    },
    {
     "data": {
      "image/png": "[encoded data removed]",
      "text/plain": [
       "<matplotlib.figure.Figure at 0x7fb1d17d1048>"
      ]
     },
     "metadata": {},
     "output_type": "display_data"
    }
   ],
   "source": [
    "auc_model3 = roc_auc_score(Y_test_notes,Y_merged_prob[:,1])\n",
    "print(\"AUC: \",roc_auc_score(Y_test_notes,Y_merged_prob[:,1])*100)\n",
    "fpr, tpr,_=roc_curve(Y_test_notes,Y_merged_prob[:,1])\n",
    "plt.figure()\n",
    "plt.plot(fpr, tpr, color='red', lw=2, label='ROC curve')\n",
    "plt.plot([0, 1], [0, 1], color='blue', lw=2, linestyle='--')\n",
    "plt.xlabel('False Positive Rate')\n",
    "plt.ylabel('True Positive Rate')\n",
    "plt.title('ROC curve')\n",
    "plt.show()"
   ]
  },
  {
   "cell_type": "markdown",
   "metadata": {},
   "source": [
    "Explanation:"
   ]
  },
  {
   "cell_type": "markdown",
   "metadata": {},
   "source": [
    "# --------------------------------------------------------------------------------------------------------------- Part 3(a)\n"
   ]
  },
  {
   "cell_type": "markdown",
   "metadata": {},
   "source": [
    "# --------------------------------------------------------------------------------------------------------------\n",
    "# Part 4(a):"
   ]
  },
  {
   "cell_type": "code",
   "execution_count": 79,
   "metadata": {
    "collapsed": false
   },
   "outputs": [],
   "source": [
    "adult_notes_lda = adult_notes_raw.drop([\"train\",\"mort_icu\"],axis=1)\n",
    "text_data=[]\n",
    "for i in range(adult_notes_lda.shape[0]):\n",
    "    text_data.append(adult_notes_lda['chartext'][i].split())"
   ]
  },
  {
   "cell_type": "code",
   "execution_count": 23,
   "metadata": {
    "collapsed": false
   },
   "outputs": [],
   "source": [
    "#create dictionary\n",
    "dictionary = corpora.Dictionary(text_data)\n",
    "#Term document frequency\n",
    "corpus = [dictionary.doc2bow(text) for text in text_data]\n",
    "\n",
    "import pickle\n",
    "pickle.dump(corpus, open('corpus.pkl', 'wb'))\n",
    "dictionary.save('dictionary.gensim')"
   ]
  },
  {
   "cell_type": "code",
   "execution_count": 80,
   "metadata": {
    "collapsed": false
   },
   "outputs": [],
   "source": [
    "dictionary = corpora.Dictionary.load('dictionary.gensim') \n",
    "corpus = [dictionary.doc2bow(text) for text in text_data]"
   ]
  },
  {
   "cell_type": "code",
   "execution_count": 88,
   "metadata": {
    "collapsed": false
   },
   "outputs": [],
   "source": [
    "ldamodel = gensim.models.ldamodel.LdaModel(corpus, num_topics = 20, id2word=dictionary)\n",
    "ldamodel.save('model20.gensim')"
   ]
  },
  {
   "cell_type": "code",
   "execution_count": 89,
   "metadata": {
    "collapsed": true
   },
   "outputs": [],
   "source": [
    "ldamodel = gensim.models.ldamodel.LdaModel(corpus, num_topics = 50, id2word=dictionary)\n",
    "ldamodel.save('model50.gensim')"
   ]
  },
  {
   "cell_type": "code",
   "execution_count": 90,
   "metadata": {
    "collapsed": true
   },
   "outputs": [],
   "source": [
    "ldamodel = gensim.models.ldamodel.LdaModel(corpus, num_topics = 100, id2word=dictionary)\n",
    "ldamodel.save('model100.gensim')"
   ]
  },
  {
   "cell_type": "code",
   "execution_count": 92,
   "metadata": {
    "collapsed": true
   },
   "outputs": [],
   "source": [
    "ldamodel = gensim.models.ldamodel.LdaModel.load('model20.gensim')"
   ]
  },
  {
   "cell_type": "code",
   "execution_count": 97,
   "metadata": {
    "collapsed": false
   },
   "outputs": [
    {
     "name": "stdout",
     "output_type": "stream",
     "text": [
      "\n",
      "Coherence Score:  -0.74613090643\n"
     ]
    }
   ],
   "source": [
    "# Compute Coherence Score using UMass\n",
    "coherence_model_lda = CoherenceModel(model=ldamodel, corpus=corpus ,dictionary=dictionary, coherence=\"u_mass\")\n",
    "coherence_lda = coherence_model_lda.get_coherence()\n",
    "print('\\nCoherence Score: ', coherence_lda)"
   ]
  },
  {
   "cell_type": "code",
   "execution_count": 91,
   "metadata": {
    "collapsed": false
   },
   "outputs": [
    {
     "name": "stdout",
     "output_type": "stream",
     "text": [
      "(0, '0.268*\"2188\" + 0.005*\"2206\" + 0.003*\"1\" + 0.003*\"3\" + 0.003*\"5\" + 0.002*\"2\" + 0.002*\"7\" + 0.002*\"CT\" + 0.002*\"No\" + 0.002*\"right\" + 0.002*\"AM\" + 0.002*\"4\" + 0.002*\"left\" + 0.002*\"Name\" + 0.002*\"6\" + 0.001*\"pt\" + 0.001*\"0\" + 0.001*\"Clip\" + 0.001*\"The\" + 0.001*\"9\"')\n",
      "(1, '0.020*\"artery\" + 0.012*\"right\" + 0.012*\"The\" + 0.009*\"aneurysm\" + 0.009*\"left\" + 0.009*\"Numeric\" + 0.009*\"Identifier\" + 0.009*\"Name\" + 0.007*\"Last\" + 0.007*\"carotid\" + 0.007*\"Clip\" + 0.006*\"2\" + 0.006*\"procedure\" + 0.006*\"catheter\" + 0.005*\"common\" + 0.005*\"______________________________________________________________________________\" + 0.005*\"A\" + 0.005*\"patient\" + 0.005*\"1\" + 0.005*\"embolization\"')\n",
      "(2, '0.028*\"trach\" + 0.026*\"2104\" + 0.022*\"2106\" + 0.020*\"2169\" + 0.017*\"p\" + 0.015*\"HD\" + 0.009*\"e\" + 0.009*\"Pt\" + 0.007*\"m\" + 0.007*\"t\" + 0.007*\"y\" + 0.007*\"ESRD\" + 0.006*\"tracheal\" + 0.006*\"2\" + 0.005*\"PEG\" + 0.005*\"rehab\" + 0.005*\"Trach\" + 0.005*\"1\" + 0.004*\"pt\" + 0.004*\"dialysis\"')\n",
      "(3, '0.016*\"liver\" + 0.011*\"cirrhosis\" + 0.011*\"2\" + 0.009*\"1\" + 0.008*\"hepatic\" + 0.008*\"GI\" + 0.008*\"ascites\" + 0.008*\"portal\" + 0.008*\"bleeding\" + 0.007*\"2146\" + 0.007*\"8\" + 0.006*\"3\" + 0.006*\"bleed\" + 0.006*\"varices\" + 0.006*\"4\" + 0.006*\"encephalopathy\" + 0.006*\"lactulose\" + 0.006*\"5\" + 0.005*\"EGD\" + 0.005*\"10\"')\n",
      "(4, '0.015*\"1\" + 0.013*\"mL\" + 0.012*\"2\" + 0.010*\"3\" + 0.009*\"AM\" + 0.009*\"5\" + 0.009*\"0\" + 0.008*\"PM\" + 0.008*\"4\" + 0.008*\"10\" + 0.007*\"L\" + 0.007*\"7\" + 0.007*\"mg\" + 0.007*\"12\" + 0.007*\"11\" + 0.007*\"8\" + 0.007*\"9\" + 0.007*\"dL\" + 0.006*\"Assessment\" + 0.006*\"6\"')\n",
      "(5, '0.016*\"1\" + 0.013*\"mL\" + 0.012*\"2\" + 0.009*\"3\" + 0.009*\"0\" + 0.009*\"AM\" + 0.008*\"mg\" + 0.008*\"dL\" + 0.008*\"4\" + 0.007*\"5\" + 0.007*\"7\" + 0.007*\"8\" + 0.006*\"L\" + 0.006*\"12\" + 0.006*\"9\" + 0.006*\"6\" + 0.005*\"PM\" + 0.005*\"No\" + 0.005*\"10\" + 0.004*\"Assessment\"')\n",
      "(6, '0.016*\"Pt\" + 0.016*\"pt\" + 0.009*\"pain\" + 0.007*\"w\" + 0.007*\"2\" + 0.006*\"c\" + 0.006*\"Name\" + 0.005*\"1\" + 0.005*\"hr\" + 0.004*\"3\" + 0.004*\"given\" + 0.004*\"clear\" + 0.003*\"HR\" + 0.003*\"100\" + 0.003*\"noted\" + 0.003*\"A\" + 0.003*\"gtt\" + 0.003*\"BP\" + 0.003*\"5\" + 0.003*\"IV\"')\n",
      "(7, '0.010*\"Pt\" + 0.008*\"pt\" + 0.008*\"tube\" + 0.008*\"intubated\" + 0.006*\"vent\" + 0.006*\"Name\" + 0.006*\"5\" + 0.006*\"2\" + 0.005*\"hr\" + 0.004*\"secretions\" + 0.004*\"7\" + 0.004*\"1\" + 0.004*\"sedation\" + 0.004*\"w\" + 0.004*\"sedated\" + 0.003*\"ABG\" + 0.003*\"noted\" + 0.003*\"placement\" + 0.003*\"No\" + 0.003*\"4\"')\n",
      "(8, '0.019*\"TO\" + 0.018*\"AND\" + 0.016*\"PT\" + 0.011*\"WITH\" + 0.011*\"OF\" + 0.010*\"ON\" + 0.010*\"FOR\" + 0.008*\"S\" + 0.008*\"IN\" + 0.007*\"IS\" + 0.006*\"Name\" + 0.006*\"NO\" + 0.006*\"AT\" + 0.006*\"THE\" + 0.006*\"WAS\" + 0.005*\"THIS\" + 0.005*\"HR\" + 0.005*\"A\" + 0.005*\"HAS\" + 0.005*\"2\"')\n",
      "(9, '0.002*\"pt\" + 0.002*\"Pt\" + 0.002*\"2\" + 0.002*\"No\" + 0.002*\"1\" + 0.001*\"4\" + 0.001*\"Name\" + 0.001*\"3\" + 0.001*\"7\" + 0.001*\"5\" + 0.001*\"AM\" + 0.001*\"The\" + 0.001*\"______________________________________________________________________________\" + 0.001*\"w\" + 0.001*\"right\" + 0.001*\"There\" + 0.001*\"noted\" + 0.001*\"8\" + 0.001*\"9\" + 0.001*\"0\"')\n",
      "(10, '0.002*\"2\" + 0.002*\"pt\" + 0.002*\"Pt\" + 0.001*\"1\" + 0.001*\"Name\" + 0.001*\"FOR\" + 0.001*\"TO\" + 0.001*\"AND\" + 0.001*\"The\" + 0.001*\"AM\" + 0.001*\"A\" + 0.001*\"Clip\" + 0.001*\"4\" + 0.001*\"No\" + 0.001*\"______________________________________________________________________________\" + 0.001*\"5\" + 0.001*\"PT\" + 0.001*\"right\" + 0.001*\"WITH\" + 0.001*\"3\"')\n",
      "(11, '0.001*\"TO\" + 0.001*\"Pt\" + 0.001*\"2\" + 0.001*\"Name\" + 0.001*\"3\" + 0.001*\"AM\" + 0.001*\"5\" + 0.001*\"1\" + 0.001*\"AND\" + 0.001*\"No\" + 0.001*\"PT\" + 0.001*\"S\" + 0.001*\"FOR\" + 0.001*\"6\" + 0.001*\"7\" + 0.001*\"4\" + 0.001*\"A\" + 0.001*\"WITH\" + 0.001*\"ON\" + 0.000*\"12\"')\n",
      "(12, '0.001*\"1\" + 0.001*\"2\" + 0.001*\"Name\" + 0.000*\"4\" + 0.000*\"3\" + 0.000*\"The\" + 0.000*\"right\" + 0.000*\"5\" + 0.000*\"pt\" + 0.000*\"No\" + 0.000*\"6\" + 0.000*\"7\" + 0.000*\"left\" + 0.000*\"Pt\" + 0.000*\"artery\" + 0.000*\"AM\" + 0.000*\"______________________________________________________________________________\" + 0.000*\"patient\" + 0.000*\"Clip\" + 0.000*\"A\"')\n",
      "(13, '0.021*\"TO\" + 0.013*\"AND\" + 0.013*\"PT\" + 0.010*\"WITH\" + 0.009*\"S\" + 0.008*\"ON\" + 0.007*\"FOR\" + 0.007*\"IN\" + 0.007*\"Name\" + 0.006*\"AT\" + 0.006*\"NO\" + 0.006*\"OF\" + 0.006*\"O\" + 0.005*\"2\" + 0.005*\"A\" + 0.005*\"1\" + 0.004*\"C\" + 0.004*\"HR\" + 0.004*\"Pt\" + 0.004*\"PAIN\"')\n",
      "(14, '0.011*\"2\" + 0.009*\"tube\" + 0.009*\"chest\" + 0.008*\"CABG\" + 0.008*\"______________________________________________________________________________\" + 0.006*\"1\" + 0.006*\"Clip\" + 0.006*\"CHEST\" + 0.006*\"p\" + 0.006*\"left\" + 0.006*\"pneumothorax\" + 0.005*\"5\" + 0.005*\"Name\" + 0.005*\"AVR\" + 0.005*\"right\" + 0.005*\"pleural\" + 0.005*\"PM\" + 0.005*\"CI\" + 0.005*\"3\" + 0.005*\"4\"')\n",
      "(15, '0.011*\"CT\" + 0.011*\"left\" + 0.011*\"right\" + 0.009*\"______________________________________________________________________________\" + 0.008*\"hemorrhage\" + 0.008*\"Clip\" + 0.007*\"2\" + 0.007*\"There\" + 0.007*\"No\" + 0.006*\"head\" + 0.006*\"fracture\" + 0.005*\"Name\" + 0.005*\"The\" + 0.005*\"W\" + 0.005*\"old\" + 0.005*\"Diagnosis\" + 0.005*\"Radiology\" + 0.005*\"year\" + 0.005*\"Reason\" + 0.004*\"1\"')\n",
      "(16, '0.015*\"1\" + 0.012*\"2\" + 0.007*\"3\" + 0.006*\"mg\" + 0.006*\"5\" + 0.006*\"mL\" + 0.005*\"4\" + 0.005*\"gtt\" + 0.005*\"No\" + 0.004*\"Plan\" + 0.004*\"w\" + 0.004*\"cath\" + 0.004*\"Name\" + 0.004*\"12\" + 0.004*\"CCU\" + 0.004*\"Assessment\" + 0.004*\"Action\" + 0.004*\"9\" + 0.004*\"0\" + 0.004*\"Response\"')\n",
      "(17, '0.013*\"______________________________________________________________________________\" + 0.011*\"Clip\" + 0.011*\"2\" + 0.010*\"right\" + 0.009*\"The\" + 0.008*\"left\" + 0.008*\"There\" + 0.007*\"old\" + 0.007*\"year\" + 0.007*\"CHEST\" + 0.007*\"tube\" + 0.006*\"Reason\" + 0.006*\"Diagnosis\" + 0.006*\"REPORT\" + 0.006*\"Radiology\" + 0.006*\"Admitting\" + 0.006*\"CT\" + 0.006*\"Hospital\" + 0.006*\"Number\" + 0.006*\"REASON\"')\n",
      "(18, '0.013*\"No\" + 0.009*\"1\" + 0.007*\"Pt\" + 0.006*\"2\" + 0.006*\"pain\" + 0.006*\"4\" + 0.005*\"pt\" + 0.005*\"3\" + 0.005*\"Name\" + 0.005*\"7\" + 0.005*\"5\" + 0.004*\"8\" + 0.004*\"0\" + 0.004*\"Plan\" + 0.004*\"AM\" + 0.004*\"6\" + 0.004*\"IV\" + 0.004*\"mg\" + 0.003*\"given\" + 0.003*\"patient\"')\n",
      "(19, '0.015*\"TO\" + 0.009*\"AND\" + 0.009*\"FOR\" + 0.008*\"WITH\" + 0.007*\"S\" + 0.007*\"2\" + 0.006*\"Name\" + 0.006*\"tube\" + 0.005*\"ON\" + 0.005*\"PT\" + 0.005*\"______________________________________________________________________________\" + 0.005*\"left\" + 0.005*\"CHEST\" + 0.004*\"IN\" + 0.004*\"right\" + 0.004*\"Clip\" + 0.004*\"THIS\" + 0.004*\"OF\" + 0.004*\"1\" + 0.004*\"The\"')\n"
     ]
    }
   ],
   "source": [
    "words = [' respiratory','vomiting', 'urine', 'pulse']\n",
    "ldamodel = gensim.models.ldamodel.LdaModel.load('model20.gensim')\n",
    "topics = ldamodel.print_topics(num_words=20)\n",
    "for topic in topics:\n",
    "    print(topic)"
   ]
  }
 ],
 "metadata": {
  "anaconda-cloud": {},
  "kernelspec": {
   "display_name": "Python [default]",
   "language": "python",
   "name": "python3"
  },
  "language_info": {
   "codemirror_mode": {
    "name": "ipython",
    "version": 3
   },
   "file_extension": ".py",
   "mimetype": "text/x-python",
   "name": "python",
   "nbconvert_exporter": "python",
   "pygments_lexer": "ipython3",
   "version": "3.5.2"
  }
 },
 "nbformat": 4,
 "nbformat_minor": 1
}
