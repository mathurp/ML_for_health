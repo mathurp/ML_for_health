{
 "cells": [
  {
   "cell_type": "code",
   "execution_count": null,
   "metadata": {
    "collapsed": false
   },
   "outputs": [],
   "source": [
    "import numpy\n",
    "import pandas as pd\n",
    "from sklearn.linear_model import LogisticRegression\n",
    "from sklearn.metrics import confusion_matrix,roc_curve,roc_auc_score\n",
    "from sklearn import preprocessing\n",
    "import matplotlib.pyplot as plt\n",
    "import seaborn as sns\n",
    "sns.set(style=\"white\")\n",
    "sns.set(style=\"whitegrid\", color_codes=True)"
   ]
  },
  {
   "cell_type": "code",
   "execution_count": 63,
   "metadata": {
    "collapsed": false
   },
   "outputs": [
    {
     "name": "stdout",
     "output_type": "stream",
     "text": [
      "(27348, 62)\n",
      "['subject_id', 'hadm_id', 'icustay_id', 'age', 'mort_icu', 'first_hosp_stay', 'first_icu_stay', 'adult_icu', 'eth_asian', 'eth_black', 'eth_hispanic', 'eth_other', 'eth_white', 'admType_ELECTIVE', 'admType_EMERGENCY', 'admType_NEWBORN', 'admType_URGENT', 'heartrate_min', 'heartrate_max', 'heartrate_mean', 'sysbp_min', 'sysbp_max', 'sysbp_mean', 'diasbp_min', 'diasbp_max', 'diasbp_mean', 'meanbp_min', 'meanbp_max', 'meanbp_mean', 'resprate_min', 'resprate_max', 'resprate_mean', 'tempc_min', 'tempc_max', 'tempc_mean', 'spo2_min', 'spo2_max', 'spo2_mean', 'glucose_min', 'glucose_max', 'glucose_mean', 'aniongap', 'albumin', 'bicarbonate', 'bilirubin', 'creatinine', 'chloride', 'glucose', 'hematocrit', 'hemoglobin', 'lactate', 'magnesium', 'phosphate', 'platelet', 'potassium', 'ptt', 'inr', 'pt', 'sodium', 'bun', 'wbc', 'train']\n"
     ]
    },
    {
     "data": {
      "text/html": [
       "<div>\n",
       "<table border=\"1\" class=\"dataframe\">\n",
       "  <thead>\n",
       "    <tr style=\"text-align: right;\">\n",
       "      <th></th>\n",
       "      <th>age</th>\n",
       "      <th>mort_icu</th>\n",
       "      <th>first_hosp_stay</th>\n",
       "      <th>first_icu_stay</th>\n",
       "      <th>adult_icu</th>\n",
       "      <th>eth_asian</th>\n",
       "      <th>eth_black</th>\n",
       "      <th>eth_hispanic</th>\n",
       "      <th>eth_other</th>\n",
       "      <th>eth_white</th>\n",
       "      <th>...</th>\n",
       "      <th>phosphate</th>\n",
       "      <th>platelet</th>\n",
       "      <th>potassium</th>\n",
       "      <th>ptt</th>\n",
       "      <th>inr</th>\n",
       "      <th>pt</th>\n",
       "      <th>sodium</th>\n",
       "      <th>bun</th>\n",
       "      <th>wbc</th>\n",
       "      <th>train</th>\n",
       "    </tr>\n",
       "  </thead>\n",
       "  <tbody>\n",
       "    <tr>\n",
       "      <th>0</th>\n",
       "      <td>76.0</td>\n",
       "      <td>0</td>\n",
       "      <td>1</td>\n",
       "      <td>1</td>\n",
       "      <td>1</td>\n",
       "      <td>0</td>\n",
       "      <td>0</td>\n",
       "      <td>0</td>\n",
       "      <td>0</td>\n",
       "      <td>1</td>\n",
       "      <td>...</td>\n",
       "      <td>4.8</td>\n",
       "      <td>282.0</td>\n",
       "      <td>5.4</td>\n",
       "      <td>30.7</td>\n",
       "      <td>1.3</td>\n",
       "      <td>13.5</td>\n",
       "      <td>136.0</td>\n",
       "      <td>53.0</td>\n",
       "      <td>12.7</td>\n",
       "      <td>0</td>\n",
       "    </tr>\n",
       "    <tr>\n",
       "      <th>1</th>\n",
       "      <td>65.0</td>\n",
       "      <td>0</td>\n",
       "      <td>1</td>\n",
       "      <td>1</td>\n",
       "      <td>1</td>\n",
       "      <td>0</td>\n",
       "      <td>0</td>\n",
       "      <td>0</td>\n",
       "      <td>0</td>\n",
       "      <td>1</td>\n",
       "      <td>...</td>\n",
       "      <td>8.5</td>\n",
       "      <td>315.0</td>\n",
       "      <td>5.4</td>\n",
       "      <td>139.0</td>\n",
       "      <td>1.4</td>\n",
       "      <td>14.6</td>\n",
       "      <td>138.0</td>\n",
       "      <td>62.0</td>\n",
       "      <td>10.6</td>\n",
       "      <td>0</td>\n",
       "    </tr>\n",
       "    <tr>\n",
       "      <th>2</th>\n",
       "      <td>41.0</td>\n",
       "      <td>1</td>\n",
       "      <td>1</td>\n",
       "      <td>1</td>\n",
       "      <td>1</td>\n",
       "      <td>0</td>\n",
       "      <td>0</td>\n",
       "      <td>0</td>\n",
       "      <td>1</td>\n",
       "      <td>0</td>\n",
       "      <td>...</td>\n",
       "      <td>2.9</td>\n",
       "      <td>258.0</td>\n",
       "      <td>2.8</td>\n",
       "      <td>21.7</td>\n",
       "      <td>1.1</td>\n",
       "      <td>12.7</td>\n",
       "      <td>140.0</td>\n",
       "      <td>16.0</td>\n",
       "      <td>7.5</td>\n",
       "      <td>1</td>\n",
       "    </tr>\n",
       "    <tr>\n",
       "      <th>3</th>\n",
       "      <td>72.0</td>\n",
       "      <td>0</td>\n",
       "      <td>1</td>\n",
       "      <td>1</td>\n",
       "      <td>1</td>\n",
       "      <td>0</td>\n",
       "      <td>0</td>\n",
       "      <td>0</td>\n",
       "      <td>0</td>\n",
       "      <td>1</td>\n",
       "      <td>...</td>\n",
       "      <td>6.6</td>\n",
       "      <td>156.0</td>\n",
       "      <td>4.9</td>\n",
       "      <td>55.2</td>\n",
       "      <td>1.7</td>\n",
       "      <td>15.9</td>\n",
       "      <td>138.0</td>\n",
       "      <td>28.0</td>\n",
       "      <td>8.4</td>\n",
       "      <td>1</td>\n",
       "    </tr>\n",
       "    <tr>\n",
       "      <th>4</th>\n",
       "      <td>39.0</td>\n",
       "      <td>0</td>\n",
       "      <td>1</td>\n",
       "      <td>1</td>\n",
       "      <td>1</td>\n",
       "      <td>0</td>\n",
       "      <td>0</td>\n",
       "      <td>0</td>\n",
       "      <td>0</td>\n",
       "      <td>1</td>\n",
       "      <td>...</td>\n",
       "      <td>3.9</td>\n",
       "      <td>216.0</td>\n",
       "      <td>3.5</td>\n",
       "      <td>44.1</td>\n",
       "      <td>1.2</td>\n",
       "      <td>13.7</td>\n",
       "      <td>139.0</td>\n",
       "      <td>13.0</td>\n",
       "      <td>16.6</td>\n",
       "      <td>1</td>\n",
       "    </tr>\n",
       "  </tbody>\n",
       "</table>\n",
       "<p>5 rows × 59 columns</p>\n",
       "</div>"
      ],
      "text/plain": [
       "    age  mort_icu  first_hosp_stay  first_icu_stay  adult_icu  eth_asian  \\\n",
       "0  76.0         0                1               1          1          0   \n",
       "1  65.0         0                1               1          1          0   \n",
       "2  41.0         1                1               1          1          0   \n",
       "3  72.0         0                1               1          1          0   \n",
       "4  39.0         0                1               1          1          0   \n",
       "\n",
       "   eth_black  eth_hispanic  eth_other  eth_white  ...    phosphate  platelet  \\\n",
       "0          0             0          0          1  ...          4.8     282.0   \n",
       "1          0             0          0          1  ...          8.5     315.0   \n",
       "2          0             0          1          0  ...          2.9     258.0   \n",
       "3          0             0          0          1  ...          6.6     156.0   \n",
       "4          0             0          0          1  ...          3.9     216.0   \n",
       "\n",
       "   potassium    ptt  inr    pt  sodium   bun   wbc  train  \n",
       "0        5.4   30.7  1.3  13.5   136.0  53.0  12.7      0  \n",
       "1        5.4  139.0  1.4  14.6   138.0  62.0  10.6      0  \n",
       "2        2.8   21.7  1.1  12.7   140.0  16.0   7.5      1  \n",
       "3        4.9   55.2  1.7  15.9   138.0  28.0   8.4      1  \n",
       "4        3.5   44.1  1.2  13.7   139.0  13.0  16.6      1  \n",
       "\n",
       "[5 rows x 59 columns]"
      ]
     },
     "execution_count": 63,
     "metadata": {},
     "output_type": "execute_result"
    }
   ],
   "source": [
    "adult_icu_raw = pd.read_csv(\"/home/pulkitmathur1800/csc2548_ml4h/adult_icu\")\n",
    "print(adult_icu_raw.shape)\n",
    "print(list(adult_icu_raw.columns))\n",
    "adult_icu_raw = adult_icu_raw.drop(['subject_id','hadm_id','icustay_id'],axis=1)\n",
    "scaler = preprocessing.StandardScaler()\n",
    "adult_icu_scaled = scaler.fit_transform(adult_icu)\n",
    "adult_icu_scaled = pd.DataFrame(adult_icu_scaled, columns=adult_icu_raw.columns)\n",
    "adult_icu_raw.head()"
   ]
  },
  {
   "cell_type": "code",
   "execution_count": 62,
   "metadata": {
    "collapsed": false
   },
   "outputs": [
    {
     "data": {
      "image/png": "[encoded data removed]",
      "text/plain": [
       "<matplotlib.figure.Figure at 0x7f1f735b4cc0>"
      ]
     },
     "metadata": {},
     "output_type": "display_data"
    }
   ],
   "source": [
    "sns.countplot(x='mort_icu',data=adult_icu_scaled, palette='hls')\n",
    "plt.show()"
   ]
  },
  {
   "cell_type": "code",
   "execution_count": 53,
   "metadata": {
    "collapsed": false
   },
   "outputs": [],
   "source": [
    "X = adult_icu_scaled.drop(['mort_icu'],axis=1)\n",
    "X_train,X_test = X.loc[X['train']==1],X.loc[X['train']==0]\n",
    "X_train,X_test = X_train.drop(['train'],axis=1),X_test.drop(['train'],axis=1)\n",
    "Y = adult_icu_scaled[['mort_icu','train']] \n",
    "Y_train,Y_test = Y.loc[Y['train']==1],Y.loc[Y['train']==0]\n",
    "Y_train,Y_test = Y_train.drop(['train'],axis=1).values.squeeze(),Y_test.drop(['train'],axis=1).values.squeeze()"
   ]
  },
  {
   "cell_type": "code",
   "execution_count": 68,
   "metadata": {
    "collapsed": false
   },
   "outputs": [
    {
     "name": "stdout",
     "output_type": "stream",
     "text": [
      "[[7234   66]\n",
      " [ 730   78]]\n"
     ]
    }
   ],
   "source": [
    "classifier = LogisticRegression(random_state=0,penalty=\"l2\", C=1)\n",
    "classifier.fit(X_train, Y_train)\n",
    "Y_pred = classifier.predict(X_test)\n",
    "matrix = confusion_matrix(Y_test, Y_pred)\n",
    "print(matrix)"
   ]
  },
  {
   "cell_type": "code",
   "execution_count": 65,
   "metadata": {
    "collapsed": false
   },
   "outputs": [
    {
     "data": {
      "text/plain": [
       "0.90618503118503113"
      ]
     },
     "execution_count": 65,
     "metadata": {},
     "output_type": "execute_result"
    }
   ],
   "source": [
    "classifier.score(X_train, Y_train)"
   ]
  },
  {
   "cell_type": "code",
   "execution_count": 69,
   "metadata": {
    "collapsed": false
   },
   "outputs": [
    {
     "data": {
      "image/png": "[encoded data removed]",
      "text/plain": [
       "<matplotlib.figure.Figure at 0x7f1f7367cc50>"
      ]
     },
     "metadata": {},
     "output_type": "display_data"
    }
   ],
   "source": [
    "fpr, tpr,_=roc_curve(Y_pred,Y_test)\n",
    "plt.figure()\n",
    "plt.plot(fpr, tpr, color='red', lw=2, label='ROC curve')\n",
    "plt.plot([0, 1], [0, 1], color='blue', lw=2, linestyle='--')\n",
    "plt.xlabel('False Positive Rate')\n",
    "plt.ylabel('True Positive Rate')\n",
    "plt.title('ROC curve')\n",
    "plt.show()"
   ]
  },
  {
   "cell_type": "code",
   "execution_count": 70,
   "metadata": {
    "collapsed": false
   },
   "outputs": [
    {
     "data": {
      "text/plain": [
       "0.72500209275071148"
      ]
     },
     "execution_count": 70,
     "metadata": {},
     "output_type": "execute_result"
    }
   ],
   "source": [
    "roc_auc_score(Y_pred,Y_test)"
   ]
  },
  {
   "cell_type": "code",
   "execution_count": 3,
   "metadata": {
    "collapsed": false
   },
   "outputs": [
    {
     "name": "stdout",
     "output_type": "stream",
     "text": [
      "(27348, 3)\n"
     ]
    },
    {
     "data": {
      "text/html": [
       "<div>\n",
       "<table border=\"1\" class=\"dataframe\">\n",
       "  <thead>\n",
       "    <tr style=\"text-align: right;\">\n",
       "      <th></th>\n",
       "      <th>chartext</th>\n",
       "      <th>train</th>\n",
       "      <th>mort_icu</th>\n",
       "    </tr>\n",
       "  </thead>\n",
       "  <tbody>\n",
       "    <tr>\n",
       "      <th>0</th>\n",
       "      <td>[**2101-10-21**] 1:00 AM\\n CHEST (PORTABLE AP)...</td>\n",
       "      <td>0</td>\n",
       "      <td>0</td>\n",
       "    </tr>\n",
       "    <tr>\n",
       "      <th>1</th>\n",
       "      <td>[**2175-5-31**] 11:03 AM\\n RENAL TRANSPLANT U....</td>\n",
       "      <td>0</td>\n",
       "      <td>0</td>\n",
       "    </tr>\n",
       "    <tr>\n",
       "      <th>2</th>\n",
       "      <td>[**2149-11-10**] 11:07 AM\\n CT HEAD W/O CONTRA...</td>\n",
       "      <td>1</td>\n",
       "      <td>1</td>\n",
       "    </tr>\n",
       "    <tr>\n",
       "      <th>3</th>\n",
       "      <td>ADMIT NOTE\\nPLEASE SEE ADMISSION HISTORY/FHP.\\...</td>\n",
       "      <td>1</td>\n",
       "      <td>0</td>\n",
       "    </tr>\n",
       "    <tr>\n",
       "      <th>4</th>\n",
       "      <td>[**2167-1-9**] 6:11 AM\\n CHEST (PORTABLE AP)  ...</td>\n",
       "      <td>1</td>\n",
       "      <td>0</td>\n",
       "    </tr>\n",
       "  </tbody>\n",
       "</table>\n",
       "</div>"
      ],
      "text/plain": [
       "                                            chartext  train  mort_icu\n",
       "0  [**2101-10-21**] 1:00 AM\\n CHEST (PORTABLE AP)...      0         0\n",
       "1  [**2175-5-31**] 11:03 AM\\n RENAL TRANSPLANT U....      0         0\n",
       "2  [**2149-11-10**] 11:07 AM\\n CT HEAD W/O CONTRA...      1         1\n",
       "3  ADMIT NOTE\\nPLEASE SEE ADMISSION HISTORY/FHP.\\...      1         0\n",
       "4  [**2167-1-9**] 6:11 AM\\n CHEST (PORTABLE AP)  ...      1         0"
      ]
     },
     "execution_count": 3,
     "metadata": {},
     "output_type": "execute_result"
    }
   ],
   "source": [
    "adult_notes_raw = pd.read_csv(\"/home/pulkitmathur1800/csc2548_ml4h/adult_notes\")\n",
    "adult_notes_raw = adult_notes_raw.drop(['subject_id','hadm_id','icustay_id'],axis=1)\n",
    "print(adult_notes_raw.shape)\n",
    "adult_notes_raw.head()"
   ]
  },
  {
   "cell_type": "code",
   "execution_count": 4,
   "metadata": {
    "collapsed": false
   },
   "outputs": [
    {
     "data": {
      "image/png": "[encoded data removed]",
      "text/plain": [
       "<matplotlib.figure.Figure at 0x7f5b95784e80>"
      ]
     },
     "metadata": {},
     "output_type": "display_data"
    }
   ],
   "source": [
    "sns.countplot(x='mort_icu',data=adult_notes_raw, palette='hls')\n",
    "plt.show()"
   ]
  },
  {
   "cell_type": "code",
   "execution_count": 5,
   "metadata": {
    "collapsed": false
   },
   "outputs": [
    {
     "data": {
      "text/html": [
       "<div>\n",
       "<table border=\"1\" class=\"dataframe\">\n",
       "  <thead>\n",
       "    <tr style=\"text-align: right;\">\n",
       "      <th></th>\n",
       "      <th>chartext</th>\n",
       "      <th>train</th>\n",
       "      <th>mort_icu</th>\n",
       "    </tr>\n",
       "  </thead>\n",
       "  <tbody>\n",
       "    <tr>\n",
       "      <th>0</th>\n",
       "      <td>[2101, 10, 21, 1, 00, AM, CHEST, PORTABLE, AP,...</td>\n",
       "      <td>0</td>\n",
       "      <td>0</td>\n",
       "    </tr>\n",
       "    <tr>\n",
       "      <th>1</th>\n",
       "      <td>[2175, 5, 31, 11, 03, AM, RENAL, TRANSPLANT, U...</td>\n",
       "      <td>0</td>\n",
       "      <td>0</td>\n",
       "    </tr>\n",
       "    <tr>\n",
       "      <th>2</th>\n",
       "      <td>[2149, 11, 10, 11, 07, AM, CT, HEAD, W, O, CON...</td>\n",
       "      <td>1</td>\n",
       "      <td>1</td>\n",
       "    </tr>\n",
       "    <tr>\n",
       "      <th>3</th>\n",
       "      <td>[ADMIT, NOTE, PLEASE, SEE, ADMISSION, HISTORY,...</td>\n",
       "      <td>1</td>\n",
       "      <td>0</td>\n",
       "    </tr>\n",
       "    <tr>\n",
       "      <th>4</th>\n",
       "      <td>[2167, 1, 9, 6, 11, AM, CHEST, PORTABLE, AP, C...</td>\n",
       "      <td>1</td>\n",
       "      <td>0</td>\n",
       "    </tr>\n",
       "  </tbody>\n",
       "</table>\n",
       "</div>"
      ],
      "text/plain": [
       "                                            chartext  train  mort_icu\n",
       "0  [2101, 10, 21, 1, 00, AM, CHEST, PORTABLE, AP,...      0         0\n",
       "1  [2175, 5, 31, 11, 03, AM, RENAL, TRANSPLANT, U...      0         0\n",
       "2  [2149, 11, 10, 11, 07, AM, CT, HEAD, W, O, CON...      1         1\n",
       "3  [ADMIT, NOTE, PLEASE, SEE, ADMISSION, HISTORY,...      1         0\n",
       "4  [2167, 1, 9, 6, 11, AM, CHEST, PORTABLE, AP, C...      1         0"
      ]
     },
     "execution_count": 5,
     "metadata": {},
     "output_type": "execute_result"
    }
   ],
   "source": [
    "#deleting punctuation\n",
    "from nltk.tokenize import RegexpTokenizer\n",
    "tokenizer = RegexpTokenizer(r'\\w+')\n",
    "adult_notes_raw['chartext'].dropna(inplace=True)\n",
    "adult_notes_raw.chartext = adult_notes_raw.chartext.apply(lambda x: tokenizer.tokenize(x))\n",
    "adult_notes_raw.head()"
   ]
  },
  {
   "cell_type": "code",
   "execution_count": 15,
   "metadata": {
    "collapsed": false
   },
   "outputs": [
    {
     "ename": "TypeError",
     "evalue": "'float' object is not iterable",
     "output_type": "error",
     "traceback": [
      "\u001b[0;31m---------------------------------------------------------------------------\u001b[0m",
      "\u001b[0;31mTypeError\u001b[0m                                 Traceback (most recent call last)",
      "\u001b[0;32m<ipython-input-15-199997a5756a>\u001b[0m in \u001b[0;36m<module>\u001b[0;34m()\u001b[0m\n\u001b[1;32m      4\u001b[0m \u001b[0madult_notes_raw\u001b[0m\u001b[0;34m[\u001b[0m\u001b[0;34m'chartext'\u001b[0m\u001b[0;34m]\u001b[0m\u001b[0;34m.\u001b[0m\u001b[0mdropna\u001b[0m\u001b[0;34m(\u001b[0m\u001b[0minplace\u001b[0m\u001b[0;34m=\u001b[0m\u001b[0;32mTrue\u001b[0m\u001b[0;34m)\u001b[0m\u001b[0;34m\u001b[0m\u001b[0m\n\u001b[1;32m      5\u001b[0m \u001b[0madult_notes_raw\u001b[0m\u001b[0;34m.\u001b[0m\u001b[0mchartext\u001b[0m \u001b[0;34m=\u001b[0m \u001b[0madult_notes_raw\u001b[0m\u001b[0;34m.\u001b[0m\u001b[0mchartext\u001b[0m\u001b[0;34m.\u001b[0m\u001b[0mapply\u001b[0m\u001b[0;34m(\u001b[0m\u001b[0;32mlambda\u001b[0m \u001b[0mx\u001b[0m\u001b[0;34m:\u001b[0m \u001b[0;34m[\u001b[0m\u001b[0mitem\u001b[0m \u001b[0;32mfor\u001b[0m \u001b[0mitem\u001b[0m \u001b[0;32min\u001b[0m \u001b[0mx\u001b[0m \u001b[0;32mif\u001b[0m \u001b[0mitem\u001b[0m \u001b[0;32mnot\u001b[0m \u001b[0;32min\u001b[0m \u001b[0mstop_words\u001b[0m\u001b[0;34m]\u001b[0m\u001b[0;34m)\u001b[0m\u001b[0;34m\u001b[0m\u001b[0m\n\u001b[0;32m----> 6\u001b[0;31m \u001b[0madult_notes_raw\u001b[0m\u001b[0;34m.\u001b[0m\u001b[0mchartext\u001b[0m \u001b[0;34m=\u001b[0m \u001b[0madult_notes_raw\u001b[0m\u001b[0;34m.\u001b[0m\u001b[0mchartext\u001b[0m\u001b[0;34m.\u001b[0m\u001b[0mapply\u001b[0m\u001b[0;34m(\u001b[0m\u001b[0;32mlambda\u001b[0m \u001b[0mx\u001b[0m\u001b[0;34m:\u001b[0m \u001b[0;34m' '\u001b[0m\u001b[0;34m.\u001b[0m\u001b[0mjoin\u001b[0m\u001b[0;34m(\u001b[0m\u001b[0mmap\u001b[0m\u001b[0;34m(\u001b[0m\u001b[0mstr\u001b[0m\u001b[0;34m,\u001b[0m \u001b[0mx\u001b[0m\u001b[0;34m)\u001b[0m\u001b[0;34m)\u001b[0m\u001b[0;34m)\u001b[0m\u001b[0;34m\u001b[0m\u001b[0m\n\u001b[0m\u001b[1;32m      7\u001b[0m \u001b[0madult_notes_raw\u001b[0m\u001b[0;34m.\u001b[0m\u001b[0mhead\u001b[0m\u001b[0;34m(\u001b[0m\u001b[0;34m)\u001b[0m\u001b[0;34m\u001b[0m\u001b[0m\n",
      "\u001b[0;32m/home/pulkitmathur1800/anaconda3/lib/python3.5/site-packages/pandas/core/series.py\u001b[0m in \u001b[0;36mapply\u001b[0;34m(self, func, convert_dtype, args, **kwds)\u001b[0m\n\u001b[1;32m   2218\u001b[0m         \u001b[0;32melse\u001b[0m\u001b[0;34m:\u001b[0m\u001b[0;34m\u001b[0m\u001b[0m\n\u001b[1;32m   2219\u001b[0m             \u001b[0mvalues\u001b[0m \u001b[0;34m=\u001b[0m \u001b[0mself\u001b[0m\u001b[0;34m.\u001b[0m\u001b[0masobject\u001b[0m\u001b[0;34m\u001b[0m\u001b[0m\n\u001b[0;32m-> 2220\u001b[0;31m             \u001b[0mmapped\u001b[0m \u001b[0;34m=\u001b[0m \u001b[0mlib\u001b[0m\u001b[0;34m.\u001b[0m\u001b[0mmap_infer\u001b[0m\u001b[0;34m(\u001b[0m\u001b[0mvalues\u001b[0m\u001b[0;34m,\u001b[0m \u001b[0mf\u001b[0m\u001b[0;34m,\u001b[0m \u001b[0mconvert\u001b[0m\u001b[0;34m=\u001b[0m\u001b[0mconvert_dtype\u001b[0m\u001b[0;34m)\u001b[0m\u001b[0;34m\u001b[0m\u001b[0m\n\u001b[0m\u001b[1;32m   2221\u001b[0m \u001b[0;34m\u001b[0m\u001b[0m\n\u001b[1;32m   2222\u001b[0m         \u001b[0;32mif\u001b[0m \u001b[0mlen\u001b[0m\u001b[0;34m(\u001b[0m\u001b[0mmapped\u001b[0m\u001b[0;34m)\u001b[0m \u001b[0;32mand\u001b[0m \u001b[0misinstance\u001b[0m\u001b[0;34m(\u001b[0m\u001b[0mmapped\u001b[0m\u001b[0;34m[\u001b[0m\u001b[0;36m0\u001b[0m\u001b[0;34m]\u001b[0m\u001b[0;34m,\u001b[0m \u001b[0mSeries\u001b[0m\u001b[0;34m)\u001b[0m\u001b[0;34m:\u001b[0m\u001b[0;34m\u001b[0m\u001b[0m\n",
      "\u001b[0;32mpandas/src/inference.pyx\u001b[0m in \u001b[0;36mpandas.lib.map_infer (pandas/lib.c:62658)\u001b[0;34m()\u001b[0m\n",
      "\u001b[0;32m<ipython-input-15-199997a5756a>\u001b[0m in \u001b[0;36m<lambda>\u001b[0;34m(x)\u001b[0m\n\u001b[1;32m      4\u001b[0m \u001b[0madult_notes_raw\u001b[0m\u001b[0;34m[\u001b[0m\u001b[0;34m'chartext'\u001b[0m\u001b[0;34m]\u001b[0m\u001b[0;34m.\u001b[0m\u001b[0mdropna\u001b[0m\u001b[0;34m(\u001b[0m\u001b[0minplace\u001b[0m\u001b[0;34m=\u001b[0m\u001b[0;32mTrue\u001b[0m\u001b[0;34m)\u001b[0m\u001b[0;34m\u001b[0m\u001b[0m\n\u001b[1;32m      5\u001b[0m \u001b[0madult_notes_raw\u001b[0m\u001b[0;34m.\u001b[0m\u001b[0mchartext\u001b[0m \u001b[0;34m=\u001b[0m \u001b[0madult_notes_raw\u001b[0m\u001b[0;34m.\u001b[0m\u001b[0mchartext\u001b[0m\u001b[0;34m.\u001b[0m\u001b[0mapply\u001b[0m\u001b[0;34m(\u001b[0m\u001b[0;32mlambda\u001b[0m \u001b[0mx\u001b[0m\u001b[0;34m:\u001b[0m \u001b[0;34m[\u001b[0m\u001b[0mitem\u001b[0m \u001b[0;32mfor\u001b[0m \u001b[0mitem\u001b[0m \u001b[0;32min\u001b[0m \u001b[0mx\u001b[0m \u001b[0;32mif\u001b[0m \u001b[0mitem\u001b[0m \u001b[0;32mnot\u001b[0m \u001b[0;32min\u001b[0m \u001b[0mstop_words\u001b[0m\u001b[0;34m]\u001b[0m\u001b[0;34m)\u001b[0m\u001b[0;34m\u001b[0m\u001b[0m\n\u001b[0;32m----> 6\u001b[0;31m \u001b[0madult_notes_raw\u001b[0m\u001b[0;34m.\u001b[0m\u001b[0mchartext\u001b[0m \u001b[0;34m=\u001b[0m \u001b[0madult_notes_raw\u001b[0m\u001b[0;34m.\u001b[0m\u001b[0mchartext\u001b[0m\u001b[0;34m.\u001b[0m\u001b[0mapply\u001b[0m\u001b[0;34m(\u001b[0m\u001b[0;32mlambda\u001b[0m \u001b[0mx\u001b[0m\u001b[0;34m:\u001b[0m \u001b[0;34m' '\u001b[0m\u001b[0;34m.\u001b[0m\u001b[0mjoin\u001b[0m\u001b[0;34m(\u001b[0m\u001b[0mmap\u001b[0m\u001b[0;34m(\u001b[0m\u001b[0mstr\u001b[0m\u001b[0;34m,\u001b[0m \u001b[0mx\u001b[0m\u001b[0;34m)\u001b[0m\u001b[0;34m)\u001b[0m\u001b[0;34m)\u001b[0m\u001b[0;34m\u001b[0m\u001b[0m\n\u001b[0m\u001b[1;32m      7\u001b[0m \u001b[0madult_notes_raw\u001b[0m\u001b[0;34m.\u001b[0m\u001b[0mhead\u001b[0m\u001b[0;34m(\u001b[0m\u001b[0;34m)\u001b[0m\u001b[0;34m\u001b[0m\u001b[0m\n",
      "\u001b[0;31mTypeError\u001b[0m: 'float' object is not iterable"
     ]
    }
   ],
   "source": [
    "#deleting stopwords\n",
    "from nltk.corpus import stopwords\n",
    "stop_words = set(stopwords.words('english'))\n",
    "adult_notes_raw['chartext'].dropna(inplace=True)\n",
    "adult_notes_raw.chartext = adult_notes_raw.chartext.apply(lambda x: [item for item in x if item not in stop_words])"
   ]
  },
  {
   "cell_type": "code",
   "execution_count": 16,
   "metadata": {
    "collapsed": false
   },
   "outputs": [
    {
     "data": {
      "text/html": [
       "<div>\n",
       "<table border=\"1\" class=\"dataframe\">\n",
       "  <thead>\n",
       "    <tr style=\"text-align: right;\">\n",
       "      <th></th>\n",
       "      <th>chartext</th>\n",
       "      <th>train</th>\n",
       "      <th>mort_icu</th>\n",
       "    </tr>\n",
       "  </thead>\n",
       "  <tbody>\n",
       "    <tr>\n",
       "      <th>0</th>\n",
       "      <td>2101 10 21 1 00 AM CHEST PORTABLE AP Clip Clip...</td>\n",
       "      <td>0</td>\n",
       "      <td>0</td>\n",
       "    </tr>\n",
       "    <tr>\n",
       "      <th>1</th>\n",
       "      <td>2175 5 31 11 03 AM RENAL TRANSPLANT U S RIGHT ...</td>\n",
       "      <td>0</td>\n",
       "      <td>0</td>\n",
       "    </tr>\n",
       "    <tr>\n",
       "      <th>2</th>\n",
       "      <td>2149 11 10 11 07 AM CT HEAD W O CONTRAST Clip ...</td>\n",
       "      <td>1</td>\n",
       "      <td>1</td>\n",
       "    </tr>\n",
       "    <tr>\n",
       "      <th>3</th>\n",
       "      <td>ADMIT NOTE PLEASE SEE ADMISSION HISTORY FHP PT...</td>\n",
       "      <td>1</td>\n",
       "      <td>0</td>\n",
       "    </tr>\n",
       "    <tr>\n",
       "      <th>4</th>\n",
       "      <td>2167 1 9 6 11 AM CHEST PORTABLE AP Clip Clip N...</td>\n",
       "      <td>1</td>\n",
       "      <td>0</td>\n",
       "    </tr>\n",
       "  </tbody>\n",
       "</table>\n",
       "</div>"
      ],
      "text/plain": [
       "                                            chartext  train  mort_icu\n",
       "0  2101 10 21 1 00 AM CHEST PORTABLE AP Clip Clip...      0         0\n",
       "1  2175 5 31 11 03 AM RENAL TRANSPLANT U S RIGHT ...      0         0\n",
       "2  2149 11 10 11 07 AM CT HEAD W O CONTRAST Clip ...      1         1\n",
       "3  ADMIT NOTE PLEASE SEE ADMISSION HISTORY FHP PT...      1         0\n",
       "4  2167 1 9 6 11 AM CHEST PORTABLE AP Clip Clip N...      1         0"
      ]
     },
     "execution_count": 16,
     "metadata": {},
     "output_type": "execute_result"
    }
   ],
   "source": [
    "adult_notes_raw['chartext'].dropna(inplace=True)\n",
    "adult_notes_raw.chartext = adult_notes_raw.chartext.apply(lambda x: ' '.join(map(str, x)))\n",
    "adult_notes_raw.head()"
   ]
  },
  {
   "cell_type": "code",
   "execution_count": 22,
   "metadata": {
    "collapsed": false
   },
   "outputs": [],
   "source": [
    "#train-test-split\n",
    "X2 = adult_notes_raw.drop(['mort_icu'],axis=1)\n",
    "X_train_notes,X_test_notes = X2.loc[X2['train']==1].drop(['train'],axis=1),X2.loc[X2['train']==0].drop(['train'],axis=1)\n",
    "X_train_notes['chartext'].dropna(inplace=True)\n",
    "X_test_notes['chartext'].dropna(inplace=True)\n",
    "Y2 = adult_notes_raw[['mort_icu','train']] \n",
    "Y_train_notes,Y_test_notes = Y2.loc[Y2['train']==1],Y2.loc[Y2['train']==0]\n",
    "Y_train_notes,Y_test_notes = Y_train_notes.drop(['train'],axis=1).values.squeeze(),Y_test_notes.drop(['train'],axis=1).values.squeeze()\n"
   ]
  },
  {
   "cell_type": "code",
   "execution_count": 27,
   "metadata": {
    "collapsed": false
   },
   "outputs": [
    {
     "data": {
      "text/plain": [
       "'2101 10 21 1 00 AM CHEST PORTABLE AP Clip Clip Number Radiology 68854 Reason S P RIJ ______________________________________________________________________________ Hospital 2 MEDICAL CONDITION 76 year old man hypotension vfib arrest status post RSC line placement REASON FOR THIS EXAMINATION please eval infiltrate effusions CHF ______________________________________________________________________________ FINAL REPORT INDICATION Line placement Comparison study 2101 10 20 22 29 FINDINGS ETT located 7 cm carina A right subclavian central venous catheter located upper SVC A PA catheter placed via right IJ seen tip right interlobar pulmonary artery The heart size mediastinal contours unchanged There worsening retrocardiac opacification The pulmonary vasculature within normal limits given technique There interval blunting left costophrenic angle There pneumothorax Left sided PICC line seen terminate mid SVC IMPRESSION 1 Interval placement PA catheter right subclavian central venous catheter 2 Worsening retrocardiac atelectasis small bilateral pleural effusions Micu Progress Nursing Note Patient arrived unit 19 15 ED Hx 2 days hypotension Hospital 1 Rehab systolic bps 80s Foley placed night admission 100cc total urine output dark sludgy urine Patient suffered v tach cardiac arrest within 30 minutes arrival unit deterioration v fib Shocked x 2 360 j Dopa Epi Neo Levophed Lido gtts Given Adenosine 6 12 12 return v tach synchronized cardioversion Also received Fentanyl total 200mcg Versed 2mg Ativan 4 mg A line right subclavian central line placed Swan line also placed Patient existing Picc line needs dc today tip sent culture Patient received 5000cc NS unit reported 6 liters given ED Patient made DNR conference family Additionally blood cultures 2 sites sent x two sputum urine cx sent Patient recent hx admit Hospital1 2 revascularization left leg secondary heel ulcer Month 3 year During summer year additionally underwent angioplasty stent placement right coronary artery Patient diabetic blood sugars running 300s Insulin coverage given Paps 30s 40s 15 20 means 20s CO 3 74 thermodilution 9 4 Fick SVR 1668 Resp status AC peep 8 FIo2 weaned 50 TV 600 rate 18 Gases improving Please see flow sheet details Suctioned thick yellow secretions moderate amount Lung sounds diminished Bowel sounds hypoactive urine output minimal High bacteria count urine Foley cath need changed Plan monitor infection fluids skin condition Family coming morning need much emotional support First Name8 NamePattern2 4 Last Name NamePattern1 5 RN 2101 10 21 4 43 PM CHEST PORTABLE AP Clip Clip Number Radiology 68855 Reason please assess og tube ETT placement thank ______________________________________________________________________________ Hospital 2 MEDICAL CONDITION 76 year old man hypotension vfib arrest status post RIJ line placement Swan REASON FOR THIS EXAMINATION please assess og tube ETT placement thank ______________________________________________________________________________ FINAL REPORT INDICATION Assess OG ET placement patient hypotension v fib arrest status post right IJ line placement AP radiograph dated 2101 10 21 17 12 compared AP radiograph dated 2101 10 21 6 34 ETT PA catheter right subclavian line OG tube satisfactory position The left sided PICC catheter removed The heart pulmonary vessels pulmonary parenchyma unchanged No pneumothorax IMPRESSION 1 Satisfactory positioning lines tubes described 2 Stable appearance small left pleural effusion left retrocardiac opacity Respiratory Care Note Patient remains intubated 7 5 oral ET tube 25cm lip BS equal bilat decreased bases He assist control 500cc tidal volume rate 14 30 FIO2 5 PEEP ABG 7 41 24 93 16 7 2097 Suctioned today clearish white secretions average amount He awake times sedated ativan prn He remains amiodarone heparin infusions Plan rest today aggressive weaning mech ventilation tomorrow 2101 10 21 6 10 AM CHEST PORTABLE AP Clip Clip Number Radiology 69024 Reason please eval line placement ______________________________________________________________________________ Hospital 2 MEDICAL CONDITION 76 year old man hypotension vfib arrest status post RIJ line placement Swan REASON FOR THIS EXAMINATION please eval line placement ______________________________________________________________________________ FINAL REPORT 06 34 INDICATION Post line placement Comparison made study 5 hours previously FINDINGS ETT PA catheter right subclavian line left sided PICC unchanged position A kink seen right subclavian line likely enters skin Heart pulmonary vessels pulmonary parenchyma unchanged IMPRESSION 1 Stable appearance small pleural effusion retrocardiac opacity 2 Kink right sided subclavian central venous line region likely enters skin MICU NSG PROG NOTE days Remains stable high dose neo tapering levofed awake episode VT today DNR afebrile alot abx beginning make urine ROS CARDIAC Maintaining map 60 neo levofed He tolerated steady wean levofed day 27beat run VT self limiting Cardiology involved discussing keeping lido gtt changing amiodarone Keeping close monitoring lytes replaced calcium afternoon Labs pnd Continuing cycle ck troponin Echo today ef 15 Bolusing w 500cc ns following FICK CO 15minutes post fluid RESP good abg good oxygenation Strong cough Has alot thick tan secretions requiring frequent suctioning RENAL elevated bun cr Has begun make urine 30cc hr day UA pnd REplaced foley For c GI npo FLuid electrolyte approx 12L pos day On maintenance ivf w prn boluses Swan place functioning well Wedges w approx 1 2cc air w difficulty good wave form PA WEDGE NEURO He woke Nods head simple questions squeezes L hand move legs command Attempted bring L arm ETT restrained SKIN stapled incisions legs open air w evidence infection NS wet dry dsg feet necrotic areas noted R toes R lateral foot L foot w clean open lateral ulceration L heel ulceration dopplerable pulses DP per vascular surgeon today ID afebrile On abx SOCIAL His family wife 6 7 children His son Name2 NI 6 CA They spoken w intern attending physician seem understand pt condition ASSESS stable w one noted run VT today Tolerating tapering levofed Neurological improvement Good oxygenation Good ventilatory support Poor cardiac function Potential lethal arrythmias PLAN cont wean pressors keep map 60 wean levofed first Monitor lytes 2101 10 22 4 27 PM CHEST PORTABLE AP Clip Clip Number Radiology 68856 Reason please assess effusions ______________________________________________________________________________ Hospital 2 MEDICAL CONDITION 76 year old man hypotension vfib arrest status post RIJ line placement Swan REASON FOR THIS EXAMINATION please assess effusions ______________________________________________________________________________ FINAL REPORT INDICATION IJ line insertion CHEST PORTABLE Swan Ganz line present A right subclavian central line noted Positions ETT NGT unchanged The heart normal size appearance lungs unchanged There pneumothorax IMPRESSION No change chest past 24 hrs NPN addendum Order additional NS bolus 500cc ordered 10 30 PM started Swan numbers including wedge need done one half hour bolus 11 30PM I also gave dose IV calcium orderd 2101 10 20 10 23 PM CHEST PORTABLE AP Clip Clip Number Radiology 46359 Reason please eval PTX CHF effusions infiltrates ______________________________________________________________________________ Hospital 2 MEDICAL CONDITION 76 year old man hypotension vfib arrest status post RSC line placement REASON FOR THIS EXAMINATION please eval PTX CHF effusions infiltrates ______________________________________________________________________________ FINAL REPORT INDICATIONS Hypertension V Fib rest p right subclavian line placement PORTABLE CHEST Comparison made previous films four hours prior FINDINGS There placement right sided subclavian catheter tip proximal SVC Additionally left sided PICC line tip distal SVC There interval intubation endotracheal tube 6 5 cm carina The heart enlarged increased pulmonary vascular markings well hilar haziness Additionally bilateral atelectasis bilateral small effusions There focal opacities pneumothorax IMPRESSION 1 Cardiomegaly unchanged CHF 2 Intubation ETT 6 5 cm carina 3 Interval placement right subclavian line tip SVC pneumothorax Resp Care Note Pt intubated vented settings AC 600x 14x 40 peep 8 Rate weaned 18 16 14 shift slight resp alkalosis ABG Sxn thick blood tinged secretions ABG pending current settings adjust vent needed npn 7 7p neuro Pt alert opens eyes verbal stimuli Follows commands consistently MAE purposefully PERL sluggish response Pt c pain 1500 treated IV MS complaints Ativan prn agitation receiving 2 mg q 4hours Pt soft wrist restraints resp AC PEEP 5 Tv 600 900 FiO2 40 sats 97 99 LS coarse diminished bases CV NSR PVC none since Was neo 5 mcg kg min since weaned BP 130 60 Heparin currently 9 5cc h Next PTT due 2230 Amio drip finished 1700 Pt start PO 400mg tid eve PAWP 16 21 CO fick 6 6 CI 2 97 Access Swan Ganz cath R IJ Cordis R SC Peripheral IV R L hands GI GU Patent foley draining cloudy urine 50cc h Belly soft BS No BM shit ID PT Vanco MRSA sputum Zosyn Fluconazole UTI Gent dc today Skin Duoderm coccyx Area around duoderm redenned open L leg staples fem Doctor Last Name 7 surgery 10 12 intact drainage L foot lateral aspect pressure ulcer 5 cm x 3 cm W D dressing L heel healing ulcer santyl applied R foot necrotic toes dried ulcer heel DSD entire foot Social Very supportive family visit today wife children Code status Pt DNR When extubated need adddress family would want reintubated Plan PO amio wean vent extubation stop Heparin 48 hours maintain crit 30 sedation needed Check wedge pressure q6h per Dr Last Name STitle 8 Micu Nursing Progress Note Neuro Remains mostly non responsive periods wakefulness attempt communicate nurse Name2 NI two episodes last night He squeeze nurse hand asked using left hand Right hand moves bed Both hands restrained safety secondary increased wakefulness one attempt day shift reach ET tube Pupils equal 3 mm slightly sluggish Gag cough reflexes intact Resp Remains AC 40 600 14 peep 8 Resp rate decreased night Please see flow sheet serial blood gases Lung sounds coarse throughout Suctioned q 2 3hours small amounts thick yellow secretions CV Remains Amiodorone gtt 5 mg min decreased 1mg min 11 15 pm last night Gtt run rate 18 hours Now SR 60s 70s rare PAC No runs VT Maps remained 60 On Neo gtt 5mcg kg min Heparin gtt 1350 units stopped 03 30 secondary PTT 150 This result verified second draw Ptt sent 05 15 MD aware Wedge CO done q2 3 hours Please see flow sheet details GI GU NPO OG tube checked placement Ph 5 guiac slightly positive Small amount bilious secretions draw back Bowel sounds positive four quadrants Making urine throughout night 45cc hr Lines PA line right IJ site benign Wedges well Line VIP port A line right femoral All tracings sharp All lines zeroed Right sub clavian site benign Right left hand peripherals flush well Plan Continue attempt wean vent pressors Monitor labs fluid status via CO FIck Antibiotics ID control Monitor neuro status LOC First Name8 NamePattern2 4 Last Name NamePattern1 5 RN MICU NPN 3PM 11PM Neuro Pt restless times movements extremities follow commands squeeze hand open eyes Pupils 4MM equal reactive light bilaterally His sedation since day shift getting restless coughing chewing ETT constantly After discussion team decision made use PRN ativan boluses effective keep comfortable Resp Remains AC 18 TV 600 FIO2 40 8cm peep Good sats Stable gas Suctioned frequently beginning shift He mod amts thick pale yellow secretions via ETT well orally Lungs coarse Cardiac Weaned levophed mid shift BP 90 130 60 GOAL MAP 60 Also lido drip shut pt bolused amiodarone 150mg started infusion amio 1mg min changed 5mg min 11 15PM He needs amiodarone 5mg min continuously 18hrs assess switched PO regimen He much less ectopy runs VT since starting amio drip He tolerated bolus well without hypotension His triponin came back greater 50 today treated acute MI He given aspirin one tab via NGT started heparin drip No bolus given Infusion started 6 30PM needs PTT 12 30PM The heparin sliding scale orders drip needs adjusted according scale His swan numbers show SVR 900 CO 5 4 PCW 18 22 He getting 500cc fluid boluses intermittently ordered MD numbers need checked one half hour later GI OGT inserted meds CXR confirmed good placement BS GU UO 30 40cc hr Urine dark cloudy Grew yeast urine given fluconazole 400mg via OGT ID Afebrile WBC 18 evening Continues gent vanco zosyn I sent blood culture fungal isolator tonight ordered Skin Dressing right toes left heal side foot changed Areas look necrotic Social Large family involved Pt apparently poor quality life recently mild alzheimer dementia poor circulation neuropathy diabetes spent major part life bed days They comfortable decision DNR even question whether continue aggressive I tell struggle decision reassured right decisions made give time see direction goes'"
      ]
     },
     "execution_count": 27,
     "metadata": {},
     "output_type": "execute_result"
    }
   ],
   "source": [
    "adult_notes_raw['chartext'][0]"
   ]
  },
  {
   "cell_type": "code",
   "execution_count": 23,
   "metadata": {
    "collapsed": false
   },
   "outputs": [],
   "source": [
    "X_train_notes = numpy.array(X_train_notes['chartext'])\n",
    "X_test_notes = numpy.array(X_test_notes['chartext'])"
   ]
  },
  {
   "cell_type": "code",
   "execution_count": 24,
   "metadata": {
    "collapsed": false
   },
   "outputs": [
    {
     "ename": "MemoryError",
     "evalue": "",
     "output_type": "error",
     "traceback": [
      "\u001b[0;31m---------------------------------------------------------------------------\u001b[0m",
      "\u001b[0;31mMemoryError\u001b[0m                               Traceback (most recent call last)",
      "\u001b[0;32m<ipython-input-24-16b987a1f5a4>\u001b[0m in \u001b[0;36m<module>\u001b[0;34m()\u001b[0m\n\u001b[1;32m      1\u001b[0m \u001b[0;32mfrom\u001b[0m \u001b[0msklearn\u001b[0m\u001b[0;34m.\u001b[0m\u001b[0mfeature_extraction\u001b[0m\u001b[0;34m.\u001b[0m\u001b[0mtext\u001b[0m \u001b[0;32mimport\u001b[0m \u001b[0mTfidfVectorizer\u001b[0m\u001b[0;34m\u001b[0m\u001b[0m\n\u001b[1;32m      2\u001b[0m \u001b[0mv\u001b[0m \u001b[0;34m=\u001b[0m \u001b[0mTfidfVectorizer\u001b[0m\u001b[0;34m(\u001b[0m\u001b[0;34m)\u001b[0m\u001b[0;34m\u001b[0m\u001b[0m\n\u001b[0;32m----> 3\u001b[0;31m \u001b[0mx\u001b[0m \u001b[0;34m=\u001b[0m \u001b[0mv\u001b[0m\u001b[0;34m.\u001b[0m\u001b[0mfit_transform\u001b[0m\u001b[0;34m(\u001b[0m\u001b[0mX_train_notes\u001b[0m\u001b[0;34m)\u001b[0m\u001b[0;34m\u001b[0m\u001b[0m\n\u001b[0m",
      "\u001b[0;32m/home/pulkitmathur1800/anaconda3/lib/python3.5/site-packages/sklearn/feature_extraction/text.py\u001b[0m in \u001b[0;36mfit_transform\u001b[0;34m(self, raw_documents, y)\u001b[0m\n\u001b[1;32m   1303\u001b[0m             \u001b[0mTf\u001b[0m\u001b[0;34m-\u001b[0m\u001b[0midf\u001b[0m\u001b[0;34m-\u001b[0m\u001b[0mweighted\u001b[0m \u001b[0mdocument\u001b[0m\u001b[0;34m-\u001b[0m\u001b[0mterm\u001b[0m \u001b[0mmatrix\u001b[0m\u001b[0;34m.\u001b[0m\u001b[0;34m\u001b[0m\u001b[0m\n\u001b[1;32m   1304\u001b[0m         \"\"\"\n\u001b[0;32m-> 1305\u001b[0;31m         \u001b[0mX\u001b[0m \u001b[0;34m=\u001b[0m \u001b[0msuper\u001b[0m\u001b[0;34m(\u001b[0m\u001b[0mTfidfVectorizer\u001b[0m\u001b[0;34m,\u001b[0m \u001b[0mself\u001b[0m\u001b[0;34m)\u001b[0m\u001b[0;34m.\u001b[0m\u001b[0mfit_transform\u001b[0m\u001b[0;34m(\u001b[0m\u001b[0mraw_documents\u001b[0m\u001b[0;34m)\u001b[0m\u001b[0;34m\u001b[0m\u001b[0m\n\u001b[0m\u001b[1;32m   1306\u001b[0m         \u001b[0mself\u001b[0m\u001b[0;34m.\u001b[0m\u001b[0m_tfidf\u001b[0m\u001b[0;34m.\u001b[0m\u001b[0mfit\u001b[0m\u001b[0;34m(\u001b[0m\u001b[0mX\u001b[0m\u001b[0;34m)\u001b[0m\u001b[0;34m\u001b[0m\u001b[0m\n\u001b[1;32m   1307\u001b[0m         \u001b[0;31m# X is already a transformed view of raw_documents so\u001b[0m\u001b[0;34m\u001b[0m\u001b[0;34m\u001b[0m\u001b[0m\n",
      "\u001b[0;32m/home/pulkitmathur1800/anaconda3/lib/python3.5/site-packages/sklearn/feature_extraction/text.py\u001b[0m in \u001b[0;36mfit_transform\u001b[0;34m(self, raw_documents, y)\u001b[0m\n\u001b[1;32m    815\u001b[0m \u001b[0;34m\u001b[0m\u001b[0m\n\u001b[1;32m    816\u001b[0m         vocabulary, X = self._count_vocab(raw_documents,\n\u001b[0;32m--> 817\u001b[0;31m                                           self.fixed_vocabulary_)\n\u001b[0m\u001b[1;32m    818\u001b[0m \u001b[0;34m\u001b[0m\u001b[0m\n\u001b[1;32m    819\u001b[0m         \u001b[0;32mif\u001b[0m \u001b[0mself\u001b[0m\u001b[0;34m.\u001b[0m\u001b[0mbinary\u001b[0m\u001b[0;34m:\u001b[0m\u001b[0;34m\u001b[0m\u001b[0m\n",
      "\u001b[0;32m/home/pulkitmathur1800/anaconda3/lib/python3.5/site-packages/sklearn/feature_extraction/text.py\u001b[0m in \u001b[0;36m_count_vocab\u001b[0;34m(self, raw_documents, fixed_vocab)\u001b[0m\n\u001b[1;32m    767\u001b[0m         \u001b[0mj_indices\u001b[0m \u001b[0;34m=\u001b[0m \u001b[0mfrombuffer_empty\u001b[0m\u001b[0;34m(\u001b[0m\u001b[0mj_indices\u001b[0m\u001b[0;34m,\u001b[0m \u001b[0mdtype\u001b[0m\u001b[0;34m=\u001b[0m\u001b[0mnp\u001b[0m\u001b[0;34m.\u001b[0m\u001b[0mintc\u001b[0m\u001b[0;34m)\u001b[0m\u001b[0;34m\u001b[0m\u001b[0m\n\u001b[1;32m    768\u001b[0m         \u001b[0mindptr\u001b[0m \u001b[0;34m=\u001b[0m \u001b[0mnp\u001b[0m\u001b[0;34m.\u001b[0m\u001b[0mfrombuffer\u001b[0m\u001b[0;34m(\u001b[0m\u001b[0mindptr\u001b[0m\u001b[0;34m,\u001b[0m \u001b[0mdtype\u001b[0m\u001b[0;34m=\u001b[0m\u001b[0mnp\u001b[0m\u001b[0;34m.\u001b[0m\u001b[0mintc\u001b[0m\u001b[0;34m)\u001b[0m\u001b[0;34m\u001b[0m\u001b[0m\n\u001b[0;32m--> 769\u001b[0;31m         \u001b[0mvalues\u001b[0m \u001b[0;34m=\u001b[0m \u001b[0mnp\u001b[0m\u001b[0;34m.\u001b[0m\u001b[0mones\u001b[0m\u001b[0;34m(\u001b[0m\u001b[0mlen\u001b[0m\u001b[0;34m(\u001b[0m\u001b[0mj_indices\u001b[0m\u001b[0;34m)\u001b[0m\u001b[0;34m)\u001b[0m\u001b[0;34m\u001b[0m\u001b[0m\n\u001b[0m\u001b[1;32m    770\u001b[0m \u001b[0;34m\u001b[0m\u001b[0m\n\u001b[1;32m    771\u001b[0m         X = sp.csr_matrix((values, j_indices, indptr),\n",
      "\u001b[0;32m/home/pulkitmathur1800/anaconda3/lib/python3.5/site-packages/numpy/core/numeric.py\u001b[0m in \u001b[0;36mones\u001b[0;34m(shape, dtype, order)\u001b[0m\n\u001b[1;32m    188\u001b[0m \u001b[0;34m\u001b[0m\u001b[0m\n\u001b[1;32m    189\u001b[0m     \"\"\"\n\u001b[0;32m--> 190\u001b[0;31m     \u001b[0ma\u001b[0m \u001b[0;34m=\u001b[0m \u001b[0mempty\u001b[0m\u001b[0;34m(\u001b[0m\u001b[0mshape\u001b[0m\u001b[0;34m,\u001b[0m \u001b[0mdtype\u001b[0m\u001b[0;34m,\u001b[0m \u001b[0morder\u001b[0m\u001b[0;34m)\u001b[0m\u001b[0;34m\u001b[0m\u001b[0m\n\u001b[0m\u001b[1;32m    191\u001b[0m     \u001b[0mmultiarray\u001b[0m\u001b[0;34m.\u001b[0m\u001b[0mcopyto\u001b[0m\u001b[0;34m(\u001b[0m\u001b[0ma\u001b[0m\u001b[0;34m,\u001b[0m \u001b[0;36m1\u001b[0m\u001b[0;34m,\u001b[0m \u001b[0mcasting\u001b[0m\u001b[0;34m=\u001b[0m\u001b[0;34m'unsafe'\u001b[0m\u001b[0;34m)\u001b[0m\u001b[0;34m\u001b[0m\u001b[0m\n\u001b[1;32m    192\u001b[0m     \u001b[0;32mreturn\u001b[0m \u001b[0ma\u001b[0m\u001b[0;34m\u001b[0m\u001b[0m\n",
      "\u001b[0;31mMemoryError\u001b[0m: "
     ]
    }
   ],
   "source": [
    "from sklearn.feature_extraction.text import TfidfVectorizer\n",
    "v = TfidfVectorizer()\n",
    "x = v.fit_transform(X_train_notes)"
   ]
  },
  {
   "cell_type": "code",
   "execution_count": null,
   "metadata": {
    "collapsed": true
   },
   "outputs": [],
   "source": [
    "notes_classifier = LogisticRegression(random_state=0,penalty=\"l1\", C=1)\n",
    "notes_classifier.fit(X_train, Y_train)\n",
    "Y_pred = notes_classifier.predict(X_test)\n",
    "matrix = confusion_matrix(Y_test, Y_pred)\n",
    "print(matrix)"
   ]
  },
  {
   "cell_type": "code",
   "execution_count": null,
   "metadata": {
    "collapsed": false
   },
   "outputs": [],
   "source": []
  },
  {
   "cell_type": "code",
   "execution_count": null,
   "metadata": {
    "collapsed": true
   },
   "outputs": [],
   "source": []
  }
 ],
 "metadata": {
  "anaconda-cloud": {},
  "kernelspec": {
   "display_name": "Python [default]",
   "language": "python",
   "name": "python3"
  },
  "language_info": {
   "codemirror_mode": {
    "name": "ipython",
    "version": 3
   },
   "file_extension": ".py",
   "mimetype": "text/x-python",
   "name": "python",
   "nbconvert_exporter": "python",
   "pygments_lexer": "ipython3",
   "version": "3.5.2"
  }
 },
 "nbformat": 4,
 "nbformat_minor": 1
}
