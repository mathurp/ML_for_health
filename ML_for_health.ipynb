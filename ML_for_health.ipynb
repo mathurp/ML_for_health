{
 "cells": [
  {
   "cell_type": "code",
   "execution_count": 1,
   "metadata": {
    "collapsed": false
   },
   "outputs": [],
   "source": [
    "import numpy as np\n",
    "import pandas as pd\n",
    "from sklearn.linear_model import LogisticRegression\n",
    "from sklearn.metrics import confusion_matrix,roc_curve,roc_auc_score\n",
    "from sklearn import preprocessing\n",
    "import matplotlib.pyplot as plt\n",
    "import seaborn as sns\n",
    "sns.set(style=\"white\")\n",
    "sns.set(style=\"whitegrid\", color_codes=True)"
   ]
  },
  {
   "cell_type": "code",
   "execution_count": 3,
   "metadata": {
    "collapsed": false
   },
   "outputs": [
    {
     "data": {
      "text/html": [
       "<div>\n",
       "<table border=\"1\" class=\"dataframe\">\n",
       "  <thead>\n",
       "    <tr style=\"text-align: right;\">\n",
       "      <th></th>\n",
       "      <th>subject_id</th>\n",
       "      <th>hadm_id</th>\n",
       "      <th>icustay_id</th>\n",
       "      <th>age</th>\n",
       "      <th>mort_icu</th>\n",
       "      <th>first_hosp_stay</th>\n",
       "      <th>first_icu_stay</th>\n",
       "      <th>adult_icu</th>\n",
       "      <th>eth_asian</th>\n",
       "      <th>eth_black</th>\n",
       "      <th>...</th>\n",
       "      <th>phosphate</th>\n",
       "      <th>platelet</th>\n",
       "      <th>potassium</th>\n",
       "      <th>ptt</th>\n",
       "      <th>inr</th>\n",
       "      <th>pt</th>\n",
       "      <th>sodium</th>\n",
       "      <th>bun</th>\n",
       "      <th>wbc</th>\n",
       "      <th>train</th>\n",
       "    </tr>\n",
       "  </thead>\n",
       "  <tbody>\n",
       "    <tr>\n",
       "      <th>27343</th>\n",
       "      <td>99982</td>\n",
       "      <td>112748</td>\n",
       "      <td>275958</td>\n",
       "      <td>65.0</td>\n",
       "      <td>0</td>\n",
       "      <td>0</td>\n",
       "      <td>1</td>\n",
       "      <td>1</td>\n",
       "      <td>0</td>\n",
       "      <td>0</td>\n",
       "      <td>...</td>\n",
       "      <td>3.9</td>\n",
       "      <td>140.0</td>\n",
       "      <td>3.4</td>\n",
       "      <td>37.8</td>\n",
       "      <td>2.5</td>\n",
       "      <td>26.5</td>\n",
       "      <td>140.0</td>\n",
       "      <td>36.0</td>\n",
       "      <td>5.4</td>\n",
       "      <td>1</td>\n",
       "    </tr>\n",
       "    <tr>\n",
       "      <th>27344</th>\n",
       "      <td>99982</td>\n",
       "      <td>183791</td>\n",
       "      <td>239827</td>\n",
       "      <td>65.0</td>\n",
       "      <td>0</td>\n",
       "      <td>0</td>\n",
       "      <td>1</td>\n",
       "      <td>1</td>\n",
       "      <td>0</td>\n",
       "      <td>0</td>\n",
       "      <td>...</td>\n",
       "      <td>2.3</td>\n",
       "      <td>163.0</td>\n",
       "      <td>3.8</td>\n",
       "      <td>34.3</td>\n",
       "      <td>1.3</td>\n",
       "      <td>13.9</td>\n",
       "      <td>131.0</td>\n",
       "      <td>42.0</td>\n",
       "      <td>7.1</td>\n",
       "      <td>1</td>\n",
       "    </tr>\n",
       "    <tr>\n",
       "      <th>27345</th>\n",
       "      <td>99985</td>\n",
       "      <td>176670</td>\n",
       "      <td>279638</td>\n",
       "      <td>53.0</td>\n",
       "      <td>0</td>\n",
       "      <td>1</td>\n",
       "      <td>1</td>\n",
       "      <td>1</td>\n",
       "      <td>0</td>\n",
       "      <td>0</td>\n",
       "      <td>...</td>\n",
       "      <td>2.2</td>\n",
       "      <td>250.0</td>\n",
       "      <td>3.9</td>\n",
       "      <td>47.7</td>\n",
       "      <td>1.1</td>\n",
       "      <td>12.5</td>\n",
       "      <td>136.0</td>\n",
       "      <td>13.0</td>\n",
       "      <td>12.6</td>\n",
       "      <td>0</td>\n",
       "    </tr>\n",
       "    <tr>\n",
       "      <th>27346</th>\n",
       "      <td>99991</td>\n",
       "      <td>151118</td>\n",
       "      <td>226241</td>\n",
       "      <td>47.0</td>\n",
       "      <td>0</td>\n",
       "      <td>1</td>\n",
       "      <td>1</td>\n",
       "      <td>1</td>\n",
       "      <td>0</td>\n",
       "      <td>0</td>\n",
       "      <td>...</td>\n",
       "      <td>2.3</td>\n",
       "      <td>188.0</td>\n",
       "      <td>3.4</td>\n",
       "      <td>27.8</td>\n",
       "      <td>1.0</td>\n",
       "      <td>12.1</td>\n",
       "      <td>143.0</td>\n",
       "      <td>26.0</td>\n",
       "      <td>4.2</td>\n",
       "      <td>1</td>\n",
       "    </tr>\n",
       "    <tr>\n",
       "      <th>27347</th>\n",
       "      <td>99995</td>\n",
       "      <td>137810</td>\n",
       "      <td>229633</td>\n",
       "      <td>88.0</td>\n",
       "      <td>0</td>\n",
       "      <td>1</td>\n",
       "      <td>1</td>\n",
       "      <td>1</td>\n",
       "      <td>0</td>\n",
       "      <td>0</td>\n",
       "      <td>...</td>\n",
       "      <td>2.7</td>\n",
       "      <td>189.0</td>\n",
       "      <td>3.5</td>\n",
       "      <td>35.5</td>\n",
       "      <td>1.9</td>\n",
       "      <td>19.7</td>\n",
       "      <td>132.0</td>\n",
       "      <td>10.0</td>\n",
       "      <td>8.2</td>\n",
       "      <td>1</td>\n",
       "    </tr>\n",
       "  </tbody>\n",
       "</table>\n",
       "<p>5 rows × 62 columns</p>\n",
       "</div>"
      ],
      "text/plain": [
       "       subject_id  hadm_id  icustay_id   age  mort_icu  first_hosp_stay  \\\n",
       "27343       99982   112748      275958  65.0         0                0   \n",
       "27344       99982   183791      239827  65.0         0                0   \n",
       "27345       99985   176670      279638  53.0         0                1   \n",
       "27346       99991   151118      226241  47.0         0                1   \n",
       "27347       99995   137810      229633  88.0         0                1   \n",
       "\n",
       "       first_icu_stay  adult_icu  eth_asian  eth_black  ...    phosphate  \\\n",
       "27343               1          1          0          0  ...          3.9   \n",
       "27344               1          1          0          0  ...          2.3   \n",
       "27345               1          1          0          0  ...          2.2   \n",
       "27346               1          1          0          0  ...          2.3   \n",
       "27347               1          1          0          0  ...          2.7   \n",
       "\n",
       "       platelet  potassium   ptt  inr    pt  sodium   bun   wbc  train  \n",
       "27343     140.0        3.4  37.8  2.5  26.5   140.0  36.0   5.4      1  \n",
       "27344     163.0        3.8  34.3  1.3  13.9   131.0  42.0   7.1      1  \n",
       "27345     250.0        3.9  47.7  1.1  12.5   136.0  13.0  12.6      0  \n",
       "27346     188.0        3.4  27.8  1.0  12.1   143.0  26.0   4.2      1  \n",
       "27347     189.0        3.5  35.5  1.9  19.7   132.0  10.0   8.2      1  \n",
       "\n",
       "[5 rows x 62 columns]"
      ]
     },
     "execution_count": 3,
     "metadata": {},
     "output_type": "execute_result"
    }
   ],
   "source": [
    "adult_icu_raw = pd.read_csv(\"/home/pulkitmathur1800/csc2548_ml4h/adult_icu\")\n",
    "#len(adult_icu_raw.loc[adult_icu_raw['subject_id']==3])\n",
    "adult_icu_raw.tail()"
   ]
  },
  {
   "cell_type": "code",
   "execution_count": 4,
   "metadata": {
    "collapsed": false
   },
   "outputs": [],
   "source": [
    "adult_icu_raw = pd.read_csv(\"/home/pulkitmathur1800/csc2548_ml4h/adult_icu\")\n",
    "adult_icu_raw = adult_icu_raw.drop(['subject_id','hadm_id','icustay_id'],axis=1)\n",
    "bool_cols = [col for col in adult_icu_raw if np.isin(adult_icu_raw[col].dropna().unique(),[0, 1]).all()]\n",
    "non_bool_cols = [item for item in adult_icu_raw.columns if item not in bool_cols]\n",
    "scaler = preprocessing.StandardScaler()\n",
    "scaler = preprocessing.MinMaxScaler(feature_range=(0, 1))\n",
    "adult_icu_scaled = scaler.fit_transform(adult_icu_raw[non_bool_cols])\n",
    "adult_icu_scaled = pd.DataFrame(adult_icu_scaled, columns=non_bool_cols)\n",
    "adult_icu_scaled = adult_icu_scaled.join(adult_icu_raw[bool_cols])\n",
    "adult_icu_scaled.head()\n",
    "adult_icu_scaled = adult_icu_raw"
   ]
  },
  {
   "cell_type": "code",
   "execution_count": 5,
   "metadata": {
    "collapsed": false
   },
   "outputs": [
    {
     "data": {
      "image/png": "[encoded data removed]",
      "text/plain": [
       "<matplotlib.figure.Figure at 0x7f4052de6da0>"
      ]
     },
     "metadata": {},
     "output_type": "display_data"
    }
   ],
   "source": [
    "sns.countplot(x='mort_icu',data=adult_icu_scaled, palette='hls')\n",
    "plt.show()"
   ]
  },
  {
   "cell_type": "code",
   "execution_count": 6,
   "metadata": {
    "collapsed": false
   },
   "outputs": [
    {
     "data": {
      "text/html": [
       "<div>\n",
       "<table border=\"1\" class=\"dataframe\">\n",
       "  <thead>\n",
       "    <tr style=\"text-align: right;\">\n",
       "      <th></th>\n",
       "      <th>age</th>\n",
       "      <th>first_hosp_stay</th>\n",
       "      <th>first_icu_stay</th>\n",
       "      <th>adult_icu</th>\n",
       "      <th>eth_asian</th>\n",
       "      <th>eth_black</th>\n",
       "      <th>eth_hispanic</th>\n",
       "      <th>eth_other</th>\n",
       "      <th>eth_white</th>\n",
       "      <th>admType_ELECTIVE</th>\n",
       "      <th>...</th>\n",
       "      <th>magnesium</th>\n",
       "      <th>phosphate</th>\n",
       "      <th>platelet</th>\n",
       "      <th>potassium</th>\n",
       "      <th>ptt</th>\n",
       "      <th>inr</th>\n",
       "      <th>pt</th>\n",
       "      <th>sodium</th>\n",
       "      <th>bun</th>\n",
       "      <th>wbc</th>\n",
       "    </tr>\n",
       "  </thead>\n",
       "  <tbody>\n",
       "    <tr>\n",
       "      <th>2</th>\n",
       "      <td>41.0</td>\n",
       "      <td>1</td>\n",
       "      <td>1</td>\n",
       "      <td>1</td>\n",
       "      <td>0</td>\n",
       "      <td>0</td>\n",
       "      <td>0</td>\n",
       "      <td>1</td>\n",
       "      <td>0</td>\n",
       "      <td>0</td>\n",
       "      <td>...</td>\n",
       "      <td>1.8</td>\n",
       "      <td>2.9</td>\n",
       "      <td>258.0</td>\n",
       "      <td>2.8</td>\n",
       "      <td>21.7</td>\n",
       "      <td>1.1</td>\n",
       "      <td>12.7</td>\n",
       "      <td>140.0</td>\n",
       "      <td>16.0</td>\n",
       "      <td>7.5</td>\n",
       "    </tr>\n",
       "    <tr>\n",
       "      <th>3</th>\n",
       "      <td>72.0</td>\n",
       "      <td>1</td>\n",
       "      <td>1</td>\n",
       "      <td>1</td>\n",
       "      <td>0</td>\n",
       "      <td>0</td>\n",
       "      <td>0</td>\n",
       "      <td>0</td>\n",
       "      <td>1</td>\n",
       "      <td>1</td>\n",
       "      <td>...</td>\n",
       "      <td>1.7</td>\n",
       "      <td>6.6</td>\n",
       "      <td>156.0</td>\n",
       "      <td>4.9</td>\n",
       "      <td>55.2</td>\n",
       "      <td>1.7</td>\n",
       "      <td>15.9</td>\n",
       "      <td>138.0</td>\n",
       "      <td>28.0</td>\n",
       "      <td>8.4</td>\n",
       "    </tr>\n",
       "    <tr>\n",
       "      <th>4</th>\n",
       "      <td>39.0</td>\n",
       "      <td>1</td>\n",
       "      <td>1</td>\n",
       "      <td>1</td>\n",
       "      <td>0</td>\n",
       "      <td>0</td>\n",
       "      <td>0</td>\n",
       "      <td>0</td>\n",
       "      <td>1</td>\n",
       "      <td>0</td>\n",
       "      <td>...</td>\n",
       "      <td>1.6</td>\n",
       "      <td>3.9</td>\n",
       "      <td>216.0</td>\n",
       "      <td>3.5</td>\n",
       "      <td>44.1</td>\n",
       "      <td>1.2</td>\n",
       "      <td>13.7</td>\n",
       "      <td>139.0</td>\n",
       "      <td>13.0</td>\n",
       "      <td>16.6</td>\n",
       "    </tr>\n",
       "    <tr>\n",
       "      <th>5</th>\n",
       "      <td>47.0</td>\n",
       "      <td>1</td>\n",
       "      <td>1</td>\n",
       "      <td>1</td>\n",
       "      <td>0</td>\n",
       "      <td>0</td>\n",
       "      <td>0</td>\n",
       "      <td>0</td>\n",
       "      <td>1</td>\n",
       "      <td>1</td>\n",
       "      <td>...</td>\n",
       "      <td>1.4</td>\n",
       "      <td>2.0</td>\n",
       "      <td>138.0</td>\n",
       "      <td>3.9</td>\n",
       "      <td>31.8</td>\n",
       "      <td>1.5</td>\n",
       "      <td>14.9</td>\n",
       "      <td>139.0</td>\n",
       "      <td>11.0</td>\n",
       "      <td>10.5</td>\n",
       "    </tr>\n",
       "    <tr>\n",
       "      <th>7</th>\n",
       "      <td>87.0</td>\n",
       "      <td>0</td>\n",
       "      <td>1</td>\n",
       "      <td>1</td>\n",
       "      <td>0</td>\n",
       "      <td>0</td>\n",
       "      <td>0</td>\n",
       "      <td>0</td>\n",
       "      <td>1</td>\n",
       "      <td>0</td>\n",
       "      <td>...</td>\n",
       "      <td>1.5</td>\n",
       "      <td>4.4</td>\n",
       "      <td>275.0</td>\n",
       "      <td>3.8</td>\n",
       "      <td>31.7</td>\n",
       "      <td>1.7</td>\n",
       "      <td>18.1</td>\n",
       "      <td>137.0</td>\n",
       "      <td>49.0</td>\n",
       "      <td>30.5</td>\n",
       "    </tr>\n",
       "  </tbody>\n",
       "</table>\n",
       "<p>5 rows × 57 columns</p>\n",
       "</div>"
      ],
      "text/plain": [
       "    age  first_hosp_stay  first_icu_stay  adult_icu  eth_asian  eth_black  \\\n",
       "2  41.0                1               1          1          0          0   \n",
       "3  72.0                1               1          1          0          0   \n",
       "4  39.0                1               1          1          0          0   \n",
       "5  47.0                1               1          1          0          0   \n",
       "7  87.0                0               1          1          0          0   \n",
       "\n",
       "   eth_hispanic  eth_other  eth_white  admType_ELECTIVE  ...   magnesium  \\\n",
       "2             0          1          0                 0  ...         1.8   \n",
       "3             0          0          1                 1  ...         1.7   \n",
       "4             0          0          1                 0  ...         1.6   \n",
       "5             0          0          1                 1  ...         1.4   \n",
       "7             0          0          1                 0  ...         1.5   \n",
       "\n",
       "   phosphate  platelet  potassium   ptt  inr    pt  sodium   bun   wbc  \n",
       "2        2.9     258.0        2.8  21.7  1.1  12.7   140.0  16.0   7.5  \n",
       "3        6.6     156.0        4.9  55.2  1.7  15.9   138.0  28.0   8.4  \n",
       "4        3.9     216.0        3.5  44.1  1.2  13.7   139.0  13.0  16.6  \n",
       "5        2.0     138.0        3.9  31.8  1.5  14.9   139.0  11.0  10.5  \n",
       "7        4.4     275.0        3.8  31.7  1.7  18.1   137.0  49.0  30.5  \n",
       "\n",
       "[5 rows x 57 columns]"
      ]
     },
     "execution_count": 6,
     "metadata": {},
     "output_type": "execute_result"
    }
   ],
   "source": [
    "X = adult_icu_scaled.drop(['mort_icu'],axis=1)\n",
    "X_train,X_test = X.loc[X['train']==1],X.loc[X['train']==0]\n",
    "X_train,X_test = X_train.drop(['train'],axis=1),X_test.drop(['train'],axis=1)\n",
    "Y = adult_icu_scaled[['mort_icu','train']] \n",
    "Y_train,Y_test = Y.loc[Y['train']==1],Y.loc[Y['train']==0]\n",
    "Y_train,Y_test = Y_train.drop(['train'],axis=1).values.squeeze(),Y_test.drop(['train'],axis=1).values.squeeze()\n",
    "X_train.head()"
   ]
  },
  {
   "cell_type": "code",
   "execution_count": 7,
   "metadata": {
    "collapsed": false
   },
   "outputs": [
    {
     "name": "stdout",
     "output_type": "stream",
     "text": [
      "[[7236   64]\n",
      " [ 736   72]]\n"
     ]
    }
   ],
   "source": [
    "classifier = LogisticRegression(random_state=0,penalty=\"l2\", C=1)\n",
    "classifier.fit(X_train, Y_train)\n",
    "Y_pred = classifier.predict(X_test)\n",
    "matrix = confusion_matrix(Y_test, Y_pred)\n",
    "print(matrix)"
   ]
  },
  {
   "cell_type": "code",
   "execution_count": 8,
   "metadata": {
    "collapsed": false
   },
   "outputs": [
    {
     "data": {
      "text/plain": [
       "0.90561330561330566"
      ]
     },
     "execution_count": 8,
     "metadata": {},
     "output_type": "execute_result"
    }
   ],
   "source": [
    "classifier.score(X_train, Y_train)"
   ]
  },
  {
   "cell_type": "code",
   "execution_count": 9,
   "metadata": {
    "collapsed": false
   },
   "outputs": [
    {
     "data": {
      "image/png": "[encoded data removed]",
      "text/plain": [
       "<matplotlib.figure.Figure at 0x7f4052da36a0>"
      ]
     },
     "metadata": {},
     "output_type": "display_data"
    }
   ],
   "source": [
    "fpr, tpr,_=roc_curve(Y_pred,Y_test)\n",
    "plt.figure()\n",
    "plt.plot(fpr, tpr, color='red', lw=2, label='ROC curve')\n",
    "plt.plot([0, 1], [0, 1], color='blue', lw=2, linestyle='--')\n",
    "plt.xlabel('False Positive Rate')\n",
    "plt.ylabel('True Positive Rate')\n",
    "plt.title('ROC curve')\n",
    "plt.show()"
   ]
  },
  {
   "cell_type": "code",
   "execution_count": 10,
   "metadata": {
    "collapsed": false
   },
   "outputs": [
    {
     "data": {
      "text/plain": [
       "0.71854431687376397"
      ]
     },
     "execution_count": 10,
     "metadata": {},
     "output_type": "execute_result"
    }
   ],
   "source": [
    "roc_auc_score(Y_pred,Y_test)"
   ]
  },
  {
   "cell_type": "code",
   "execution_count": 11,
   "metadata": {
    "collapsed": false
   },
   "outputs": [
    {
     "name": "stdout",
     "output_type": "stream",
     "text": [
      "[27 46 29 10  7]\n"
     ]
    },
    {
     "data": {
      "text/plain": [
       "Index(['resprate_mean', 'lactate', 'tempc_max', 'admType_EMERGENCY',\n",
       "       'eth_other'],\n",
       "      dtype='object')"
      ]
     },
     "execution_count": 11,
     "metadata": {},
     "output_type": "execute_result"
    }
   ],
   "source": [
    "coefs = classifier.coef_[0]\n",
    "top_five = np.argpartition(coefs, -5)[-5:]\n",
    "top_five = top_five[np.argsort(coefs[top_five])]\n",
    "print(top_five)\n",
    "X_train[top_five].columns"
   ]
  },
  {
   "cell_type": "code",
   "execution_count": 12,
   "metadata": {
    "collapsed": false
   },
   "outputs": [
    {
     "name": "stdout",
     "output_type": "stream",
     "text": [
      "[50 16 22 31 13 20 52 49 34 43 35 11 23 51  3 26 17 25 36 14 56 39 53 55 15\n",
      " 54 32 19  0 47 48 24 37 12  1 44 40 27 46 29 10  7]\n"
     ]
    },
    {
     "data": {
      "text/plain": [
       "Index(['potassium', 'sysbp_min', 'meanbp_min', 'spo2_min', 'heartrate_min',\n",
       "       'diasbp_max', 'inr', 'platelet', 'glucose_min', 'glucose',\n",
       "       'glucose_max', 'admType_NEWBORN', 'meanbp_max', 'ptt', 'adult_icu',\n",
       "       'resprate_max', 'sysbp_max', 'resprate_min', 'glucose_mean',\n",
       "       'heartrate_max', 'wbc', 'bicarbonate', 'pt', 'bun', 'heartrate_mean',\n",
       "       'sodium', 'spo2_max', 'diasbp_min', 'age', 'magnesium', 'phosphate',\n",
       "       'meanbp_mean', 'aniongap', 'admType_URGENT', 'first_hosp_stay',\n",
       "       'hematocrit', 'bilirubin', 'resprate_mean', 'lactate', 'tempc_max',\n",
       "       'admType_EMERGENCY', 'eth_other'],\n",
       "      dtype='object')"
      ]
     },
     "execution_count": 12,
     "metadata": {},
     "output_type": "execute_result"
    }
   ],
   "source": [
    "least_five = np.argpartition(coefs, 15)[15:]\n",
    "least_five = least_five[np.argsort(coefs[least_five])]\n",
    "print(least_five)\n",
    "X_train[least_five].columns"
   ]
  },
  {
   "cell_type": "code",
   "execution_count": 2,
   "metadata": {
    "collapsed": false
   },
   "outputs": [
    {
     "name": "stdout",
     "output_type": "stream",
     "text": [
      "(27348, 3)\n"
     ]
    },
    {
     "data": {
      "text/html": [
       "<div>\n",
       "<table border=\"1\" class=\"dataframe\">\n",
       "  <thead>\n",
       "    <tr style=\"text-align: right;\">\n",
       "      <th></th>\n",
       "      <th>chartext</th>\n",
       "      <th>train</th>\n",
       "      <th>mort_icu</th>\n",
       "    </tr>\n",
       "  </thead>\n",
       "  <tbody>\n",
       "    <tr>\n",
       "      <th>0</th>\n",
       "      <td>[**2101-10-21**] 1:00 AM\\n CHEST (PORTABLE AP)...</td>\n",
       "      <td>0</td>\n",
       "      <td>0</td>\n",
       "    </tr>\n",
       "    <tr>\n",
       "      <th>1</th>\n",
       "      <td>[**2175-5-31**] 11:03 AM\\n RENAL TRANSPLANT U....</td>\n",
       "      <td>0</td>\n",
       "      <td>0</td>\n",
       "    </tr>\n",
       "    <tr>\n",
       "      <th>2</th>\n",
       "      <td>[**2149-11-10**] 11:07 AM\\n CT HEAD W/O CONTRA...</td>\n",
       "      <td>1</td>\n",
       "      <td>1</td>\n",
       "    </tr>\n",
       "    <tr>\n",
       "      <th>3</th>\n",
       "      <td>ADMIT NOTE\\nPLEASE SEE ADMISSION HISTORY/FHP.\\...</td>\n",
       "      <td>1</td>\n",
       "      <td>0</td>\n",
       "    </tr>\n",
       "    <tr>\n",
       "      <th>4</th>\n",
       "      <td>[**2167-1-9**] 6:11 AM\\n CHEST (PORTABLE AP)  ...</td>\n",
       "      <td>1</td>\n",
       "      <td>0</td>\n",
       "    </tr>\n",
       "  </tbody>\n",
       "</table>\n",
       "</div>"
      ],
      "text/plain": [
       "                                            chartext  train  mort_icu\n",
       "0  [**2101-10-21**] 1:00 AM\\n CHEST (PORTABLE AP)...      0         0\n",
       "1  [**2175-5-31**] 11:03 AM\\n RENAL TRANSPLANT U....      0         0\n",
       "2  [**2149-11-10**] 11:07 AM\\n CT HEAD W/O CONTRA...      1         1\n",
       "3  ADMIT NOTE\\nPLEASE SEE ADMISSION HISTORY/FHP.\\...      1         0\n",
       "4  [**2167-1-9**] 6:11 AM\\n CHEST (PORTABLE AP)  ...      1         0"
      ]
     },
     "execution_count": 2,
     "metadata": {},
     "output_type": "execute_result"
    }
   ],
   "source": [
    "adult_notes_raw = pd.read_csv(\"/home/pulkitmathur1800/csc2548_ml4h/adult_notes\")\n",
    "adult_notes_raw = adult_notes_raw.drop(['subject_id','hadm_id','icustay_id'],axis=1)\n",
    "print(adult_notes_raw.shape)\n",
    "adult_notes_raw.head()"
   ]
  },
  {
   "cell_type": "code",
   "execution_count": 3,
   "metadata": {
    "collapsed": false
   },
   "outputs": [
    {
     "data": {
      "image/png": "[encoded data removed]",
      "text/plain": [
       "<matplotlib.figure.Figure at 0x7f209067ba58>"
      ]
     },
     "metadata": {},
     "output_type": "display_data"
    }
   ],
   "source": [
    "sns.countplot(x='mort_icu',data=adult_notes_raw, palette='hls')\n",
    "plt.show()"
   ]
  },
  {
   "cell_type": "code",
   "execution_count": 4,
   "metadata": {
    "collapsed": false
   },
   "outputs": [
    {
     "data": {
      "text/html": [
       "<div>\n",
       "<table border=\"1\" class=\"dataframe\">\n",
       "  <thead>\n",
       "    <tr style=\"text-align: right;\">\n",
       "      <th></th>\n",
       "      <th>chartext</th>\n",
       "      <th>train</th>\n",
       "      <th>mort_icu</th>\n",
       "    </tr>\n",
       "  </thead>\n",
       "  <tbody>\n",
       "    <tr>\n",
       "      <th>0</th>\n",
       "      <td>[2101, 10, 21, 1, 00, AM, CHEST, PORTABLE, AP,...</td>\n",
       "      <td>0</td>\n",
       "      <td>0</td>\n",
       "    </tr>\n",
       "    <tr>\n",
       "      <th>1</th>\n",
       "      <td>[2175, 5, 31, 11, 03, AM, RENAL, TRANSPLANT, U...</td>\n",
       "      <td>0</td>\n",
       "      <td>0</td>\n",
       "    </tr>\n",
       "    <tr>\n",
       "      <th>2</th>\n",
       "      <td>[2149, 11, 10, 11, 07, AM, CT, HEAD, W, O, CON...</td>\n",
       "      <td>1</td>\n",
       "      <td>1</td>\n",
       "    </tr>\n",
       "    <tr>\n",
       "      <th>3</th>\n",
       "      <td>[ADMIT, NOTE, PLEASE, SEE, ADMISSION, HISTORY,...</td>\n",
       "      <td>1</td>\n",
       "      <td>0</td>\n",
       "    </tr>\n",
       "    <tr>\n",
       "      <th>4</th>\n",
       "      <td>[2167, 1, 9, 6, 11, AM, CHEST, PORTABLE, AP, C...</td>\n",
       "      <td>1</td>\n",
       "      <td>0</td>\n",
       "    </tr>\n",
       "  </tbody>\n",
       "</table>\n",
       "</div>"
      ],
      "text/plain": [
       "                                            chartext  train  mort_icu\n",
       "0  [2101, 10, 21, 1, 00, AM, CHEST, PORTABLE, AP,...      0         0\n",
       "1  [2175, 5, 31, 11, 03, AM, RENAL, TRANSPLANT, U...      0         0\n",
       "2  [2149, 11, 10, 11, 07, AM, CT, HEAD, W, O, CON...      1         1\n",
       "3  [ADMIT, NOTE, PLEASE, SEE, ADMISSION, HISTORY,...      1         0\n",
       "4  [2167, 1, 9, 6, 11, AM, CHEST, PORTABLE, AP, C...      1         0"
      ]
     },
     "execution_count": 4,
     "metadata": {},
     "output_type": "execute_result"
    }
   ],
   "source": [
    "#deleting punctuation\n",
    "from nltk.tokenize import RegexpTokenizer\n",
    "tokenizer = RegexpTokenizer(r'\\w+')\n",
    "adult_notes_raw['chartext'].dropna(inplace=True)\n",
    "adult_notes_raw.chartext = adult_notes_raw.chartext.apply(lambda x: tokenizer.tokenize(x))\n",
    "adult_notes_raw.head()"
   ]
  },
  {
   "cell_type": "code",
   "execution_count": 5,
   "metadata": {
    "collapsed": false
   },
   "outputs": [],
   "source": [
    "#deleting stopwords\n",
    "from nltk.corpus import stopwords\n",
    "stop_words = set(stopwords.words('english'))\n",
    "adult_notes_raw['chartext'].dropna(inplace=True)\n",
    "adult_notes_raw.chartext = adult_notes_raw.chartext.apply(lambda x: [item for item in x if item not in stop_words])"
   ]
  },
  {
   "cell_type": "code",
   "execution_count": 7,
   "metadata": {
    "collapsed": false
   },
   "outputs": [
    {
     "name": "stdout",
     "output_type": "stream",
     "text": [
      "0\n",
      "0\n"
     ]
    }
   ],
   "source": [
    "#handling null values if any\n",
    "adult_notes_raw.chartext = adult_notes_raw.chartext.apply(lambda x: ' '.join(map(str, x)))\n",
    "print(adult_notes_raw.chartext.isnull().sum())\n",
    "adult_notes_raw['chartext'].fillna(\"empty\", inplace=True)\n",
    "print(adult_notes_raw.chartext.isnull().sum())"
   ]
  },
  {
   "cell_type": "code",
   "execution_count": 9,
   "metadata": {
    "collapsed": false
   },
   "outputs": [],
   "source": [
    "#train-test-split\n",
    "X2 = adult_notes_raw.drop(['mort_icu'],axis=1)\n",
    "X_train_notes,X_test_notes = X2.loc[X2['train']==1].drop(['train'],axis=1),X2.loc[X2['train']==0].drop(['train'],axis=1)\n",
    "Y2 = adult_notes_raw[['mort_icu','train']] \n",
    "Y_train_notes,Y_test_notes = Y2.loc[Y2['train']==1],Y2.loc[Y2['train']==0]\n",
    "Y_train_notes,Y_test_notes = Y_train_notes.drop(['train'],axis=1).values.squeeze(),Y_test_notes.drop(['train'],axis=1).values.squeeze()"
   ]
  },
  {
   "cell_type": "code",
   "execution_count": 11,
   "metadata": {
    "collapsed": false
   },
   "outputs": [],
   "source": [
    "from sklearn.feature_extraction.text import TfidfVectorizer\n",
    "v = TfidfVectorizer()\n",
    "X_train_notes = v.fit_transform(np.array(X_train_notes['chartext']))\n",
    "X_test_notes = v.transform(np.array(X_test_notes['chartext']))"
   ]
  },
  {
   "cell_type": "code",
   "execution_count": 13,
   "metadata": {
    "collapsed": false
   },
   "outputs": [
    {
     "name": "stdout",
     "output_type": "stream",
     "text": [
      "[[7251   49]\n",
      " [ 699  109]]\n"
     ]
    }
   ],
   "source": [
    "notes_classifier = LogisticRegression(random_state=0,penalty=\"l1\", C=1)\n",
    "notes_classifier.fit(X_train_notes, Y_train_notes)\n",
    "Y_pred_notes = notes_classifier.predict(X_test_notes)\n",
    "matrix = confusion_matrix(Y_test_notes, Y_pred)\n",
    "print(matrix)"
   ]
  },
  {
   "cell_type": "code",
   "execution_count": 20,
   "metadata": {
    "collapsed": false
   },
   "outputs": [
    {
     "name": "stdout",
     "output_type": "stream",
     "text": [
      "Accuracy:  0.910446985447\n",
      "AUC:  0.80097444471\n"
     ]
    }
   ],
   "source": [
    "print(\"Accuracy: \",notes_classifier.score(X_train_notes, Y_train_notes))\n",
    "print(\"AUC: \",roc_auc_score(Y_pred_notes,Y_test_notes))"
   ]
  },
  {
   "cell_type": "code",
   "execution_count": 21,
   "metadata": {
    "collapsed": false
   },
   "outputs": [
    {
     "data": {
      "image/png": "[encoded data removed]",
      "text/plain": [
       "<matplotlib.figure.Figure at 0x7f1f44ee8be0>"
      ]
     },
     "metadata": {},
     "output_type": "display_data"
    }
   ],
   "source": [
    "fpr, tpr,_=roc_curve(Y_pred_notes,Y_test_notes)\n",
    "plt.figure()\n",
    "plt.plot(fpr, tpr, color='red', lw=2, label='ROC curve')\n",
    "plt.plot([0, 1], [0, 1], color='blue', lw=2, linestyle='--')\n",
    "plt.xlabel('False Positive Rate')\n",
    "plt.ylabel('True Positive Rate')\n",
    "plt.title('ROC curve')\n",
    "plt.show()"
   ]
  }
 ],
 "metadata": {
  "anaconda-cloud": {},
  "kernelspec": {
   "display_name": "Python [default]",
   "language": "python",
   "name": "python3"
  },
  "language_info": {
   "codemirror_mode": {
    "name": "ipython",
    "version": 3
   },
   "file_extension": ".py",
   "mimetype": "text/x-python",
   "name": "python",
   "nbconvert_exporter": "python",
   "pygments_lexer": "ipython3",
   "version": "3.5.2"
  }
 },
 "nbformat": 4,
 "nbformat_minor": 1
}
