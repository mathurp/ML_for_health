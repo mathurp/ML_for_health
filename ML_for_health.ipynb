{
 "cells": [
  {
   "cell_type": "markdown",
   "metadata": {
    "nbpresent": {
     "id": "b416aec3-5a82-48e0-8824-6597bdd4e5b0"
    }
   },
   "source": [
    "# CSC2541 Machine Learning For Health Assignment 1\n",
    "# Pulkit Mathur\n",
    "# 1005483692"
   ]
  },
  {
   "cell_type": "markdown",
   "metadata": {},
   "source": [
    "# Part 1:"
   ]
  },
  {
   "cell_type": "markdown",
   "metadata": {},
   "source": [
    "#### 1) Give a brief summary of the patient’s demographics (race, age, marital status, etc)?\n",
    "\n",
    "Query -\n",
    "\n",
    "Result - "
   ]
  },
  {
   "cell_type": "markdown",
   "metadata": {},
   "source": [
    "#### 2) What was the patient’s primary diagnosis (seq_num = 1) and the ICD-9 code?\n",
    "\n",
    "Query -\n",
    "\n",
    "Result - "
   ]
  },
  {
   "cell_type": "markdown",
   "metadata": {},
   "source": [
    "#### 3) How long did the patient stay in the ICU?\n",
    "\n",
    "Query -\n",
    "\n",
    "Result - "
   ]
  },
  {
   "cell_type": "markdown",
   "metadata": {},
   "source": [
    "#### 4) According to the discharge report, what was her condition when she was discharged?\n",
    "\n",
    "Query -\n",
    "\n",
    "Result - "
   ]
  },
  {
   "cell_type": "markdown",
   "metadata": {},
   "source": [
    "#### 5) What was the patient’s highest and lowest heart rates during the stay?\n",
    "\n",
    "Query -\n",
    "\n",
    "Result - "
   ]
  },
  {
   "cell_type": "code",
   "execution_count": 1,
   "metadata": {
    "collapsed": false,
    "nbpresent": {
     "id": "6d929936-1a95-4f26-a5df-d743595c05b2"
    }
   },
   "outputs": [
    {
     "name": "stderr",
     "output_type": "stream",
     "text": [
      "Using TensorFlow backend.\n"
     ]
    }
   ],
   "source": [
    "import numpy as np\n",
    "import pandas as pd\n",
    "import gensim\n",
    "import pickle\n",
    "from gensim import corpora\n",
    "from gensim.models.coherencemodel import CoherenceModel\n",
    "from sklearn.linear_model import LogisticRegression\n",
    "from sklearn.metrics import confusion_matrix,roc_curve,roc_auc_score,classification_report,f1_score\n",
    "from sklearn import preprocessing\n",
    "from nltk.corpus import stopwords\n",
    "from keras.models import Sequential\n",
    "from keras.layers import Dense, Dropout, Activation,Flatten\n",
    "from keras.layers import LSTM\n",
    "import matplotlib.pyplot as plt\n",
    "import seaborn as sns\n",
    "sns.set(style=\"white\")\n",
    "sns.set(style=\"whitegrid\", color_codes=True)"
   ]
  },
  {
   "cell_type": "markdown",
   "metadata": {
    "nbpresent": {
     "id": "70831546-b7e2-436d-a946-f9747a427139"
    }
   },
   "source": [
    "# Part 2a: \n",
    "#### Getting the data"
   ]
  },
  {
   "cell_type": "code",
   "execution_count": 2,
   "metadata": {
    "collapsed": false,
    "nbpresent": {
     "id": "5eddf224-7d44-4a61-8b88-653f77a8a202"
    }
   },
   "outputs": [],
   "source": [
    "adult_icu = pd.read_csv(\"/home/pulkitmathur1800/csc2548_ml4h/adult_icu\")"
   ]
  },
  {
   "cell_type": "markdown",
   "metadata": {
    "nbpresent": {
     "id": "eaa23a85-5ec2-4ba9-8cfc-aaf87d8c4b7a"
    }
   },
   "source": [
    "#### Splitting the data into train and test"
   ]
  },
  {
   "cell_type": "code",
   "execution_count": 3,
   "metadata": {
    "collapsed": false,
    "nbpresent": {
     "id": "06e97723-b25f-4f02-bf2d-d5f8c11a78fe"
    }
   },
   "outputs": [],
   "source": [
    "adult_icu = adult_icu.drop(['subject_id','hadm_id','icustay_id'],axis=1)\n",
    "Y = adult_icu[['mort_icu','train']] \n",
    "Y_train,Y_test = Y.loc[Y['train']==1],Y.loc[Y['train']==0]\n",
    "\n",
    "X_train,X_test = adult_icu.loc[adult_icu['train']==1],adult_icu.loc[adult_icu['train']==0]\n",
    "X_train.reset_index(drop=True,inplace=True)\n",
    "X_test.reset_index(drop=True,inplace=True)"
   ]
  },
  {
   "cell_type": "markdown",
   "metadata": {
    "nbpresent": {
     "id": "d0adffaa-450b-4fb3-8e74-86001bdaed3b"
    }
   },
   "source": [
    "#### Scaling the non-boolean columns"
   ]
  },
  {
   "cell_type": "code",
   "execution_count": 4,
   "metadata": {
    "collapsed": false,
    "nbpresent": {
     "id": "24168dab-c662-4e92-aad0-c7a978d731e6"
    }
   },
   "outputs": [],
   "source": [
    "drop_columns = ['train','mort_icu']\n",
    "bool_cols = [col for col in adult_icu if np.isin(adult_icu[col].dropna().unique(),[0, 1]).all()]\n",
    "non_bool_cols = [item for item in adult_icu.columns if item not in bool_cols]\n",
    "\n",
    "#Scaling the data\n",
    "scaler = preprocessing.MinMaxScaler(feature_range=(0, 1))\n",
    "X_train_scaled,X_test_scaled = scaler.fit_transform(X_train[non_bool_cols]),scaler.fit_transform(X_test[non_bool_cols])\n",
    "X_train_scaled,X_test_scaled = pd.DataFrame(X_train_scaled, columns=non_bool_cols),pd.DataFrame(X_test_scaled, columns=non_bool_cols)\n",
    "X_train_scaled,X_test_scaled = X_train_scaled.join(X_train[bool_cols]),X_test_scaled.join(X_test[bool_cols])\n",
    "X_train_scaled,X_test_scaled = X_train_scaled.drop(drop_columns,axis=1),X_test_scaled.drop(drop_columns,axis=1)\n",
    "\n",
    "#saving test data for use in part 2(c)\n",
    "X_test_scaled.to_pickle('X_test_scaled')\n",
    "Y_test.to_pickle('Y_test_notes')"
   ]
  },
  {
   "cell_type": "markdown",
   "metadata": {},
   "source": [
    "##### Skewness in Testing data (this will help in evaluating classifier)"
   ]
  },
  {
   "cell_type": "code",
   "execution_count": 5,
   "metadata": {
    "collapsed": false,
    "nbpresent": {
     "id": "35f5c29c-b964-47b9-aa88-d9bb4c04fdc8"
    }
   },
   "outputs": [
    {
     "data": {
      "image/png": "[encoded data removed]",
      "text/plain": [
       "<Figure size 432x288 with 1 Axes>"
      ]
     },
     "metadata": {
      "needs_background": "light"
     },
     "output_type": "display_data"
    }
   ],
   "source": [
    "sns.countplot(x='mort_icu',data=Y_test, palette='hls')\n",
    "plt.show()"
   ]
  },
  {
   "cell_type": "markdown",
   "metadata": {
    "nbpresent": {
     "id": "732ec231-e239-4ba6-a40d-dd79cd296fcf"
    }
   },
   "source": [
    "## Training a Logistic regression with l2 regularizer"
   ]
  },
  {
   "cell_type": "code",
   "execution_count": 6,
   "metadata": {
    "collapsed": false,
    "nbpresent": {
     "id": "c7ed139a-900e-4193-aaaa-6b65d2d54de9"
    },
    "scrolled": true
   },
   "outputs": [
    {
     "name": "stdout",
     "output_type": "stream",
     "text": [
      "Confusion Matrix :\n",
      " [[7153  147]\n",
      " [ 682  126]]\n",
      "\n",
      " Classification Report\n",
      "              precision    recall  f1-score   support\n",
      "\n",
      "          0       0.91      0.98      0.95      7300\n",
      "          1       0.46      0.16      0.23       808\n",
      "\n",
      "avg / total       0.87      0.90      0.87      8108\n",
      "\n",
      "\n",
      "Accuracy:  0.907068607068607\n",
      "\n",
      "AUC:  0.7775040689000406\n"
     ]
    },
    {
     "data": {
      "image/png": "[encoded data removed]",
      "text/plain": [
       "<Figure size 432x288 with 1 Axes>"
      ]
     },
     "metadata": {
      "needs_background": "light"
     },
     "output_type": "display_data"
    }
   ],
   "source": [
    "Y_train,Y_test = Y_train.drop(['train'],axis=1).values.squeeze(),Y_test.drop(['train'],axis=1).values.squeeze()\n",
    "classifier = LogisticRegression(random_state=0,penalty=\"l2\", C=3)\n",
    "classifier.fit(X_train_scaled, Y_train)\n",
    "Y_pred = classifier.predict(X_test_scaled)\n",
    "Y_test_prob = classifier.predict_proba(X_test_scaled)\n",
    "auc_model1 = roc_auc_score(Y_test,Y_test_prob[:,1])\n",
    "matrix = confusion_matrix(Y_test, Y_pred)\n",
    "\n",
    "print(\"Confusion Matrix :\\n\", matrix)\n",
    "print(\"\\n Classification Report\\n\",classification_report(Y_test, Y_pred))\n",
    "print(\"\\nAccuracy: \",classifier.score(X_train_scaled, Y_train))\n",
    "print(\"\\nAUC: \",roc_auc_score(Y_test,Y_test_prob[:,1]))\n",
    "\n",
    "fpr, tpr,_=roc_curve(Y_test,Y_test_prob[:,1],pos_label=1)\n",
    "plt.figure()\n",
    "plt.plot(fpr, tpr, color='red', lw=2, label='ROC curve')\n",
    "plt.plot([0, 1], [0, 1], color='blue', lw=2, linestyle='--')\n",
    "plt.xlabel('False Positive Rate')\n",
    "plt.ylabel('True Positive Rate')\n",
    "plt.title('ROC curve')\n",
    "plt.show()"
   ]
  },
  {
   "cell_type": "markdown",
   "metadata": {
    "nbpresent": {
     "id": "48f23c59-37b8-40aa-8165-370f08e718e4"
    }
   },
   "source": [
    "#### Comment on performance-\n",
    "\n",
    "Assumming: The objective of classifier is to predict the mortality of a patient currently admitted in ICU so that extra care can be provided to save him/her if possible.\n",
    "\n",
    "Comments-\n",
    "1. AUC > 0.5 Hence, classifier is better than random classifier.\n",
    "2. Looking at the accuracy (~0.91) the classifier seems to perform good. But the dataset is skewed (very less number of rows of True lable vs False). Hence, accuracy is not a good measure to look upon.\n",
    "3. Moreover, looking at confusion matrix there are 682 False Negative, that means this classifier wrongly classify 682 patients as safe which is not acceptable as these patients will not receive extra care which they might have got if the classifier would have classified them correctly.Hence, we need to look at Recall metic which is quite low (0.16)\n",
    " "
   ]
  },
  {
   "cell_type": "markdown",
   "metadata": {
    "nbpresent": {
     "id": "65ac7368-d143-45ab-8e8d-98906eedfdb2"
    }
   },
   "source": [
    "### Top 5 risk factors"
   ]
  },
  {
   "cell_type": "code",
   "execution_count": 7,
   "metadata": {
    "collapsed": false,
    "nbpresent": {
     "id": "51f5fe3e-9708-4ccb-90b0-0e71f6528add"
    }
   },
   "outputs": [
    {
     "data": {
      "text/html": [
       "<div>\n",
       "<table border=\"1\" class=\"dataframe\">\n",
       "  <thead>\n",
       "    <tr style=\"text-align: right;\">\n",
       "      <th></th>\n",
       "      <th>Risk factors</th>\n",
       "      <th>coef</th>\n",
       "    </tr>\n",
       "  </thead>\n",
       "  <tbody>\n",
       "    <tr>\n",
       "      <th>25</th>\n",
       "      <td>aniongap</td>\n",
       "      <td>2.561182</td>\n",
       "    </tr>\n",
       "    <tr>\n",
       "      <th>12</th>\n",
       "      <td>meanbp_mean</td>\n",
       "      <td>2.720868</td>\n",
       "    </tr>\n",
       "    <tr>\n",
       "      <th>17</th>\n",
       "      <td>tempc_max</td>\n",
       "      <td>3.057894</td>\n",
       "    </tr>\n",
       "    <tr>\n",
       "      <th>44</th>\n",
       "      <td>wbc</td>\n",
       "      <td>3.358019</td>\n",
       "    </tr>\n",
       "    <tr>\n",
       "      <th>28</th>\n",
       "      <td>bilirubin</td>\n",
       "      <td>3.944302</td>\n",
       "    </tr>\n",
       "  </tbody>\n",
       "</table>\n",
       "</div>"
      ],
      "text/plain": [
       "   Risk factors      coef\n",
       "25     aniongap  2.561182\n",
       "12  meanbp_mean  2.720868\n",
       "17    tempc_max  3.057894\n",
       "44          wbc  3.358019\n",
       "28    bilirubin  3.944302"
      ]
     },
     "execution_count": 7,
     "metadata": {},
     "output_type": "execute_result"
    }
   ],
   "source": [
    "Coef_table=pd.DataFrame()\n",
    "Coef_table['Risk factors'] = X_train_scaled.columns[:]\n",
    "Coef_table['coef'] = classifier.coef_[0]\n",
    "Coef_table = Coef_table.sort_values('coef')\n",
    "Coef_table.iloc[-5:]"
   ]
  },
  {
   "cell_type": "markdown",
   "metadata": {
    "nbpresent": {
     "id": "83adc340-f487-43f4-86a2-d310a63df83c"
    }
   },
   "source": [
    "###### Explanation:\n",
    "Bilirubin - Bilirubin is a yellowish substance in the blood. It forms after red blood cells break down, and it travels through the liver, gallbladder, and digestive tract before being excreted. High Bilirubin usually results when liver is not functioning.\n",
    "\n",
    "meanbp_mean - Blood pressure outside the normal range can be harmful. High blood pressure can results in damamge to artries , brain, heart, kidneys , eyes etc.\n",
    "\n",
    "tempc_max- Higher body temprature can \n",
    "\n",
    "wbc- White blooad cell plays a significant role in our body. If the count of WBC changes from normal then it can be harmful for the body.If wbc are present in higher amount than normal then these can stuck in the artries and harden, which can cause plaque to build up and can lead to heart attacks.Besides the hardening of the arteries, a higher number of white blood cells cause problems with circulation, thicker blood, and the increase of proinflammatory cytokines.\n",
    "\n",
    "Anion Gap = Na+ – (Cl- + HCO3-) is used for the evaluation of metabolic acidosis to determine the presence of unmeasured anions.\n",
    "High value of Anion gap can be harmful as explained-\n",
    "\n",
    "High Anion gap occurs when our body starts producing acid(ketoacid) in larger amount than usual this results into condition known as acidosis which can have following harmful effects- shortness of breath, increased heart rate, jaundice, fatigue or drowsiness etc.\n",
    "\n",
    "High values of above factors indicates that something is wrong with the bosy and if not taken care it can be life threatning . Hence, it seems justified that they have a strong positive corelation with mortality rate."
   ]
  },
  {
   "cell_type": "markdown",
   "metadata": {
    "nbpresent": {
     "id": "2b9d7ee6-ce4b-4844-9a98-44e0e910e5f2"
    }
   },
   "source": [
    "### Lowest 5 risk factor"
   ]
  },
  {
   "cell_type": "code",
   "execution_count": 52,
   "metadata": {
    "collapsed": false,
    "nbpresent": {
     "id": "025ca218-2252-4e81-bc8f-85f18639fb94"
    }
   },
   "outputs": [
    {
     "data": {
      "text/html": [
       "<div>\n",
       "<table border=\"1\" class=\"dataframe\">\n",
       "  <thead>\n",
       "    <tr style=\"text-align: right;\">\n",
       "      <th></th>\n",
       "      <th>Risk factors</th>\n",
       "      <th>coef</th>\n",
       "    </tr>\n",
       "  </thead>\n",
       "  <tbody>\n",
       "    <tr>\n",
       "      <th>16</th>\n",
       "      <td>tempc_min</td>\n",
       "      <td>-2.932108</td>\n",
       "    </tr>\n",
       "    <tr>\n",
       "      <th>37</th>\n",
       "      <td>platelet</td>\n",
       "      <td>-2.762496</td>\n",
       "    </tr>\n",
       "    <tr>\n",
       "      <th>18</th>\n",
       "      <td>tempc_mean</td>\n",
       "      <td>-2.654793</td>\n",
       "    </tr>\n",
       "    <tr>\n",
       "      <th>33</th>\n",
       "      <td>hemoglobin</td>\n",
       "      <td>-2.420074</td>\n",
       "    </tr>\n",
       "    <tr>\n",
       "      <th>4</th>\n",
       "      <td>sysbp_min</td>\n",
       "      <td>-2.233325</td>\n",
       "    </tr>\n",
       "  </tbody>\n",
       "</table>\n",
       "</div>"
      ],
      "text/plain": [
       "   Risk factors      coef\n",
       "16    tempc_min -2.932108\n",
       "37     platelet -2.762496\n",
       "18   tempc_mean -2.654793\n",
       "33   hemoglobin -2.420074\n",
       "4     sysbp_min -2.233325"
      ]
     },
     "execution_count": 52,
     "metadata": {},
     "output_type": "execute_result"
    }
   ],
   "source": [
    "Coef_table.iloc[:5]"
   ]
  },
  {
   "cell_type": "markdown",
   "metadata": {
    "nbpresent": {
     "id": "1eff128f-ed81-49b8-9046-84488b0cc5b7"
    }
   },
   "source": [
    "###### Explanation:\n"
   ]
  },
  {
   "cell_type": "markdown",
   "metadata": {
    "nbpresent": {
     "id": "264c3a65-094f-405e-bd12-1aee8fbab7f9"
    }
   },
   "source": [
    "# -----------------------------------------------------------------------------------------------\n",
    "# Part 2(b):\n",
    "#### Getting the Data"
   ]
  },
  {
   "cell_type": "code",
   "execution_count": 10,
   "metadata": {
    "collapsed": false,
    "nbpresent": {
     "id": "98e3d931-3714-41ad-9574-09caa3cd23ef"
    }
   },
   "outputs": [],
   "source": [
    "adult_notes_raw = pd.read_csv(\"/home/pulkitmathur1800/csc2548_ml4h/adult_notes\")\n",
    "adult_notes_raw = adult_notes_raw.drop(['subject_id','hadm_id','icustay_id'],axis=1)"
   ]
  },
  {
   "cell_type": "markdown",
   "metadata": {
    "nbpresent": {
     "id": "71487d5a-4bc6-4bd5-963e-3e74e99e5450"
    }
   },
   "source": [
    "#### Deleting punctuation"
   ]
  },
  {
   "cell_type": "code",
   "execution_count": 11,
   "metadata": {
    "collapsed": false,
    "nbpresent": {
     "id": "f8bdfe1e-ecb4-4e73-8e11-4ef1d02508a0"
    }
   },
   "outputs": [],
   "source": [
    "def delete_punctuation(data):\n",
    "    from nltk.tokenize import RegexpTokenizer\n",
    "    tokenizer = RegexpTokenizer(r'[^_\\W]+')\n",
    "    data['chartext'].dropna(inplace=True)\n",
    "    data.chartext = data.chartext.apply(lambda x: tokenizer.tokenize(x))\n",
    "    return data\n",
    "adult_notes_raw = delete_punctuation(adult_notes_raw)"
   ]
  },
  {
   "cell_type": "markdown",
   "metadata": {
    "nbpresent": {
     "id": "901c0ae8-ed02-4076-b8d7-a99f161d446b"
    }
   },
   "source": [
    "#### Deleting stopwords"
   ]
  },
  {
   "cell_type": "code",
   "execution_count": 12,
   "metadata": {
    "collapsed": false,
    "nbpresent": {
     "id": "b5c13f60-e79e-4ebf-9296-20f0a3487bc2"
    }
   },
   "outputs": [],
   "source": [
    "def delete_stopwords(data):\n",
    "    stop_words = set(stopwords.words('english'))\n",
    "    data['chartext'].dropna(inplace=True)\n",
    "    data.chartext = data.chartext.apply(lambda x: [item for item in x if item not in stop_words])\n",
    "    data['chartext'].fillna(\"empty\", inplace=True)\n",
    "    data.chartext = data.chartext.apply(lambda x: ' '.join(map(str, x)))\n",
    "    return data\n",
    "adult_notes_raw = delete_stopwords(adult_notes_raw)\n",
    "\n",
    "#saving processed data which we will use in part 4(a)\n",
    "adult_notes_raw.to_pickle('adult_notes_raw')"
   ]
  },
  {
   "cell_type": "markdown",
   "metadata": {
    "nbpresent": {
     "id": "8bd09d6e-7080-403b-9f95-7268473a2691"
    }
   },
   "source": [
    "#### Splitting the data into train and test"
   ]
  },
  {
   "cell_type": "code",
   "execution_count": 68,
   "metadata": {
    "collapsed": false,
    "nbpresent": {
     "id": "b192d6e5-94ed-4f13-9c50-915dc4586840"
    }
   },
   "outputs": [],
   "source": [
    "#train-test-split\n",
    "drop_columns = ['train','mort_icu']\n",
    "X_train_notes,X_test_notes = adult_notes_raw.loc[adult_notes_raw['train']==1],adult_notes_raw.loc[adult_notes_raw['train']==0]\n",
    "X_train_notes,X_test_notes = X_train_notes.drop(drop_columns,axis=1),X_test_notes.drop(drop_columns,axis=1)\n",
    "Y2 = adult_notes_raw[['mort_icu','train']] \n",
    "Y_train_notes,Y_test_notes = Y2.loc[Y2['train']==1],Y2.loc[Y2['train']==0]\n",
    "\n",
    "#saving test data for use in part 2(c)\n",
    "X_test_notes.to_pickle('X_test_notes')\n",
    "Y_test_notes.to_pickle('Y_test_notes')"
   ]
  },
  {
   "cell_type": "markdown",
   "metadata": {
    "nbpresent": {
     "id": "90dc2afb-7a1a-4e8d-82c5-2701650ff42c"
    }
   },
   "source": [
    "## Tf-idf Tokenizer"
   ]
  },
  {
   "cell_type": "code",
   "execution_count": 40,
   "metadata": {
    "collapsed": false,
    "nbpresent": {
     "id": "87b02ed0-c3dc-4275-9fef-21cb72da55ae"
    }
   },
   "outputs": [],
   "source": [
    "from sklearn.feature_extraction.text import TfidfVectorizer\n",
    "v = TfidfVectorizer()\n",
    "X_train_notes = v.fit_transform(np.array(X_train_notes['chartext']))\n",
    "X_test_notes = v.transform(np.array(X_test_notes['chartext']))"
   ]
  },
  {
   "cell_type": "markdown",
   "metadata": {
    "nbpresent": {
     "id": "2dc5668f-a615-4e66-a302-0bf22b1e717b"
    }
   },
   "source": [
    "## Training a Logistic regression with l1 regularizer"
   ]
  },
  {
   "cell_type": "code",
   "execution_count": 41,
   "metadata": {
    "collapsed": false,
    "nbpresent": {
     "id": "1da43dc1-c1fe-4a8a-b506-6d7241417f20"
    }
   },
   "outputs": [
    {
     "name": "stdout",
     "output_type": "stream",
     "text": [
      "AUC:  83.9824613454\n"
     ]
    },
    {
     "data": {
      "image/png": "[encoded data removed]",
      "text/plain": [
       "<matplotlib.figure.Figure at 0x7f48f9115160>"
      ]
     },
     "metadata": {},
     "output_type": "display_data"
    }
   ],
   "source": [
    "Y_train_notes,Y_test_notes = Y_train_notes.drop(['train'],axis=1).values.squeeze(),Y_test_notes.drop(['train'],axis=1).values.squeeze()\n",
    "notes_classifier = LogisticRegression(random_state=0,penalty=\"l1\", C=2)\n",
    "notes_classifier.fit(X_train_notes, Y_train_notes)\n",
    "Y_pred_notes = notes_classifier.predict(X_test_notes)\n",
    "Y_test_notes_prob = notes_classifier.predict_proba(X_test_notes)\n",
    "auc_model2 = roc_auc_score(Y_test_notes,Y_test_notes_prob[:,1])\n",
    "print(\"AUC: \",roc_auc_score(Y_test_notes,Y_test_notes_prob[:,1])*100)\n",
    "fpr, tpr,_=roc_curve(Y_test_notes,Y_test_notes_prob[:,1])\n",
    "plt.figure()\n",
    "plt.plot(fpr, tpr, color='red', lw=2, label='ROC curve')\n",
    "plt.plot([0, 1], [0, 1], color='blue', lw=2, linestyle='--')\n",
    "plt.xlabel('False Positive Rate')\n",
    "plt.ylabel('True Positive Rate')\n",
    "plt.title('ROC curve')\n",
    "plt.show()"
   ]
  },
  {
   "cell_type": "markdown",
   "metadata": {
    "collapsed": false,
    "nbpresent": {
     "id": "83741851-3ea7-4beb-aefb-a608a2f313b3"
    }
   },
   "source": [
    "### Top 5 words associated with high mortality"
   ]
  },
  {
   "cell_type": "code",
   "execution_count": 27,
   "metadata": {
    "collapsed": false,
    "nbpresent": {
     "id": "5222904e-3942-40d4-a5ef-97da14967869"
    }
   },
   "outputs": [
    {
     "data": {
      "text/html": [
       "<div>\n",
       "<table border=\"1\" class=\"dataframe\">\n",
       "  <thead>\n",
       "    <tr style=\"text-align: right;\">\n",
       "      <th></th>\n",
       "      <th>Words</th>\n",
       "      <th>coef</th>\n",
       "    </tr>\n",
       "  </thead>\n",
       "  <tbody>\n",
       "    <tr>\n",
       "      <th>87458</th>\n",
       "      <td>death</td>\n",
       "      <td>7.588705</td>\n",
       "    </tr>\n",
       "    <tr>\n",
       "      <th>133709</th>\n",
       "      <td>paucity</td>\n",
       "      <td>8.082491</td>\n",
       "    </tr>\n",
       "    <tr>\n",
       "      <th>91748</th>\n",
       "      <td>dnr</td>\n",
       "      <td>8.449714</td>\n",
       "    </tr>\n",
       "    <tr>\n",
       "      <th>84892</th>\n",
       "      <td>corneal</td>\n",
       "      <td>12.954238</td>\n",
       "    </tr>\n",
       "    <tr>\n",
       "      <th>139770</th>\n",
       "      <td>prognosis</td>\n",
       "      <td>13.598452</td>\n",
       "    </tr>\n",
       "  </tbody>\n",
       "</table>\n",
       "</div>"
      ],
      "text/plain": [
       "            Words       coef\n",
       "87458       death   7.588705\n",
       "133709    paucity   8.082491\n",
       "91748         dnr   8.449714\n",
       "84892     corneal  12.954238\n",
       "139770  prognosis  13.598452"
      ]
     },
     "execution_count": 27,
     "metadata": {},
     "output_type": "execute_result"
    }
   ],
   "source": [
    "Coef_table=pd.DataFrame()\n",
    "Coef_table['Words'] = v.get_feature_names()\n",
    "Coef_table['coef'] = notes_classifier.coef_[0]\n",
    "Coef_table = Coef_table.sort_values('coef')\n",
    "Coef_table.iloc[-5:]"
   ]
  },
  {
   "cell_type": "markdown",
   "metadata": {
    "nbpresent": {
     "id": "070b82aa-d86e-41f5-b243-6c084d1eff40"
    }
   },
   "source": [
    "### Lowest 5 words associated with high mortality"
   ]
  },
  {
   "cell_type": "code",
   "execution_count": 28,
   "metadata": {
    "collapsed": false,
    "nbpresent": {
     "id": "0bc8b1ab-e5b2-4db6-9b51-2dea1e0afc3e"
    }
   },
   "outputs": [
    {
     "data": {
      "text/html": [
       "<div>\n",
       "<table border=\"1\" class=\"dataframe\">\n",
       "  <thead>\n",
       "    <tr style=\"text-align: right;\">\n",
       "      <th></th>\n",
       "      <th>Words</th>\n",
       "      <th>coef</th>\n",
       "    </tr>\n",
       "  </thead>\n",
       "  <tbody>\n",
       "    <tr>\n",
       "      <th>89833</th>\n",
       "      <td>diet</td>\n",
       "      <td>-20.365169</td>\n",
       "    </tr>\n",
       "    <tr>\n",
       "      <th>98734</th>\n",
       "      <td>extubation</td>\n",
       "      <td>-11.216762</td>\n",
       "    </tr>\n",
       "    <tr>\n",
       "      <th>81198</th>\n",
       "      <td>clear</td>\n",
       "      <td>-9.350858</td>\n",
       "    </tr>\n",
       "    <tr>\n",
       "      <th>98717</th>\n",
       "      <td>extubated</td>\n",
       "      <td>-9.062516</td>\n",
       "    </tr>\n",
       "    <tr>\n",
       "      <th>169929</th>\n",
       "      <td>weaned</td>\n",
       "      <td>-8.396376</td>\n",
       "    </tr>\n",
       "  </tbody>\n",
       "</table>\n",
       "</div>"
      ],
      "text/plain": [
       "             Words       coef\n",
       "89833         diet -20.365169\n",
       "98734   extubation -11.216762\n",
       "81198        clear  -9.350858\n",
       "98717    extubated  -9.062516\n",
       "169929      weaned  -8.396376"
      ]
     },
     "execution_count": 28,
     "metadata": {},
     "output_type": "execute_result"
    }
   ],
   "source": [
    "Coef_table.iloc[:5]"
   ]
  },
  {
   "cell_type": "markdown",
   "metadata": {
    "nbpresent": {
     "id": "2b8cb56e-58a4-4d62-95d1-df0f02df0cd1"
    }
   },
   "source": [
    "# ------------------------------------------------------------------------------------------------\n",
    "# Part 2(c):"
   ]
  },
  {
   "cell_type": "markdown",
   "metadata": {},
   "source": [
    "#### Getting the data"
   ]
  },
  {
   "cell_type": "code",
   "execution_count": 69,
   "metadata": {
    "collapsed": false,
    "nbpresent": {
     "id": "dc892832-d26c-4380-97fd-f8228ca86b40"
    }
   },
   "outputs": [],
   "source": [
    "X_test_notes = pd.read_pickle('X_test_notes')\n",
    "Y_test_notes = pd.read_pickle('Y_test_notes')\n",
    "X_test_scaled = pd.read_pickle('X_test_scaled')\n",
    "Y_test = pd.read_pickle('Y_test_notes')"
   ]
  },
  {
   "cell_type": "code",
   "execution_count": 59,
   "metadata": {
    "collapsed": true,
    "nbpresent": {
     "id": "31857b0a-78f5-45da-a191-3affab841189"
    }
   },
   "outputs": [],
   "source": [
    "Y_merged_prob = (Y_test_prob+Y_test_notes_prob)/2"
   ]
  },
  {
   "cell_type": "code",
   "execution_count": 63,
   "metadata": {
    "collapsed": false,
    "nbpresent": {
     "id": "3f04c732-10e9-4b5f-aeff-0d1c063603da"
    }
   },
   "outputs": [
    {
     "name": "stdout",
     "output_type": "stream",
     "text": [
      "AUC:  85.1181845924\n"
     ]
    },
    {
     "data": {
      "image/png": "[encoded data removed]",
      "text/plain": [
       "<matplotlib.figure.Figure at 0x7fb1d17d1048>"
      ]
     },
     "metadata": {},
     "output_type": "display_data"
    }
   ],
   "source": [
    "auc_model3 = roc_auc_score(Y_test_notes,Y_merged_prob[:,1])\n",
    "print(\"AUC: \",roc_auc_score(Y_test_notes,Y_merged_prob[:,1])*100)\n",
    "fpr, tpr,_=roc_curve(Y_test_notes,Y_merged_prob[:,1])\n",
    "plt.figure()\n",
    "plt.plot(fpr, tpr, color='red', lw=2, label='ROC curve')\n",
    "plt.plot([0, 1], [0, 1], color='blue', lw=2, linestyle='--')\n",
    "plt.xlabel('False Positive Rate')\n",
    "plt.ylabel('True Positive Rate')\n",
    "plt.title('ROC curve')\n",
    "plt.show()"
   ]
  },
  {
   "cell_type": "markdown",
   "metadata": {
    "nbpresent": {
     "id": "830af614-189a-4dbf-a390-a2bf233e514d"
    }
   },
   "source": [
    "###### Explanation:\n",
    "\n",
    "In this step we are making an Ensemble of classifier. This is known as Bagging, where we use train classifier indepedently on random subsets of data. It reduces the Variance of the model by averaging the prediction of each classifier. This helps in reducing overfitting. Hence, we saw an increase in AUC score"
   ]
  },
  {
   "cell_type": "markdown",
   "metadata": {
    "nbpresent": {
     "id": "9e274a9a-d454-49a8-ba8a-843027ae84e4"
    }
   },
   "source": [
    "# --------------------------------------------------------------------------------------------------------------- Part 3(a)\n"
   ]
  },
  {
   "cell_type": "markdown",
   "metadata": {},
   "source": [
    "#### Getting the data"
   ]
  },
  {
   "cell_type": "code",
   "execution_count": 2,
   "metadata": {
    "collapsed": true
   },
   "outputs": [],
   "source": [
    "hypertension_patients = pd.read_csv(\"/home/pulkitmathur1800/csc2548_ml4h/hypertension_patients\")\n",
    "hypertension_charts = pd.read_csv(\"/home/pulkitmathur1800/csc2548_ml4h/hypertension_charts\")"
   ]
  },
  {
   "cell_type": "markdown",
   "metadata": {},
   "source": [
    "#### Preprocessing the data"
   ]
  },
  {
   "cell_type": "code",
   "execution_count": 3,
   "metadata": {
    "collapsed": false
   },
   "outputs": [],
   "source": [
    "def filter(itemid):\n",
    "    filtered_data = hypertension_charts.loc[hypertension_charts['itemid'] == itemid]\n",
    "    #removing patients with fewer than 2 measurements\n",
    "    temp = pd.core.frame.DataFrame(filtered_data.groupby(['subject_id','hadm_id'],as_index = False).valuenum.agg(['count'])).reset_index() \n",
    "    temp = temp.loc[temp['count']<2]\n",
    "    filtered_data = filtered_data.loc[~(filtered_data['subject_id'].isin(temp['subject_id']) & filtered_data['hadm_id'].isin(temp['hadm_id']))]\n",
    "    \n",
    "    #preparing the data for LSTM\n",
    "    filtered_data_lstm = filtered_data\n",
    "    filtered_data_lstm = filtered_data_lstm.sort_values(['charttime'])\n",
    "    filtered_data_lstm = pd.core.frame.DataFrame(filtered_data_lstm.groupby(['subject_id','hadm_id']).valuenum.apply(list)).reset_index()\n",
    "    filtered_data_lstm = pd.merge(hypertension_patients, filtered_data_lstm, on=['subject_id','hadm_id'], how='inner')\n",
    "    filtered_data_lstm = filtered_data_lstm.drop(['subject_id','hadm_id'],axis=1)\n",
    "\n",
    "    #finding mean,max and min\n",
    "    filtered_data = pd.core.frame.DataFrame(filtered_data.groupby(['subject_id','hadm_id']).valuenum.agg(['mean','max','min'])).reset_index()\n",
    "    filtered_data = pd.merge(hypertension_patients, filtered_data, on=['subject_id','hadm_id'], how='inner')\n",
    "    filtered_data = filtered_data.drop(['subject_id','hadm_id'],axis=1)\n",
    "    filtered_data_lr = filtered_data\n",
    "    return filtered_data_lr,filtered_data_lstm\n",
    "\n",
    "heart_rate_data_lr, heart_rate_data_lstm= filter(220045)\n",
    "respiratory_rate_data_lr, respiratory_rate_data_lstm= filter(220210)\n",
    "o2_saturation_data_lr,o2_saturation_data_lstm = filter(220277)\n",
    "blood_pressure_data_lr, blood_pressure_data_lstm = filter(220181)"
   ]
  },
  {
   "cell_type": "markdown",
   "metadata": {},
   "source": [
    "##### Logistic Regression module for this part"
   ]
  },
  {
   "cell_type": "code",
   "execution_count": 4,
   "metadata": {
    "collapsed": true
   },
   "outputs": [],
   "source": [
    "def logistic_regression(data):\n",
    "    #spliting the training and testing data\n",
    "    X = data.drop(['hypertension'],axis=1)\n",
    "    X_train,X_test = X.loc[X['train']==1],X.loc[X['train']==0]\n",
    "    X_train,X_test = X_train.drop(['train'],axis=1),X_test.drop(['train'],axis=1)\n",
    "    Y = data[['hypertension','train']] \n",
    "    Y_train,Y_test = Y.loc[Y['train']==1],Y.loc[Y['train']==0]\n",
    "    Y_train,Y_test = Y_train.drop(['train'],axis=1).values.squeeze(),Y_test.drop(['train'],axis=1).values.squeeze()\n",
    "    \n",
    "    #training the model\n",
    "    classifier = LogisticRegression(random_state=0,penalty=\"l2\", C=1)\n",
    "    classifier.fit(X_train, Y_train)\n",
    "    Y_pred = classifier.predict(X_test)\n",
    "    Y_test_prob = classifier.predict_proba(X_test)\n",
    "    print(\"AUC: \",roc_auc_score(Y_test,Y_test_prob[:,1]))\n",
    "    print(\"F1 Score\",f1_score(Y_test,Y_pred))"
   ]
  },
  {
   "cell_type": "markdown",
   "metadata": {},
   "source": [
    "#### Baseline for Heart rate"
   ]
  },
  {
   "cell_type": "code",
   "execution_count": 6,
   "metadata": {
    "collapsed": false
   },
   "outputs": [
    {
     "name": "stdout",
     "output_type": "stream",
     "text": [
      "AUC:  0.512145890711721\n",
      "F1 Score 0.0014084507042253522\n"
     ]
    }
   ],
   "source": [
    "logistic_regression(heart_rate_data_lr)"
   ]
  },
  {
   "cell_type": "markdown",
   "metadata": {},
   "source": [
    "#### Baseline for Respiratory rate"
   ]
  },
  {
   "cell_type": "code",
   "execution_count": 8,
   "metadata": {
    "collapsed": false
   },
   "outputs": [
    {
     "name": "stdout",
     "output_type": "stream",
     "text": [
      "AUC:  0.5310441905864991\n",
      "F1 Score 0.0014089468122578373\n"
     ]
    }
   ],
   "source": [
    "logistic_regression(respiratory_rate_data_lr)"
   ]
  },
  {
   "cell_type": "markdown",
   "metadata": {},
   "source": [
    "#### Baseline for O2 saturation"
   ]
  },
  {
   "cell_type": "code",
   "execution_count": 9,
   "metadata": {
    "collapsed": false
   },
   "outputs": [
    {
     "name": "stdout",
     "output_type": "stream",
     "text": [
      "AUC:  0.5087042872546437\n",
      "F1 Score 0.0\n"
     ]
    },
    {
     "name": "stderr",
     "output_type": "stream",
     "text": [
      "/home/pulkitmathur1800/anaconda3/lib/python3.5/site-packages/sklearn/metrics/classification.py:1135: UndefinedMetricWarning: F-score is ill-defined and being set to 0.0 due to no predicted samples.\n",
      "  'precision', 'predicted', average, warn_for)\n"
     ]
    }
   ],
   "source": [
    "logistic_regression(o2_saturation_data_lr)"
   ]
  },
  {
   "cell_type": "markdown",
   "metadata": {},
   "source": [
    "#### Baseline for Blood_pressure"
   ]
  },
  {
   "cell_type": "code",
   "execution_count": 10,
   "metadata": {
    "collapsed": false
   },
   "outputs": [
    {
     "name": "stdout",
     "output_type": "stream",
     "text": [
      "AUC:  0.5283805776038468\n",
      "F1 Score 0.054692775151924375\n"
     ]
    }
   ],
   "source": [
    "logistic_regression(blood_pressure_data_lr)"
   ]
  },
  {
   "cell_type": "markdown",
   "metadata": {},
   "source": [
    "# Part 3(b):"
   ]
  },
  {
   "cell_type": "code",
   "execution_count": 83,
   "metadata": {
    "collapsed": true
   },
   "outputs": [],
   "source": [
    "def train_test_split(data):\n",
    "    #X = data.drop(['hypertension'],axis=1)\n",
    "    X = data\n",
    "    X_train,X_test = X.loc[X['train']==1],X.loc[X['train']==0]\n",
    "    X_train,X_test = X_train.drop(['train'],axis=1),X_test.drop(['train'],axis=1)\n",
    "    Y = data[['hypertension','train']] \n",
    "    Y_train,Y_test = Y.loc[Y['train']==1],Y.loc[Y['train']==0]\n",
    "    Y_train,Y_test = Y_train.drop(['train'],axis=1).values.squeeze(),Y_test.drop(['train'],axis=1).values.squeeze()\n",
    "    X_train = X_train['valuenum'].apply(lambda x: [[i] for i in x])\n",
    "    X_test = X_test.valuenum.apply(lambda x: [[i] for i in x])\n",
    "    Y_train = np.array(Y_train)\n",
    "    X_train = np.array(X_train)\n",
    "    Y_test = np.array(Y_test)\n",
    "    X_test = np.array(X_test)\n",
    "    return X_train,Y_train,X_test,Y_test"
   ]
  },
  {
   "cell_type": "code",
   "execution_count": 24,
   "metadata": {
    "collapsed": false
   },
   "outputs": [
    {
     "name": "stderr",
     "output_type": "stream",
     "text": [
      "/home/pulkitmathur1800/anaconda3/lib/python3.5/site-packages/ipykernel/__main__.py:5: UserWarning: Update your `Dense` call to the Keras 2 API: `Dense(1, activation=\"sigmoid\", kernel_initializer=\"normal\")`\n"
     ]
    }
   ],
   "source": [
    "# design network\n",
    "model = Sequential()\n",
    "model.add(LSTM(100, input_shape=(None, 1)))\n",
    "model.add(Dropout(0.2))\n",
    "model.add(Dense(1,init='normal', activation='sigmoid'))\n",
    "model.compile(loss='binary_crossentropy',optimizer='adam',metrics=['accuracy'])\n",
    "\n",
    "def train_generator(X_train,Y_train):\n",
    "    w=0\n",
    "    while True:\n",
    "        x_train = np.array([X_train[w]])\n",
    "        y_train = np.array([Y_train[w]])\n",
    "        w+=1\n",
    "        if w==X_train.shape[0]:\n",
    "            w=0\n",
    "        yield x_train, y_train\n",
    "\n",
    "def input_generator(X_test):\n",
    "    w=0\n",
    "    while True:\n",
    "        x_test = np.array([X_test[w]])\n",
    "        w+=1\n",
    "        yield x_test\n",
    "        \n",
    "def visualize_data(history):\n",
    "    ## visualise training history\n",
    "    plt.plot(history.history['loss'])\n",
    "    #plt.plot(history.history['val_loss'])\n",
    "    plt.title('model loss')\n",
    "    plt.ylabel('loss')\n",
    "    plt.xlabel('epoch')\n",
    "    plt.legend(['train', 'test'], loc='upper left')\n",
    "    plt.show()"
   ]
  },
  {
   "cell_type": "code",
   "execution_count": 34,
   "metadata": {
    "collapsed": false
   },
   "outputs": [],
   "source": [
    "X_train,Y_train,X_test,Y_test = train_test_split(heart_rate_data_lstm)\n",
    "#X_train['len'] = X_train.valuenum.apply(lambda x: len(x))\n",
    "#min(X_train['len'])"
   ]
  },
  {
   "cell_type": "markdown",
   "metadata": {},
   "source": [
    "#### Heart Rate"
   ]
  },
  {
   "cell_type": "code",
   "execution_count": 7,
   "metadata": {
    "collapsed": false
   },
   "outputs": [
    {
     "name": "stdout",
     "output_type": "stream",
     "text": [
      "Epoch 1/3\n",
      "15298/15298 [==============================] - 1000s 65ms/step - loss: 0.6892 - acc: 0.5534\n",
      "Epoch 2/3\n",
      "15298/15298 [==============================] - 1001s 65ms/step - loss: 0.6891 - acc: 0.5545\n",
      "Epoch 3/3\n",
      "15298/15298 [==============================] - 1007s 66ms/step - loss: 0.6888 - acc: 0.5550\n"
     ]
    }
   ],
   "source": [
    "X_train,Y_train,X_test,Y_test = train_test_split(heart_rate_data_lstm)\n",
    "history = model.fit_generator(train_generator(X_train,Y_train), steps_per_epoch=X_train.shape[0], epochs=3, verbose=1)"
   ]
  },
  {
   "cell_type": "code",
   "execution_count": 19,
   "metadata": {
    "collapsed": false
   },
   "outputs": [
    {
     "data": {
      "image/png": "[encoded data removed]",
      "text/plain": [
       "<Figure size 432x288 with 1 Axes>"
      ]
     },
     "metadata": {
      "needs_background": "light"
     },
     "output_type": "display_data"
    },
    {
     "name": "stdout",
     "output_type": "stream",
     "text": [
      "AUC:  0.529375764765223\n",
      "F1 Score 0.6005293806246691\n"
     ]
    }
   ],
   "source": [
    "visualize_data(history)\n",
    "Y_prob = model.predict_generator(input_generator(X_test),steps = X_test.shape[0])\n",
    "Y_pred = np.array(pd.DataFrame(Y_prob)[0].apply(lambda x: 1 if x>0.5 else 0))\n",
    "print(\"AUC: \",roc_auc_score(Y_test,Y_prob))\n",
    "print(\"F1 Score\",f1_score(Y_test,Y_pred))"
   ]
  },
  {
   "cell_type": "markdown",
   "metadata": {},
   "source": [
    "#### Respiratory Rate"
   ]
  },
  {
   "cell_type": "code",
   "execution_count": 84,
   "metadata": {
    "collapsed": false
   },
   "outputs": [
    {
     "name": "stdout",
     "output_type": "stream",
     "text": [
      "Epoch 1/3\n",
      "15286/15286 [==============================] - 971s 64ms/step - loss: 0.6889 - acc: 0.5550\n",
      "Epoch 2/3\n",
      "15286/15286 [==============================] - 980s 64ms/step - loss: 0.6872 - acc: 0.5557\n",
      "Epoch 3/3\n",
      "15286/15286 [==============================] - 991s 65ms/step - loss: 0.6875 - acc: 0.5557\n"
     ]
    },
    {
     "data": {
      "text/plain": [
       "<keras.callbacks.History at 0x7fbbec6242e8>"
      ]
     },
     "execution_count": 84,
     "metadata": {},
     "output_type": "execute_result"
    }
   ],
   "source": [
    "X_train,Y_train,X_test,Y_test = train_test_split(respiratory_rate_data_lstm)\n",
    "model.fit_generator(train_generator(X_train,Y_train), steps_per_epoch=X_train.shape[0], epochs=3, verbose=1)"
   ]
  },
  {
   "cell_type": "code",
   "execution_count": 85,
   "metadata": {
    "collapsed": false
   },
   "outputs": [
    {
     "name": "stdout",
     "output_type": "stream",
     "text": [
      "AUC:  0.5483304065982308\n",
      "F1 Score 0.0\n"
     ]
    },
    {
     "name": "stderr",
     "output_type": "stream",
     "text": [
      "/home/pulkitmathur1800/anaconda3/lib/python3.5/site-packages/sklearn/metrics/classification.py:1135: UndefinedMetricWarning: F-score is ill-defined and being set to 0.0 due to no predicted samples.\n",
      "  'precision', 'predicted', average, warn_for)\n"
     ]
    }
   ],
   "source": [
    "Y_prob = model.predict_generator(input_generator(X_test),steps = X_test.shape[0])\n",
    "Y_pred = np.array(pd.DataFrame(Y_prob)[0].apply(lambda x: 1 if x>0.5 else 0))\n",
    "print(\"AUC: \",roc_auc_score(Y_test,Y_prob))\n",
    "print(\"F1 Score\",f1_score(Y_test,Y_pred))"
   ]
  },
  {
   "cell_type": "markdown",
   "metadata": {},
   "source": [
    "#### O2 saturation"
   ]
  },
  {
   "cell_type": "code",
   "execution_count": 86,
   "metadata": {
    "collapsed": false
   },
   "outputs": [
    {
     "name": "stdout",
     "output_type": "stream",
     "text": [
      "Epoch 1/3\n",
      "15283/15283 [==============================] - 1009s 66ms/step - loss: 0.6877 - acc: 0.5599\n",
      "Epoch 2/3\n",
      "15283/15283 [==============================] - 1017s 67ms/step - loss: 0.6879 - acc: 0.5581\n",
      "Epoch 3/3\n",
      "15283/15283 [==============================] - 1000s 65ms/step - loss: 0.6896 - acc: 0.5486\n"
     ]
    },
    {
     "data": {
      "text/plain": [
       "<keras.callbacks.History at 0x7fbbec1d4160>"
      ]
     },
     "execution_count": 86,
     "metadata": {},
     "output_type": "execute_result"
    }
   ],
   "source": [
    "X_train,Y_train,X_test,Y_test = train_test_split(o2_saturation_data_lstm)\n",
    "model.fit_generator(train_generator(X_train,Y_train), steps_per_epoch=X_train.shape[0], epochs=3, verbose=1)\n"
   ]
  },
  {
   "cell_type": "code",
   "execution_count": 87,
   "metadata": {
    "collapsed": false
   },
   "outputs": [
    {
     "name": "stdout",
     "output_type": "stream",
     "text": [
      "AUC:  0.5212313606382704\n",
      "F1 Score 0.0\n"
     ]
    }
   ],
   "source": [
    "Y_prob = model.predict_generator(input_generator(X_test),steps = X_test.shape[0])\n",
    "Y_pred = np.array(pd.DataFrame(Y_prob)[0].apply(lambda x: 1 if x>0.5 else 0))\n",
    "print(\"AUC: \",roc_auc_score(Y_test,Y_prob))\n",
    "print(\"F1 Score\",f1_score(Y_test,Y_pred))"
   ]
  },
  {
   "cell_type": "markdown",
   "metadata": {},
   "source": [
    "#### Blood_pressure"
   ]
  },
  {
   "cell_type": "code",
   "execution_count": 76,
   "metadata": {
    "collapsed": false
   },
   "outputs": [
    {
     "data": {
      "text/html": [
       "<div>\n",
       "<table border=\"1\" class=\"dataframe\">\n",
       "  <thead>\n",
       "    <tr style=\"text-align: right;\">\n",
       "      <th></th>\n",
       "      <th>hypertension</th>\n",
       "      <th>valuenum</th>\n",
       "    </tr>\n",
       "  </thead>\n",
       "  <tbody>\n",
       "    <tr>\n",
       "      <th>0</th>\n",
       "      <td>1</td>\n",
       "      <td>[108.0, 77.0, 72.0, 78.0, 76.0, 81.0, 65.0, 75...</td>\n",
       "    </tr>\n",
       "    <tr>\n",
       "      <th>2</th>\n",
       "      <td>1</td>\n",
       "      <td>[60.0, 59.0, 66.0, 71.0, 62.0, 70.0]</td>\n",
       "    </tr>\n",
       "    <tr>\n",
       "      <th>7</th>\n",
       "      <td>1</td>\n",
       "      <td>[86.0, 99.0, 73.0, 65.0, 70.0, 72.0, 68.0, 75....</td>\n",
       "    </tr>\n",
       "    <tr>\n",
       "      <th>12</th>\n",
       "      <td>1</td>\n",
       "      <td>[92.0, 88.0, 78.0, 82.0, 89.0, 82.0, 77.0, 96....</td>\n",
       "    </tr>\n",
       "    <tr>\n",
       "      <th>21</th>\n",
       "      <td>1</td>\n",
       "      <td>[75.0, 69.0, 77.0, 68.0, 68.0, 84.0, 64.0, 72....</td>\n",
       "    </tr>\n",
       "    <tr>\n",
       "      <th>23</th>\n",
       "      <td>1</td>\n",
       "      <td>[89.0, 84.0, 73.0, 75.0, 79.0, 70.0, 70.0, 67....</td>\n",
       "    </tr>\n",
       "    <tr>\n",
       "      <th>28</th>\n",
       "      <td>1</td>\n",
       "      <td>[74.0, 76.0, 75.0, 75.0, 93.0, 74.0, 96.0, 96....</td>\n",
       "    </tr>\n",
       "    <tr>\n",
       "      <th>29</th>\n",
       "      <td>1</td>\n",
       "      <td>[106.0, 101.0, 84.0, 86.0, 91.0, 82.0, 89.0, 8...</td>\n",
       "    </tr>\n",
       "    <tr>\n",
       "      <th>30</th>\n",
       "      <td>1</td>\n",
       "      <td>[62.0, 64.0, 69.0, 63.0, 65.0, 72.0, 67.0, 88....</td>\n",
       "    </tr>\n",
       "    <tr>\n",
       "      <th>34</th>\n",
       "      <td>1</td>\n",
       "      <td>[74.0, 86.0, 63.0, 86.0, 76.0, 63.0, 65.0, 75....</td>\n",
       "    </tr>\n",
       "  </tbody>\n",
       "</table>\n",
       "</div>"
      ],
      "text/plain": [
       "    hypertension                                           valuenum\n",
       "0              1  [108.0, 77.0, 72.0, 78.0, 76.0, 81.0, 65.0, 75...\n",
       "2              1               [60.0, 59.0, 66.0, 71.0, 62.0, 70.0]\n",
       "7              1  [86.0, 99.0, 73.0, 65.0, 70.0, 72.0, 68.0, 75....\n",
       "12             1  [92.0, 88.0, 78.0, 82.0, 89.0, 82.0, 77.0, 96....\n",
       "21             1  [75.0, 69.0, 77.0, 68.0, 68.0, 84.0, 64.0, 72....\n",
       "23             1  [89.0, 84.0, 73.0, 75.0, 79.0, 70.0, 70.0, 67....\n",
       "28             1  [74.0, 76.0, 75.0, 75.0, 93.0, 74.0, 96.0, 96....\n",
       "29             1  [106.0, 101.0, 84.0, 86.0, 91.0, 82.0, 89.0, 8...\n",
       "30             1  [62.0, 64.0, 69.0, 63.0, 65.0, 72.0, 67.0, 88....\n",
       "34             1  [74.0, 86.0, 63.0, 86.0, 76.0, 63.0, 65.0, 75...."
      ]
     },
     "execution_count": 76,
     "metadata": {},
     "output_type": "execute_result"
    }
   ],
   "source": [
    "X_train[X_train['hypertension']==1].head(10)"
   ]
  },
  {
   "cell_type": "code",
   "execution_count": 82,
   "metadata": {
    "collapsed": false
   },
   "outputs": [
    {
     "data": {
      "text/plain": [
       "[<matplotlib.lines.Line2D at 0x7fbbdeb936d8>]"
      ]
     },
     "execution_count": 82,
     "metadata": {},
     "output_type": "execute_result"
    },
    {
     "data": {
      "image/png": "[encoded data removed]",
      "text/plain": [
       "<Figure size 432x288 with 1 Axes>"
      ]
     },
     "metadata": {
      "needs_background": "light"
     },
     "output_type": "display_data"
    }
   ],
   "source": [
    "#X_train,Y_train,X_test,Y_test = train_test_split(blood_pressure_data_lstm)\n",
    "plt.plot(X_train['valuenum'][21])"
   ]
  },
  {
   "cell_type": "code",
   "execution_count": null,
   "metadata": {
    "collapsed": true
   },
   "outputs": [],
   "source": [
    "def filter(itemid):\n",
    "    filtered_data = hypertension_charts.loc[hypertension_charts['itemid'] == itemid]\n",
    "    #removing patients with fewer than 2 measurements\n",
    "    temp = pd.core.frame.DataFrame(filtered_data.groupby(['subject_id','hadm_id'],as_index = False).valuenum.agg(['count'])).reset_index() \n",
    "    temp = temp.loc[temp['count']<2]\n",
    "    filtered_data = filtered_data.loc[~(filtered_data['subject_id'].isin(temp['subject_id']) & filtered_data['hadm_id'].isin(temp['hadm_id']))]\n"
   ]
  },
  {
   "cell_type": "code",
   "execution_count": 88,
   "metadata": {
    "collapsed": false
   },
   "outputs": [
    {
     "name": "stdout",
     "output_type": "stream",
     "text": [
      "Epoch 1/3\n",
      "15013/15013 [==============================] - 501s 33ms/step - loss: 0.6889 - acc: 0.5540\n",
      "Epoch 2/3\n",
      "15013/15013 [==============================] - 498s 33ms/step - loss: 0.6885 - acc: 0.5547\n",
      "Epoch 3/3\n",
      "15013/15013 [==============================] - 500s 33ms/step - loss: 0.6891 - acc: 0.5531\n"
     ]
    },
    {
     "data": {
      "text/plain": [
       "<keras.callbacks.History at 0x7fbd0c158b38>"
      ]
     },
     "execution_count": 88,
     "metadata": {},
     "output_type": "execute_result"
    }
   ],
   "source": [
    "X_train,Y_train,X_test,Y_test = train_test_split(blood_pressure_data_lstm)\n",
    "model.fit_generator(train_generator(X_train,Y_train), steps_per_epoch=X_train.shape[0], epochs=3, verbose=1)"
   ]
  },
  {
   "cell_type": "code",
   "execution_count": 89,
   "metadata": {
    "collapsed": false
   },
   "outputs": [
    {
     "name": "stdout",
     "output_type": "stream",
     "text": [
      "AUC:  0.4909549227370299\n",
      "F1 Score 0.0007171029042667623\n"
     ]
    }
   ],
   "source": [
    "Y_prob = model.predict_generator(input_generator(X_test),steps = X_test.shape[0])\n",
    "Y_pred = np.array(pd.DataFrame(Y_prob)[0].apply(lambda x: 1 if x>0.5 else 0))\n",
    "print(\"AUC: \",roc_auc_score(Y_test,Y_prob))\n",
    "print(\"F1 Score\",f1_score(Y_test,Y_pred))"
   ]
  },
  {
   "cell_type": "markdown",
   "metadata": {},
   "source": [
    "# ----------------------------------------------------------------------------------------------------\n",
    "# Part 3(c):"
   ]
  },
  {
   "cell_type": "markdown",
   "metadata": {},
   "source": [
    "LSTM Performance was nearly the same as that of baseline (logistic regression) and it did not improve even with different number of hidden layers, different number of neurons, number of epochs and even after using regularizer (dropout). \n",
    "\n",
    "Hypertension anxiety, tension, smocking, obesity "
   ]
  },
  {
   "cell_type": "markdown",
   "metadata": {
    "nbpresent": {
     "id": "7fc875ec-f99e-4f97-bc00-98430f3cf049"
    }
   },
   "source": [
    "# --------------------------------------------------------------------------------------------------------------\n",
    "# Part 4(a):"
   ]
  },
  {
   "cell_type": "code",
   "execution_count": null,
   "metadata": {
    "collapsed": false,
    "nbpresent": {
     "id": "daab28af-8c43-491e-970b-a56b92b2ad17"
    }
   },
   "outputs": [],
   "source": [
    "adult_notes_raw = pd.read_csv(\"/home/pulkitmathur1800/csc2548_ml4h/adult_notes\")\n",
    "adult_notes_raw = adult_notes_raw.drop(['subject_id','hadm_id','icustay_id'],axis=1)\n",
    "adult_notes_raw = delete_punctuation(adult_notes_raw)\n",
    "adult_notes_raw = delete_stopwords(adult_notes_raw)"
   ]
  },
  {
   "cell_type": "code",
   "execution_count": 81,
   "metadata": {
    "collapsed": true,
    "nbpresent": {
     "id": "1734ff24-eb3f-4c1e-b878-a46b5127a5ab"
    }
   },
   "outputs": [],
   "source": [
    "#remove\n",
    "adult_notes_raw = pd.read_pickle('adult_notes_raw')"
   ]
  },
  {
   "cell_type": "code",
   "execution_count": 82,
   "metadata": {
    "collapsed": true,
    "nbpresent": {
     "id": "2cc1dcb5-455d-4a0b-9466-705c51ce7b83"
    }
   },
   "outputs": [],
   "source": [
    "adult_notes_lda = adult_notes_raw.drop([\"train\",\"mort_icu\"],axis=1)\n",
    "text_data=[]\n",
    "for i in range(adult_notes_lda.shape[0]):\n",
    "    text_data.append(adult_notes_lda['chartext'][i].split())"
   ]
  },
  {
   "cell_type": "code",
   "execution_count": 11,
   "metadata": {
    "collapsed": false,
    "nbpresent": {
     "id": "388f1900-a4b7-47b0-ac59-e9c416baa9e4"
    }
   },
   "outputs": [],
   "source": [
    "#create dictionary\n",
    "dictionary = corpora.Dictionary(text_data)\n",
    "#Term document frequency\n",
    "corpus = [dictionary.doc2bow(text) for text in text_data]\n",
    "dictionary.save('dictionary.gensim')"
   ]
  },
  {
   "cell_type": "code",
   "execution_count": 196,
   "metadata": {
    "collapsed": false,
    "nbpresent": {
     "id": "148bdd18-7110-483f-8026-b91e8736ee96"
    }
   },
   "outputs": [],
   "source": [
    "#remove\n",
    "dictionary = corpora.Dictionary.load('dictionary.gensim') \n",
    "corpus = [dictionary.doc2bow(text) for text in text_data]"
   ]
  },
  {
   "cell_type": "code",
   "execution_count": 18,
   "metadata": {
    "collapsed": false,
    "nbpresent": {
     "id": "403dd17c-9001-48b8-bb77-367682a7e753"
    }
   },
   "outputs": [],
   "source": [
    "ldamodel = gensim.models.ldamodel.LdaModel(corpus, num_topics = 20, id2word=dictionary)\n",
    "ldamodel.save('model20.gensim')"
   ]
  },
  {
   "cell_type": "code",
   "execution_count": 48,
   "metadata": {
    "collapsed": false,
    "nbpresent": {
     "id": "23817127-bdff-429a-ab23-b096813349bd"
    }
   },
   "outputs": [],
   "source": [
    "ldamodel = gensim.models.ldamodel.LdaModel(corpus, num_topics = 50, id2word=dictionary)\n",
    "ldamodel.save('model50.gensim')"
   ]
  },
  {
   "cell_type": "code",
   "execution_count": 49,
   "metadata": {
    "collapsed": false,
    "nbpresent": {
     "id": "1641ce8d-00a1-431c-ac03-ea3234508cd3"
    }
   },
   "outputs": [],
   "source": [
    "ldamodel = gensim.models.ldamodel.LdaModel(corpus, num_topics = 100, id2word=dictionary)\n",
    "ldamodel.save('model100.gensim')"
   ]
  },
  {
   "cell_type": "code",
   "execution_count": 84,
   "metadata": {
    "collapsed": false,
    "nbpresent": {
     "id": "503339e0-2fbb-4872-abf9-6755612e9ab6"
    }
   },
   "outputs": [],
   "source": [
    "#remove\n",
    "ldamodel20 = gensim.models.ldamodel.LdaModel.load('model20.gensim')\n",
    "ldamodel50 = gensim.models.ldamodel.LdaModel.load('model50.gensim')\n",
    "ldamodel100 = gensim.models.ldamodel.LdaModel.load('model100.gensim')"
   ]
  },
  {
   "cell_type": "code",
   "execution_count": 52,
   "metadata": {
    "collapsed": false,
    "nbpresent": {
     "id": "2a7c54cc-0a24-4350-b9d2-0a231be2d500"
    }
   },
   "outputs": [
    {
     "name": "stdout",
     "output_type": "stream",
     "text": [
      "\n",
      "Coherence Score:  -0.450802145345\n",
      "\n",
      "Coherence Score:  -0.616188765437\n",
      "\n",
      "Coherence Score:  -0.620064586976\n"
     ]
    }
   ],
   "source": [
    "# Compute Coherence Score using UMass\n",
    "def print_coherence(ldamodel):\n",
    "    coherence_model_lda = CoherenceModel(model=ldamodel, corpus=corpus ,dictionary=dictionary, coherence=\"u_mass\")\n",
    "    coherence_lda = coherence_model_lda.get_coherence()\n",
    "    print('\\nCoherence Score: ', coherence_lda)\n",
    "print(\"LDA model for topics = 20\\n\")\n",
    "print_coherence(ldamodel20)\n",
    "print(\"LDA model for topics = 20\\n\")\n",
    "print_coherence(ldamodel50)\n",
    "print(\"LDA model for topics = 20\\n\")\n",
    "print_coherence(ldamodel100)"
   ]
  },
  {
   "cell_type": "code",
   "execution_count": 201,
   "metadata": {
    "collapsed": false,
    "nbpresent": {
     "id": "b22a10ad-0d55-4c3c-90af-4aa8bd1b67af"
    }
   },
   "outputs": [],
   "source": [
    "words = [['respiratory'],['vomiting'], ['urine'], ['pulse']]\n",
    "Bow = [dictionary.doc2bow(keyword) for keyword in words] \n",
    "topics = ldamodel20.get_document_topics(Bow,per_word_topics=True)"
   ]
  },
  {
   "cell_type": "code",
   "execution_count": 223,
   "metadata": {
    "collapsed": false,
    "nbpresent": {
     "id": "5c90bd53-9fb7-4540-9ed8-96a1fdbe6289"
    },
    "scrolled": true
   },
   "outputs": [
    {
     "name": "stdout",
     "output_type": "stream",
     "text": [
      "Topic [17]  for  respiratory\n",
      "Topic [8]  for  vomiting\n",
      "Topic [4]  for  urine\n",
      "Topic [16]  for  pulse\n"
     ]
    }
   ],
   "source": [
    "for t in topics:\n",
    "    wordID, topic = t[1][0]\n",
    "    print('Topic',topic,' for ',dictionary[wordID])"
   ]
  },
  {
   "cell_type": "markdown",
   "metadata": {},
   "source": [
    "#### Respiratory"
   ]
  },
  {
   "cell_type": "code",
   "execution_count": 227,
   "metadata": {
    "collapsed": false
   },
   "outputs": [
    {
     "data": {
      "text/plain": [
       "'0.050*\"trach\" + 0.050*\"stent\" + 0.025*\"bronch\" + 0.025*\"tracheal\" + 0.020*\"IP\" + 0.015*\"TBM\" + 0.015*\"Y\" + 0.013*\"bronchoscopy\" + 0.012*\"rigid\" + 0.011*\"tracheostomy\" + 0.009*\"reconstruction\" + 0.009*\"tracheobronchomalacia\" + 0.008*\"tracheomalacia\" + 0.007*\"secretions\" + 0.007*\"trachea\" + 0.007*\"Tracheobronchomalacia\" + 0.007*\"Tracheostomy\" + 0.007*\"placement\" + 0.006*\"neck\" + 0.006*\"Trach\" + 0.006*\"stenosis\" + 0.005*\"bronchomalacia\" + 0.005*\"Pt\" + 0.005*\"OR\" + 0.005*\"granulation\" + 0.004*\"1\" + 0.004*\"p\" + 0.004*\"epidural\" + 0.004*\"bronchus\" + 0.004*\"tissue\" + 0.004*\"malacia\" + 0.004*\"stridor\" + 0.004*\"tracheoplasty\" + 0.004*\"mainstem\" + 0.004*\"4\" + 0.003*\"Tracheal\" + 0.003*\"tube\" + 0.003*\"TSICU\" + 0.003*\"flex\" + 0.003*\"airway\"'"
      ]
     },
     "execution_count": 227,
     "metadata": {},
     "output_type": "execute_result"
    }
   ],
   "source": [
    "ldamodel20.print_topic(17,40)"
   ]
  },
  {
   "cell_type": "markdown",
   "metadata": {},
   "source": [
    "Topic- \"Management of Tracheobronchial diseases\""
   ]
  },
  {
   "cell_type": "markdown",
   "metadata": {},
   "source": [
    "#### Vomiting"
   ]
  },
  {
   "cell_type": "code",
   "execution_count": 229,
   "metadata": {
    "collapsed": false
   },
   "outputs": [
    {
     "data": {
      "text/plain": [
       "'0.012*\"2\" + 0.010*\"Pt\" + 0.009*\"1\" + 0.009*\"pain\" + 0.008*\"GI\" + 0.007*\"3\" + 0.007*\"pt\" + 0.006*\"bleeding\" + 0.006*\"Name\" + 0.005*\"c\" + 0.005*\"4\" + 0.005*\"bleed\" + 0.005*\"Hct\" + 0.005*\"w\" + 0.004*\"5\" + 0.004*\"6\" + 0.004*\"HCT\" + 0.004*\"given\" + 0.004*\"IV\" + 0.004*\"No\" + 0.004*\"stable\" + 0.004*\"blood\" + 0.004*\"7\" + 0.003*\"units\" + 0.003*\"liver\" + 0.003*\"hct\" + 0.003*\"Last\" + 0.003*\"8\" + 0.003*\"abdominal\" + 0.003*\"Plan\" + 0.003*\"stool\" + 0.003*\"abd\" + 0.003*\"EGD\" + 0.003*\"GIB\" + 0.003*\"AM\" + 0.002*\"renal\" + 0.002*\"today\" + 0.002*\"cirrhosis\" + 0.002*\"noted\" + 0.002*\"9\"'"
      ]
     },
     "execution_count": 229,
     "metadata": {},
     "output_type": "execute_result"
    }
   ],
   "source": [
    "ldamodel20.print_topic(8,40)"
   ]
  },
  {
   "cell_type": "markdown",
   "metadata": {},
   "source": [
    "Topic- \"Diagonosis and management of Gastro intestinal bleeding\"\n",
    "stool bleed "
   ]
  },
  {
   "cell_type": "markdown",
   "metadata": {},
   "source": [
    "#### Urine"
   ]
  },
  {
   "cell_type": "code",
   "execution_count": 230,
   "metadata": {
    "collapsed": false
   },
   "outputs": [
    {
     "data": {
      "text/plain": [
       "'0.017*\"pt\" + 0.016*\"Pt\" + 0.006*\"Name\" + 0.005*\"hr\" + 0.005*\"w\" + 0.005*\"pain\" + 0.004*\"2\" + 0.004*\"1\" + 0.004*\"noted\" + 0.004*\"given\" + 0.003*\"100\" + 0.003*\"5\" + 0.003*\"clear\" + 0.003*\"c\" + 0.003*\"3\" + 0.003*\"Plan\" + 0.003*\"status\" + 0.003*\"IV\" + 0.003*\"No\" + 0.003*\"sats\" + 0.003*\"Neuro\" + 0.003*\"per\" + 0.003*\"monitor\" + 0.002*\"urine\" + 0.002*\"care\" + 0.002*\"4\" + 0.002*\"Last\" + 0.002*\"7\" + 0.002*\"today\" + 0.002*\"shift\" + 0.002*\"HR\" + 0.002*\"BP\" + 0.002*\"cough\" + 0.002*\"well\" + 0.002*\"commands\" + 0.002*\"A\" + 0.002*\"able\" + 0.002*\"NI\" + 0.002*\"placed\" + 0.002*\"resp\"'"
      ]
     },
     "execution_count": 230,
     "metadata": {},
     "output_type": "execute_result"
    }
   ],
   "source": [
    "ldamodel20.print_topic(4,40)"
   ]
  },
  {
   "cell_type": "markdown",
   "metadata": {},
   "source": [
    "No sense"
   ]
  },
  {
   "cell_type": "markdown",
   "metadata": {},
   "source": [
    "#### Pulse"
   ]
  },
  {
   "cell_type": "code",
   "execution_count": 231,
   "metadata": {
    "collapsed": false
   },
   "outputs": [
    {
     "data": {
      "text/plain": [
       "'0.016*\"1\" + 0.012*\"mL\" + 0.010*\"2\" + 0.009*\"3\" + 0.009*\"No\" + 0.009*\"AM\" + 0.008*\"0\" + 0.008*\"dL\" + 0.008*\"4\" + 0.007*\"8\" + 0.007*\"mg\" + 0.007*\"5\" + 0.006*\"L\" + 0.006*\"9\" + 0.006*\"7\" + 0.006*\"6\" + 0.005*\"12\" + 0.005*\"PM\" + 0.005*\"10\" + 0.004*\"mEq\" + 0.004*\"Assessment\" + 0.004*\"ICU\" + 0.004*\"Other\" + 0.004*\"Not\" + 0.004*\"assessed\" + 0.004*\"24\" + 0.004*\"Plan\" + 0.004*\"11\" + 0.003*\"Response\" + 0.003*\"Action\" + 0.003*\"Name\" + 0.003*\"C\" + 0.003*\"20\" + 0.003*\"pulse\" + 0.003*\"history\" + 0.003*\"status\" + 0.003*\"Total\" + 0.003*\"Last\" + 0.003*\"given\" + 0.003*\"medications\"'"
      ]
     },
     "execution_count": 231,
     "metadata": {},
     "output_type": "execute_result"
    }
   ],
   "source": [
    "ldamodel20.print_topic(16,40)"
   ]
  },
  {
   "cell_type": "markdown",
   "metadata": {},
   "source": [
    "Topic- \"How to assist and give fluids in medication to a patient\"\n",
    "fluid low - bp diarreo,loose motion  -->pulkse low"
   ]
  }
 ],
 "metadata": {
  "anaconda-cloud": {},
  "kernelspec": {
   "display_name": "Python [default]",
   "language": "python",
   "name": "python3"
  },
  "language_info": {
   "codemirror_mode": {
    "name": "ipython",
    "version": 3
   },
   "file_extension": ".py",
   "mimetype": "text/x-python",
   "name": "python",
   "nbconvert_exporter": "python",
   "pygments_lexer": "ipython3",
   "version": "3.5.2"
  },
  "nbpresent": {
   "slides": {},
   "themes": {}
  }
 },
 "nbformat": 4,
 "nbformat_minor": 1
}
