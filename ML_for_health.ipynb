{
 "cells": [
  {
   "cell_type": "code",
   "execution_count": 32,
   "metadata": {
    "collapsed": false
   },
   "outputs": [],
   "source": [
    "import numpy as np\n",
    "import pandas as pd\n",
    "from sklearn.linear_model import LogisticRegression\n",
    "from sklearn.metrics import confusion_matrix,roc_curve,roc_auc_score\n",
    "from sklearn import preprocessing\n",
    "import matplotlib.pyplot as plt\n",
    "import seaborn as sns\n",
    "sns.set(style=\"white\")\n",
    "sns.set(style=\"whitegrid\", color_codes=True)"
   ]
  },
  {
   "cell_type": "code",
   "execution_count": 33,
   "metadata": {
    "collapsed": false
   },
   "outputs": [
    {
     "data": {
      "text/html": [
       "<div>\n",
       "<table border=\"1\" class=\"dataframe\">\n",
       "  <thead>\n",
       "    <tr style=\"text-align: right;\">\n",
       "      <th></th>\n",
       "      <th>age</th>\n",
       "      <th>mort_icu</th>\n",
       "      <th>first_hosp_stay</th>\n",
       "      <th>first_icu_stay</th>\n",
       "      <th>adult_icu</th>\n",
       "      <th>eth_asian</th>\n",
       "      <th>eth_black</th>\n",
       "      <th>eth_hispanic</th>\n",
       "      <th>eth_other</th>\n",
       "      <th>eth_white</th>\n",
       "      <th>...</th>\n",
       "      <th>phosphate</th>\n",
       "      <th>platelet</th>\n",
       "      <th>potassium</th>\n",
       "      <th>ptt</th>\n",
       "      <th>inr</th>\n",
       "      <th>pt</th>\n",
       "      <th>sodium</th>\n",
       "      <th>bun</th>\n",
       "      <th>wbc</th>\n",
       "      <th>train</th>\n",
       "    </tr>\n",
       "  </thead>\n",
       "  <tbody>\n",
       "    <tr>\n",
       "      <th>0</th>\n",
       "      <td>76.0</td>\n",
       "      <td>0</td>\n",
       "      <td>1</td>\n",
       "      <td>1</td>\n",
       "      <td>1</td>\n",
       "      <td>0</td>\n",
       "      <td>0</td>\n",
       "      <td>0</td>\n",
       "      <td>0</td>\n",
       "      <td>1</td>\n",
       "      <td>...</td>\n",
       "      <td>4.8</td>\n",
       "      <td>282.0</td>\n",
       "      <td>5.4</td>\n",
       "      <td>30.7</td>\n",
       "      <td>1.3</td>\n",
       "      <td>13.5</td>\n",
       "      <td>136.0</td>\n",
       "      <td>53.0</td>\n",
       "      <td>12.7</td>\n",
       "      <td>0</td>\n",
       "    </tr>\n",
       "    <tr>\n",
       "      <th>1</th>\n",
       "      <td>65.0</td>\n",
       "      <td>0</td>\n",
       "      <td>1</td>\n",
       "      <td>1</td>\n",
       "      <td>1</td>\n",
       "      <td>0</td>\n",
       "      <td>0</td>\n",
       "      <td>0</td>\n",
       "      <td>0</td>\n",
       "      <td>1</td>\n",
       "      <td>...</td>\n",
       "      <td>8.5</td>\n",
       "      <td>315.0</td>\n",
       "      <td>5.4</td>\n",
       "      <td>139.0</td>\n",
       "      <td>1.4</td>\n",
       "      <td>14.6</td>\n",
       "      <td>138.0</td>\n",
       "      <td>62.0</td>\n",
       "      <td>10.6</td>\n",
       "      <td>0</td>\n",
       "    </tr>\n",
       "    <tr>\n",
       "      <th>2</th>\n",
       "      <td>41.0</td>\n",
       "      <td>1</td>\n",
       "      <td>1</td>\n",
       "      <td>1</td>\n",
       "      <td>1</td>\n",
       "      <td>0</td>\n",
       "      <td>0</td>\n",
       "      <td>0</td>\n",
       "      <td>1</td>\n",
       "      <td>0</td>\n",
       "      <td>...</td>\n",
       "      <td>2.9</td>\n",
       "      <td>258.0</td>\n",
       "      <td>2.8</td>\n",
       "      <td>21.7</td>\n",
       "      <td>1.1</td>\n",
       "      <td>12.7</td>\n",
       "      <td>140.0</td>\n",
       "      <td>16.0</td>\n",
       "      <td>7.5</td>\n",
       "      <td>1</td>\n",
       "    </tr>\n",
       "    <tr>\n",
       "      <th>3</th>\n",
       "      <td>72.0</td>\n",
       "      <td>0</td>\n",
       "      <td>1</td>\n",
       "      <td>1</td>\n",
       "      <td>1</td>\n",
       "      <td>0</td>\n",
       "      <td>0</td>\n",
       "      <td>0</td>\n",
       "      <td>0</td>\n",
       "      <td>1</td>\n",
       "      <td>...</td>\n",
       "      <td>6.6</td>\n",
       "      <td>156.0</td>\n",
       "      <td>4.9</td>\n",
       "      <td>55.2</td>\n",
       "      <td>1.7</td>\n",
       "      <td>15.9</td>\n",
       "      <td>138.0</td>\n",
       "      <td>28.0</td>\n",
       "      <td>8.4</td>\n",
       "      <td>1</td>\n",
       "    </tr>\n",
       "    <tr>\n",
       "      <th>4</th>\n",
       "      <td>39.0</td>\n",
       "      <td>0</td>\n",
       "      <td>1</td>\n",
       "      <td>1</td>\n",
       "      <td>1</td>\n",
       "      <td>0</td>\n",
       "      <td>0</td>\n",
       "      <td>0</td>\n",
       "      <td>0</td>\n",
       "      <td>1</td>\n",
       "      <td>...</td>\n",
       "      <td>3.9</td>\n",
       "      <td>216.0</td>\n",
       "      <td>3.5</td>\n",
       "      <td>44.1</td>\n",
       "      <td>1.2</td>\n",
       "      <td>13.7</td>\n",
       "      <td>139.0</td>\n",
       "      <td>13.0</td>\n",
       "      <td>16.6</td>\n",
       "      <td>1</td>\n",
       "    </tr>\n",
       "  </tbody>\n",
       "</table>\n",
       "<p>5 rows × 59 columns</p>\n",
       "</div>"
      ],
      "text/plain": [
       "    age  mort_icu  first_hosp_stay  first_icu_stay  adult_icu  eth_asian  \\\n",
       "0  76.0         0                1               1          1          0   \n",
       "1  65.0         0                1               1          1          0   \n",
       "2  41.0         1                1               1          1          0   \n",
       "3  72.0         0                1               1          1          0   \n",
       "4  39.0         0                1               1          1          0   \n",
       "\n",
       "   eth_black  eth_hispanic  eth_other  eth_white  ...    phosphate  platelet  \\\n",
       "0          0             0          0          1  ...          4.8     282.0   \n",
       "1          0             0          0          1  ...          8.5     315.0   \n",
       "2          0             0          1          0  ...          2.9     258.0   \n",
       "3          0             0          0          1  ...          6.6     156.0   \n",
       "4          0             0          0          1  ...          3.9     216.0   \n",
       "\n",
       "   potassium    ptt  inr    pt  sodium   bun   wbc  train  \n",
       "0        5.4   30.7  1.3  13.5   136.0  53.0  12.7      0  \n",
       "1        5.4  139.0  1.4  14.6   138.0  62.0  10.6      0  \n",
       "2        2.8   21.7  1.1  12.7   140.0  16.0   7.5      1  \n",
       "3        4.9   55.2  1.7  15.9   138.0  28.0   8.4      1  \n",
       "4        3.5   44.1  1.2  13.7   139.0  13.0  16.6      1  \n",
       "\n",
       "[5 rows x 59 columns]"
      ]
     },
     "execution_count": 33,
     "metadata": {},
     "output_type": "execute_result"
    }
   ],
   "source": [
    "adult_icu = pd.read_csv(\"/home/pulkitmathur1800/csc2548_ml4h/adult_icu\")\n",
    "adult_icu = adult_icu.drop(['subject_id','hadm_id','icustay_id'],axis=1)\n",
    "adult_icu.head()"
   ]
  },
  {
   "cell_type": "code",
   "execution_count": 34,
   "metadata": {
    "collapsed": false
   },
   "outputs": [
    {
     "data": {
      "image/png": "[encoded data removed]",
      "text/plain": [
       "<matplotlib.figure.Figure at 0x7f880261da20>"
      ]
     },
     "metadata": {},
     "output_type": "display_data"
    }
   ],
   "source": [
    "sns.countplot(x='mort_icu',data=adult_icu, palette='hls')\n",
    "plt.show()"
   ]
  },
  {
   "cell_type": "code",
   "execution_count": 35,
   "metadata": {
    "collapsed": false
   },
   "outputs": [],
   "source": [
    "Y = adult_icu[['mort_icu','train']] \n",
    "Y_train,Y_test = Y.loc[Y['train']==1],Y.loc[Y['train']==0]\n",
    "Y_train,Y_test = Y_train.drop(['train'],axis=1).values.squeeze(),Y_test.drop(['train'],axis=1).values.squeeze()"
   ]
  },
  {
   "cell_type": "code",
   "execution_count": 36,
   "metadata": {
    "collapsed": false
   },
   "outputs": [],
   "source": [
    "bool_cols = [col for col in adult_icu if np.isin(adult_icu[col].dropna().unique(),[0, 1]).all()]\n",
    "non_bool_cols = [item for item in adult_icu.columns if item not in bool_cols]\n",
    "\n",
    "X_train,X_test = adult_icu.loc[adult_icu['train']==1],adult_icu.loc[adult_icu['train']==0]\n",
    "X_train.reset_index(drop=True,inplace=True)\n",
    "X_test.reset_index(drop=True,inplace=True)\n",
    "\n",
    "scaler = preprocessing.MinMaxScaler(feature_range=(0, 1))\n",
    "X_train_scaled = scaler.fit_transform(X_train[non_bool_cols])\n",
    "X_train_scaled = pd.DataFrame(X_train_scaled, columns=non_bool_cols)\n",
    "X_train_scaled = X_train_scaled.join(X_train[bool_cols])\n",
    "X_test_scaled = scaler.fit_transform(X_test[non_bool_cols])\n",
    "X_test_scaled = pd.DataFrame(X_test_scaled, columns=non_bool_cols)\n",
    "X_test_scaled = X_test_scaled.join(X_test[bool_cols])\n",
    "\n",
    "X_train_scaled,X_test_scaled = X_train_scaled.drop(['train','mort_icu'],axis=1),X_test_scaled.drop(['train','mort_icu'],axis=1)"
   ]
  },
  {
   "cell_type": "code",
   "execution_count": 37,
   "metadata": {
    "collapsed": false
   },
   "outputs": [
    {
     "name": "stdout",
     "output_type": "stream",
     "text": [
      "confusion matrix:  [[7153  147]\n",
      " [ 682  126]]\n",
      "Accuracy:  0.907068607069\n",
      "AUC:  77.7503729825\n"
     ]
    }
   ],
   "source": [
    "classifier = LogisticRegression(random_state=0,penalty=\"l2\", C=3)\n",
    "classifier.fit(X_train_scaled, Y_train)\n",
    "Y_pred = classifier.predict(X_test_scaled)\n",
    "matrix = confusion_matrix(Y_test, Y_pred)\n",
    "Y_test_prob = classifier.predict_proba(X_test_scaled)\n",
    "print(\"confusion matrix: \", matrix)\n",
    "print(\"Accuracy: \",classifier.score(X_train_scaled, Y_train))\n",
    "print(\"AUC: \",roc_auc_score(Y_test,Y_test_prob[:,1])*100)"
   ]
  },
  {
   "cell_type": "code",
   "execution_count": 38,
   "metadata": {
    "collapsed": false
   },
   "outputs": [
    {
     "data": {
      "image/png": "[encoded data removed]",
      "text/plain": [
       "<matplotlib.figure.Figure at 0x7f87fe471eb8>"
      ]
     },
     "metadata": {},
     "output_type": "display_data"
    }
   ],
   "source": [
    "fpr, tpr,_=roc_curve(Y_test,Y_test_prob[:,1],pos_label=1)\n",
    "plt.figure()\n",
    "plt.plot(fpr, tpr, color='red', lw=2, label='ROC curve')\n",
    "plt.plot([0, 1], [0, 1], color='blue', lw=2, linestyle='--')\n",
    "plt.xlabel('False Positive Rate')\n",
    "plt.ylabel('True Positive Rate')\n",
    "plt.title('ROC curve')\n",
    "plt.show()"
   ]
  },
  {
   "cell_type": "code",
   "execution_count": 39,
   "metadata": {
    "collapsed": false
   },
   "outputs": [
    {
     "name": "stdout",
     "output_type": "stream",
     "text": [
      "Index(['meanbp_mean', 'admType_NEWBORN', 'sysbp_min', 'glucose',\n",
      "       'resprate_mean'],\n",
      "      dtype='object')\n"
     ]
    }
   ],
   "source": [
    "coefs = classifier.coef_[0]\n",
    "top_five = np.argpartition(coefs, -5)[-5:]\n",
    "top_five = top_five[np.argsort(coefs[top_five])]\n",
    "print(X_train[top_five].columns[:])"
   ]
  },
  {
   "cell_type": "code",
   "execution_count": 40,
   "metadata": {
    "collapsed": false
   },
   "outputs": [
    {
     "name": "stdout",
     "output_type": "stream",
     "text": [
      "[53 20 31 38 50 23 46 49 40 24 55 45 39 48 13 52 11 42 14 56 54 36 51 27 35\n",
      " 47  0  7 41  3  2  5 22 15 32 34 43 25 12 17 44 28]\n"
     ]
    },
    {
     "data": {
      "text/plain": [
       "Index(['inr', 'diasbp_min', 'tempc_mean', 'aniongap', 'platelet', 'meanbp_min',\n",
       "       'hemoglobin', 'phosphate', 'bicarbonate', 'meanbp_max', 'sodium',\n",
       "       'hematocrit', 'albumin', 'magnesium', 'admType_URGENT', 'ptt',\n",
       "       'admType_EMERGENCY', 'creatinine', 'heartrate_min', 'bun', 'pt',\n",
       "       'glucose_max', 'potassium', 'resprate_max', 'glucose_min', 'lactate',\n",
       "       'age', 'eth_hispanic', 'bilirubin', 'first_icu_stay', 'first_hosp_stay',\n",
       "       'eth_asian', 'diasbp_mean', 'heartrate_max', 'spo2_min', 'spo2_mean',\n",
       "       'chloride', 'meanbp_mean', 'admType_NEWBORN', 'sysbp_min', 'glucose',\n",
       "       'resprate_mean'],\n",
       "      dtype='object')"
      ]
     },
     "execution_count": 40,
     "metadata": {},
     "output_type": "execute_result"
    }
   ],
   "source": [
    "least_five = np.argpartition(coefs, 15)[15:]\n",
    "least_five = least_five[np.argsort(coefs[least_five])]\n",
    "print(least_five)\n",
    "X_train[least_five].columns"
   ]
  },
  {
   "cell_type": "code",
   "execution_count": 41,
   "metadata": {
    "collapsed": false
   },
   "outputs": [
    {
     "name": "stdout",
     "output_type": "stream",
     "text": [
      "(27348, 3)\n"
     ]
    },
    {
     "data": {
      "text/html": [
       "<div>\n",
       "<table border=\"1\" class=\"dataframe\">\n",
       "  <thead>\n",
       "    <tr style=\"text-align: right;\">\n",
       "      <th></th>\n",
       "      <th>chartext</th>\n",
       "      <th>train</th>\n",
       "      <th>mort_icu</th>\n",
       "    </tr>\n",
       "  </thead>\n",
       "  <tbody>\n",
       "    <tr>\n",
       "      <th>0</th>\n",
       "      <td>[**2101-10-21**] 1:00 AM\\n CHEST (PORTABLE AP)...</td>\n",
       "      <td>0</td>\n",
       "      <td>0</td>\n",
       "    </tr>\n",
       "    <tr>\n",
       "      <th>1</th>\n",
       "      <td>[**2175-5-31**] 11:03 AM\\n RENAL TRANSPLANT U....</td>\n",
       "      <td>0</td>\n",
       "      <td>0</td>\n",
       "    </tr>\n",
       "    <tr>\n",
       "      <th>2</th>\n",
       "      <td>[**2149-11-10**] 11:07 AM\\n CT HEAD W/O CONTRA...</td>\n",
       "      <td>1</td>\n",
       "      <td>1</td>\n",
       "    </tr>\n",
       "    <tr>\n",
       "      <th>3</th>\n",
       "      <td>ADMIT NOTE\\nPLEASE SEE ADMISSION HISTORY/FHP.\\...</td>\n",
       "      <td>1</td>\n",
       "      <td>0</td>\n",
       "    </tr>\n",
       "    <tr>\n",
       "      <th>4</th>\n",
       "      <td>[**2167-1-9**] 6:11 AM\\n CHEST (PORTABLE AP)  ...</td>\n",
       "      <td>1</td>\n",
       "      <td>0</td>\n",
       "    </tr>\n",
       "  </tbody>\n",
       "</table>\n",
       "</div>"
      ],
      "text/plain": [
       "                                            chartext  train  mort_icu\n",
       "0  [**2101-10-21**] 1:00 AM\\n CHEST (PORTABLE AP)...      0         0\n",
       "1  [**2175-5-31**] 11:03 AM\\n RENAL TRANSPLANT U....      0         0\n",
       "2  [**2149-11-10**] 11:07 AM\\n CT HEAD W/O CONTRA...      1         1\n",
       "3  ADMIT NOTE\\nPLEASE SEE ADMISSION HISTORY/FHP.\\...      1         0\n",
       "4  [**2167-1-9**] 6:11 AM\\n CHEST (PORTABLE AP)  ...      1         0"
      ]
     },
     "execution_count": 41,
     "metadata": {},
     "output_type": "execute_result"
    }
   ],
   "source": [
    "adult_notes_raw = pd.read_csv(\"/home/pulkitmathur1800/csc2548_ml4h/adult_notes\")\n",
    "adult_notes_raw = adult_notes_raw.drop(['subject_id','hadm_id','icustay_id'],axis=1)\n",
    "print(adult_notes_raw.shape)\n",
    "adult_notes_raw.head()"
   ]
  },
  {
   "cell_type": "code",
   "execution_count": 42,
   "metadata": {
    "collapsed": false
   },
   "outputs": [
    {
     "data": {
      "image/png": "[encoded data removed]",
      "text/plain": [
       "<matplotlib.figure.Figure at 0x7f87fe498860>"
      ]
     },
     "metadata": {},
     "output_type": "display_data"
    }
   ],
   "source": [
    "sns.countplot(x='mort_icu',data=adult_notes_raw, palette='hls')\n",
    "plt.show()"
   ]
  },
  {
   "cell_type": "code",
   "execution_count": 43,
   "metadata": {
    "collapsed": false
   },
   "outputs": [
    {
     "data": {
      "text/html": [
       "<div>\n",
       "<table border=\"1\" class=\"dataframe\">\n",
       "  <thead>\n",
       "    <tr style=\"text-align: right;\">\n",
       "      <th></th>\n",
       "      <th>chartext</th>\n",
       "      <th>train</th>\n",
       "      <th>mort_icu</th>\n",
       "    </tr>\n",
       "  </thead>\n",
       "  <tbody>\n",
       "    <tr>\n",
       "      <th>0</th>\n",
       "      <td>[2101, 10, 21, 1, 00, AM, CHEST, PORTABLE, AP,...</td>\n",
       "      <td>0</td>\n",
       "      <td>0</td>\n",
       "    </tr>\n",
       "    <tr>\n",
       "      <th>1</th>\n",
       "      <td>[2175, 5, 31, 11, 03, AM, RENAL, TRANSPLANT, U...</td>\n",
       "      <td>0</td>\n",
       "      <td>0</td>\n",
       "    </tr>\n",
       "    <tr>\n",
       "      <th>2</th>\n",
       "      <td>[2149, 11, 10, 11, 07, AM, CT, HEAD, W, O, CON...</td>\n",
       "      <td>1</td>\n",
       "      <td>1</td>\n",
       "    </tr>\n",
       "    <tr>\n",
       "      <th>3</th>\n",
       "      <td>[ADMIT, NOTE, PLEASE, SEE, ADMISSION, HISTORY,...</td>\n",
       "      <td>1</td>\n",
       "      <td>0</td>\n",
       "    </tr>\n",
       "    <tr>\n",
       "      <th>4</th>\n",
       "      <td>[2167, 1, 9, 6, 11, AM, CHEST, PORTABLE, AP, C...</td>\n",
       "      <td>1</td>\n",
       "      <td>0</td>\n",
       "    </tr>\n",
       "  </tbody>\n",
       "</table>\n",
       "</div>"
      ],
      "text/plain": [
       "                                            chartext  train  mort_icu\n",
       "0  [2101, 10, 21, 1, 00, AM, CHEST, PORTABLE, AP,...      0         0\n",
       "1  [2175, 5, 31, 11, 03, AM, RENAL, TRANSPLANT, U...      0         0\n",
       "2  [2149, 11, 10, 11, 07, AM, CT, HEAD, W, O, CON...      1         1\n",
       "3  [ADMIT, NOTE, PLEASE, SEE, ADMISSION, HISTORY,...      1         0\n",
       "4  [2167, 1, 9, 6, 11, AM, CHEST, PORTABLE, AP, C...      1         0"
      ]
     },
     "execution_count": 43,
     "metadata": {},
     "output_type": "execute_result"
    }
   ],
   "source": [
    "#deleting punctuation\n",
    "from nltk.tokenize import RegexpTokenizer\n",
    "tokenizer = RegexpTokenizer(r'\\w+')\n",
    "adult_notes_raw['chartext'].dropna(inplace=True)\n",
    "adult_notes_raw.chartext = adult_notes_raw.chartext.apply(lambda x: tokenizer.tokenize(x))\n",
    "adult_notes_raw.head()"
   ]
  },
  {
   "cell_type": "code",
   "execution_count": 44,
   "metadata": {
    "collapsed": false
   },
   "outputs": [],
   "source": [
    "#deleting stopwords\n",
    "from nltk.corpus import stopwords\n",
    "stop_words = set(stopwords.words('english'))\n",
    "adult_notes_raw['chartext'].dropna(inplace=True)\n",
    "adult_notes_raw.chartext = adult_notes_raw.chartext.apply(lambda x: [item for item in x if item not in stop_words])"
   ]
  },
  {
   "cell_type": "code",
   "execution_count": 45,
   "metadata": {
    "collapsed": false
   },
   "outputs": [
    {
     "name": "stdout",
     "output_type": "stream",
     "text": [
      "0\n"
     ]
    }
   ],
   "source": [
    "#handling null values if any\n",
    "adult_notes_raw['chartext'].fillna(\"empty\", inplace=True)\n",
    "adult_notes_raw.chartext = adult_notes_raw.chartext.apply(lambda x: ' '.join(map(str, x)))\n",
    "print(adult_notes_raw.chartext.isnull().sum())"
   ]
  },
  {
   "cell_type": "code",
   "execution_count": 46,
   "metadata": {
    "collapsed": false
   },
   "outputs": [],
   "source": [
    "#train-test-split\n",
    "X2 = adult_notes_raw.drop(['mort_icu'],axis=1)\n",
    "X_train_notes,X_test_notes = X2.loc[X2['train']==1].drop(['train'],axis=1),X2.loc[X2['train']==0].drop(['train'],axis=1)\n",
    "Y2 = adult_notes_raw[['mort_icu','train']] \n",
    "Y_train_notes,Y_test_notes = Y2.loc[Y2['train']==1],Y2.loc[Y2['train']==0]\n",
    "Y_train_notes,Y_test_notes = Y_train_notes.drop(['train'],axis=1).values.squeeze(),Y_test_notes.drop(['train'],axis=1).values.squeeze()"
   ]
  },
  {
   "cell_type": "code",
   "execution_count": 47,
   "metadata": {
    "collapsed": false
   },
   "outputs": [],
   "source": [
    "from sklearn.feature_extraction.text import TfidfVectorizer\n",
    "v = TfidfVectorizer()\n",
    "X_train_notes = v.fit_transform(np.array(X_train_notes['chartext']))\n",
    "X_test_notes = v.transform(np.array(X_test_notes['chartext']))"
   ]
  },
  {
   "cell_type": "code",
   "execution_count": 48,
   "metadata": {
    "collapsed": false
   },
   "outputs": [
    {
     "name": "stdout",
     "output_type": "stream",
     "text": [
      "[[7225   75]\n",
      " [ 660  148]]\n",
      "Accuracy:  0.91761954262\n",
      "AUC:  83.984733148\n"
     ]
    }
   ],
   "source": [
    "notes_classifier = LogisticRegression(random_state=0,penalty=\"l1\", C=2)\n",
    "notes_classifier.fit(X_train_notes, Y_train_notes)\n",
    "Y_pred_notes = notes_classifier.predict(X_test_notes)\n",
    "matrix = confusion_matrix(Y_test_notes, Y_pred_notes)\n",
    "Y_test_notes_prob = notes_classifier.predict_proba(X_test_notes)\n",
    "print(matrix)\n",
    "print(\"Accuracy: \",notes_classifier.score(X_train_notes, Y_train_notes))\n",
    "print(\"AUC: \",roc_auc_score(Y_test_notes,Y_test_notes_prob[:,1])*100)"
   ]
  },
  {
   "cell_type": "code",
   "execution_count": 49,
   "metadata": {
    "collapsed": false
   },
   "outputs": [
    {
     "data": {
      "image/png": "[encoded data removed]",
      "text/plain": [
       "<matplotlib.figure.Figure at 0x7f8802c18438>"
      ]
     },
     "metadata": {},
     "output_type": "display_data"
    }
   ],
   "source": [
    "fpr, tpr,_=roc_curve(Y_test_notes,Y_test_notes_prob[:,1])\n",
    "plt.figure()\n",
    "plt.plot(fpr, tpr, color='red', lw=2, label='ROC curve')\n",
    "plt.plot([0, 1], [0, 1], color='blue', lw=2, linestyle='--')\n",
    "plt.xlabel('False Positive Rate')\n",
    "plt.ylabel('True Positive Rate')\n",
    "plt.title('ROC curve')\n",
    "plt.show()"
   ]
  },
  {
   "cell_type": "code",
   "execution_count": 50,
   "metadata": {
    "collapsed": false
   },
   "outputs": [
    {
     "data": {
      "text/plain": [
       "'deatails'"
      ]
     },
     "execution_count": 50,
     "metadata": {},
     "output_type": "execute_result"
    }
   ],
   "source": [
    "v.get_feature_names()[87736]"
   ]
  },
  {
   "cell_type": "code",
   "execution_count": 51,
   "metadata": {
    "collapsed": false
   },
   "outputs": [
    {
     "name": "stdout",
     "output_type": "stream",
     "text": [
      "[ 98634  82821 121776 124438  81962  87737 134053  92027  85169 140117]\n",
      "extensive\n",
      "comfort\n",
      "meeting\n",
      "mottled\n",
      "cmo\n",
      "death\n",
      "paucity\n",
      "dnr\n",
      "corneal\n",
      "prognosis\n"
     ]
    }
   ],
   "source": [
    "coefs = notes_classifier.coef_[0]\n",
    "top_five = np.argpartition(coefs, -10)[-10:]\n",
    "top_five = top_five[np.argsort(coefs[top_five])]\n",
    "print(top_five)\n",
    "for a in top_five:\n",
    "    print(v.get_feature_names()[a])"
   ]
  }
 ],
 "metadata": {
  "anaconda-cloud": {},
  "kernelspec": {
   "display_name": "Python [default]",
   "language": "python",
   "name": "python3"
  },
  "language_info": {
   "codemirror_mode": {
    "name": "ipython",
    "version": 3
   },
   "file_extension": ".py",
   "mimetype": "text/x-python",
   "name": "python",
   "nbconvert_exporter": "python",
   "pygments_lexer": "ipython3",
   "version": "3.5.2"
  }
 },
 "nbformat": 4,
 "nbformat_minor": 1
}
